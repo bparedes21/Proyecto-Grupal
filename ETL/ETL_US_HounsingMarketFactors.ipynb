{
 "cells": [
  {
   "cell_type": "code",
   "execution_count": 1,
   "metadata": {},
   "outputs": [],
   "source": [
    "# Importamos librerías necesarias\n",
    "import pandas as pd\n",
    "import numpy as np\n",
    "import os\n",
    "import glob"
   ]
  },
  {
   "cell_type": "code",
   "execution_count": 2,
   "metadata": {},
   "outputs": [],
   "source": [
    "from funcionesETL import *"
   ]
  },
  {
   "cell_type": "code",
   "execution_count": 3,
   "metadata": {},
   "outputs": [],
   "source": [
    "csv_files = glob.glob('*.csv')\n",
    "lista_data = []\n",
    "  \n",
    "# Creamos un bucle que recorre cada archivo csv de la carpeta, crea un df y lo agrega a una lista\n",
    "for filename in csv_files:\n",
    "    data = pd.read_csv(filename)\n",
    "    lista_data.append(data)"
   ]
  },
  {
   "cell_type": "code",
   "execution_count": 4,
   "metadata": {},
   "outputs": [],
   "source": [
    "# Diccionario que contiene cada df y le asigna como key el nombre del archivo correspondiente\n",
    "dicc_df = {'Annual Macroeconomic Factors':lista_data[0], 'Housing Macroeconomic Factors':lista_data[1], 'Monthly Macroeconomic Factors':lista_data[2]}"
   ]
  },
  {
   "cell_type": "markdown",
   "metadata": {},
   "source": [
    "## - Valores Nulos"
   ]
  },
  {
   "cell_type": "code",
   "execution_count": 6,
   "metadata": {},
   "outputs": [],
   "source": [
    "correccion_VF(dicc_df)"
   ]
  },
  {
   "cell_type": "code",
   "execution_count": 7,
   "metadata": {},
   "outputs": [
    {
     "name": "stdout",
     "output_type": "stream",
     "text": [
      "Annual Macroeconomic Factors \n",
      "\n",
      "Date \t 0.0 %\n",
      "House_Price_Index \t 0.0 %\n",
      "Stock_Price_Index \t 0.0 %\n",
      "Consumer_Price_Index \t 0.0 %\n",
      "Population \t 0.0 %\n",
      "Unemployment_Rate \t 0.0 %\n",
      "Real_GDP \t 0.0 %\n",
      "Mortgage_Rate \t 0.0 %\n",
      "Real_Disposable_Income \t 0.0 %\n",
      "\n",
      "\n",
      "\n",
      "Housing Macroeconomic Factors \n",
      "\n",
      "Date \t 0.0 %\n",
      "house_price_index \t 0.0 %\n",
      "population \t 0.0 %\n",
      "house_supply \t 0.0 %\n",
      "gdp \t 0.0 %\n",
      "mortgage_rate \t 0.0 %\n",
      "employment_rate \t 0.0 %\n",
      "permit_new \t 0.0 %\n",
      "ppi_res \t 0.0 %\n",
      "m3 \t 0.0 %\n",
      "cci \t 0.0 %\n",
      "delinquency_rate \t 0.0 %\n",
      "hcai \t 0.0 %\n",
      "\n",
      "\n",
      "\n",
      "Monthly Macroeconomic Factors \n",
      "\n",
      "Date \t 0.0 %\n",
      "House_Price_Index \t 0.0 %\n",
      "Stock_Price_Index \t 0.0 %\n",
      "Consumer_Price_Index \t 0.0 %\n",
      "Population \t 0.0 %\n",
      "Unemployment_Rate \t 0.0 %\n",
      "Real_GDP \t 0.0 %\n",
      "Mortgage_Rate \t 0.0 %\n",
      "Real_Disposable_Income \t 0.0 %\n",
      "\n",
      "\n",
      "\n"
     ]
    }
   ],
   "source": [
    "# Verificación\n",
    "for key in dicc_df:\n",
    "    col = dicc_df[key].columns\n",
    "    print(key,'\\n')\n",
    "    for e in col:\n",
    "        print(e,'\\t',round(len(dicc_df[key][e][dicc_df[key][e].isnull()])/len(dicc_df[key])*100,2),'%')\n",
    "    print('\\n\\n')"
   ]
  }
 ],
 "metadata": {
  "kernelspec": {
   "display_name": "Python 3.10.6 64-bit",
   "language": "python",
   "name": "python3"
  },
  "language_info": {
   "codemirror_mode": {
    "name": "ipython",
    "version": 3
   },
   "file_extension": ".py",
   "mimetype": "text/x-python",
   "name": "python",
   "nbconvert_exporter": "python",
   "pygments_lexer": "ipython3",
   "version": "3.10.6"
  },
  "orig_nbformat": 4,
  "vscode": {
   "interpreter": {
    "hash": "c63d8c7d738c2960218a10995aedf0a7f67a49a231e71037adf0440953cdb45b"
   }
  }
 },
 "nbformat": 4,
 "nbformat_minor": 2
}
