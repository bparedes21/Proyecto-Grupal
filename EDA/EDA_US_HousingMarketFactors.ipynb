{
 "cells": [
  {
   "cell_type": "code",
   "execution_count": 1,
   "metadata": {},
   "outputs": [],
   "source": [
    "# Importamos librerías necesarias\n",
    "import pandas as pd\n",
    "import os\n",
    "import glob\n",
    "import seaborn as sns\n",
    "\n",
    "pd.pandas.set_option('display.max_columns', None) # Mostrar todas las columnas"
   ]
  },
  {
   "cell_type": "code",
   "execution_count": 2,
   "metadata": {},
   "outputs": [],
   "source": [
    "from funcionesEDA import *"
   ]
  },
  {
   "cell_type": "code",
   "execution_count": 3,
   "metadata": {},
   "outputs": [],
   "source": [
    "csv_files = glob.glob('*.csv')\n",
    "lista_data = []\n",
    "  \n",
    "# Creamos un bucle que recorre cada archivo csv de la carpeta, crea un df y lo agrega a una lista\n",
    "for filename in csv_files:\n",
    "    data = pd.read_csv(filename)\n",
    "    lista_data.append(data)"
   ]
  },
  {
   "cell_type": "code",
   "execution_count": 4,
   "metadata": {},
   "outputs": [],
   "source": [
    "# Diccionario que contiene cada df y le asigna como key el nombre del archivo correspondiente\n",
    "dicc_df = {'Annual Macroeconomic Factors':lista_data[0], 'Housing Macroeconomic Factors':lista_data[1], 'Monthly Macroeconomic Factors':lista_data[2]}"
   ]
  },
  {
   "cell_type": "code",
   "execution_count": 5,
   "metadata": {},
   "outputs": [
    {
     "name": "stdout",
     "output_type": "stream",
     "text": [
      "Annual Macroeconomic Factors \n",
      "\n",
      "          Date  House_Price_Index  Stock_Price_Index  Consumer_Price_Index  \\\n",
      "0  1975-01-01            61.0900           67.14653              65.30488   \n",
      "1  1976-01-01            65.5250           79.96264              69.05653   \n",
      "2  1977-01-01            73.4350           78.82540              73.54636   \n",
      "3  1978-01-01            83.7450           78.84679              79.15866   \n",
      "4  1979-01-01            95.1325           85.63207              88.06755   \n",
      "\n",
      "   Population  Unemployment_Rate  Real_GDP  Mortgage_Rate  \\\n",
      "0     0.98599            8.46667  5648.462        9.04712   \n",
      "1     0.95022            7.71667  5952.809        8.86585   \n",
      "2     1.00577            7.06667  6228.076        8.84519   \n",
      "3     1.05957            6.06667  6572.819        9.64173   \n",
      "4     1.10358            5.83333  6780.924       11.20365   \n",
      "\n",
      "   Real_Disposable_Income  \n",
      "0                 19908.0  \n",
      "1                 20346.0  \n",
      "2                 20780.0  \n",
      "3                 21497.0  \n",
      "4                 21672.0   \n",
      "\n",
      "\n",
      "Housing Macroeconomic Factors \n",
      "\n",
      "          Date  house_price_index  population  house_supply        gdp  \\\n",
      "0  1987-01-01             63.965      241857           6.0  99.902813   \n",
      "1  1987-02-01             64.424      242005           6.2  99.875864   \n",
      "2  1987-03-01             64.735      242166           6.0  99.869734   \n",
      "3  1987-04-01             65.132      242338           6.0  99.882087   \n",
      "4  1987-05-01             65.565      242516           6.7  99.910371   \n",
      "\n",
      "   mortgage_rate  employment_rate  permit_new  ppi_res      m3       cci  \\\n",
      "0         9.2040        70.163085      1690.0    100.0  2.7439  100.4624   \n",
      "1         9.0825        70.289205      1689.0    100.4  2.7475  100.4945   \n",
      "2         9.0350        70.321678      1704.0    100.7  2.7537  100.5720   \n",
      "3         9.8325        70.499062      1601.0    101.1  2.7677  100.6568   \n",
      "4        10.5960        70.808308      1500.0    101.3  2.7729  100.6919   \n",
      "\n",
      "   delinquency_rate  hcai  \n",
      "0               NaN   NaN  \n",
      "1               NaN   NaN  \n",
      "2               NaN   NaN  \n",
      "3               NaN   NaN  \n",
      "4               NaN   NaN   \n",
      "\n",
      "\n",
      "Monthly Macroeconomic Factors \n",
      "\n",
      "          Date  House_Price_Index  Stock_Price_Index  Consumer_Price_Index  \\\n",
      "0  1987-01-01             63.735           14.97068              46.91647   \n",
      "1  1987-02-01             64.134           15.86818              47.08523   \n",
      "2  1987-03-01             64.470           16.48206              47.29619   \n",
      "3  1987-04-01             64.974           16.22884              47.54933   \n",
      "4  1987-05-01             65.549           16.14232              47.71810   \n",
      "\n",
      "    Population  Unemployment_Rate  Real_GDP  Mortgage_Rate  \\\n",
      "0  153968000.0                6.6   2.41735         9.2040   \n",
      "1  154123000.0                6.6   4.57724         9.0825   \n",
      "2  154229000.0                6.6   3.87276         9.0350   \n",
      "3  154362000.0                6.3   4.83973         9.8325   \n",
      "4  154490000.0                6.3   4.51565        10.5960   \n",
      "\n",
      "   Real_Disposable_Income  \n",
      "0                  6159.5  \n",
      "1                  6192.1  \n",
      "2                  6200.0  \n",
      "3                  5967.2  \n",
      "4                  6209.1   \n",
      "\n",
      "\n"
     ]
    }
   ],
   "source": [
    "for key in dicc_df:\n",
    "    print(key,'\\n\\n',dicc_df[key].head(5),'\\n\\n')"
   ]
  },
  {
   "cell_type": "code",
   "execution_count": 6,
   "metadata": {},
   "outputs": [
    {
     "name": "stdout",
     "output_type": "stream",
     "text": [
      "<class 'pandas.core.frame.DataFrame'>\n",
      "RangeIndex: 47 entries, 0 to 46\n",
      "Data columns (total 9 columns):\n",
      " #   Column                  Non-Null Count  Dtype  \n",
      "---  ------                  --------------  -----  \n",
      " 0   Date                    47 non-null     object \n",
      " 1   House_Price_Index       47 non-null     float64\n",
      " 2   Stock_Price_Index       47 non-null     float64\n",
      " 3   Consumer_Price_Index    47 non-null     float64\n",
      " 4   Population              47 non-null     float64\n",
      " 5   Unemployment_Rate       47 non-null     float64\n",
      " 6   Real_GDP                47 non-null     float64\n",
      " 7   Mortgage_Rate           47 non-null     float64\n",
      " 8   Real_Disposable_Income  47 non-null     float64\n",
      "dtypes: float64(8), object(1)\n",
      "memory usage: 3.4+ KB\n",
      "Annual Macroeconomic Factors \n",
      "\n",
      " None \n",
      "\n",
      "\n",
      "<class 'pandas.core.frame.DataFrame'>\n",
      "RangeIndex: 425 entries, 0 to 424\n",
      "Data columns (total 13 columns):\n",
      " #   Column             Non-Null Count  Dtype  \n",
      "---  ------             --------------  -----  \n",
      " 0   Date               425 non-null    object \n",
      " 1   house_price_index  425 non-null    float64\n",
      " 2   population         425 non-null    int64  \n",
      " 3   house_supply       425 non-null    float64\n",
      " 4   gdp                422 non-null    float64\n",
      " 5   mortgage_rate      422 non-null    float64\n",
      " 6   employment_rate    422 non-null    float64\n",
      " 7   permit_new         422 non-null    float64\n",
      " 8   ppi_res            422 non-null    float64\n",
      " 9   m3                 422 non-null    float64\n",
      " 10  cci                422 non-null    float64\n",
      " 11  delinquency_rate   374 non-null    float64\n",
      " 12  hcai               285 non-null    float64\n",
      "dtypes: float64(11), int64(1), object(1)\n",
      "memory usage: 43.3+ KB\n",
      "Housing Macroeconomic Factors \n",
      "\n",
      " None \n",
      "\n",
      "\n",
      "<class 'pandas.core.frame.DataFrame'>\n",
      "RangeIndex: 423 entries, 0 to 422\n",
      "Data columns (total 9 columns):\n",
      " #   Column                  Non-Null Count  Dtype  \n",
      "---  ------                  --------------  -----  \n",
      " 0   Date                    423 non-null    object \n",
      " 1   House_Price_Index       423 non-null    float64\n",
      " 2   Stock_Price_Index       423 non-null    float64\n",
      " 3   Consumer_Price_Index    423 non-null    float64\n",
      " 4   Population              423 non-null    float64\n",
      " 5   Unemployment_Rate       423 non-null    float64\n",
      " 6   Real_GDP                423 non-null    float64\n",
      " 7   Mortgage_Rate           423 non-null    float64\n",
      " 8   Real_Disposable_Income  423 non-null    float64\n",
      "dtypes: float64(8), object(1)\n",
      "memory usage: 29.9+ KB\n",
      "Monthly Macroeconomic Factors \n",
      "\n",
      " None \n",
      "\n",
      "\n"
     ]
    }
   ],
   "source": [
    "for key in dicc_df:\n",
    "    print(key,'\\n\\n',dicc_df[key].info(),'\\n\\n')"
   ]
  },
  {
   "cell_type": "code",
   "execution_count": 7,
   "metadata": {},
   "outputs": [
    {
     "name": "stdout",
     "output_type": "stream",
     "text": [
      "Annual Macroeconomic Factors \n",
      "\n",
      "        House_Price_Index  Stock_Price_Index  Consumer_Price_Index  Population  \\\n",
      "count          47.000000          47.000000             47.000000   47.000000   \n",
      "mean          240.145585         743.127265            198.587797    0.935152   \n",
      "std           120.405988         588.510811             75.577467    0.231639   \n",
      "min            61.090000          67.146530             65.304880    0.118380   \n",
      "25%           140.788750         209.898725            135.443420    0.862650   \n",
      "50%           211.462500         756.555290            197.805640    0.945870   \n",
      "75%           339.353750        1114.174615            262.933360    1.081575   \n",
      "max           523.260000        2255.843700            328.813530    1.386890   \n",
      "\n",
      "       Unemployment_Rate      Real_GDP  Mortgage_Rate  Real_Disposable_Income  \n",
      "count          47.000000     47.000000      47.000000               47.000000  \n",
      "mean            6.310108  12140.355319       7.781053            32040.936170  \n",
      "std             1.623767   4243.074608       3.409098             8006.301392  \n",
      "min             3.666670   5648.462000       2.957690            19908.000000  \n",
      "25%             5.166670   8374.041000       4.863175            25432.500000  \n",
      "50%             5.991670  12045.824000       7.440000            31712.000000  \n",
      "75%             7.441665  15645.976500       9.885575            38235.000000  \n",
      "max             9.708330  19427.287000      16.641510            48219.000000   \n",
      "\n",
      "\n",
      "Housing Macroeconomic Factors \n",
      "\n",
      "        house_price_index     population  house_supply         gdp  \\\n",
      "count         425.000000     425.000000    425.000000  422.000000   \n",
      "mean          135.887280  291988.251765      5.813412   99.955457   \n",
      "std            53.684802   28193.599715      1.691079    1.124453   \n",
      "min            63.965000  241857.000000      3.300000   91.543057   \n",
      "25%            81.620000  267829.000000      4.400000   99.559318   \n",
      "50%           139.727000  293857.000000      5.500000   99.977924   \n",
      "75%           174.802000  317156.000000      6.700000  100.556927   \n",
      "max           304.831000  332928.000000     12.200000  101.825852   \n",
      "\n",
      "       mortgage_rate  employment_rate   permit_new     ppi_res          m3  \\\n",
      "count     422.000000       422.000000   422.000000  422.000000  422.000000   \n",
      "mean        6.328301        70.759327  1346.962085  166.813685    7.666456   \n",
      "std         2.209432         2.247253   394.776877   43.943882    4.656247   \n",
      "min         2.684000        60.261014   513.000000  100.000000    2.743900   \n",
      "25%         4.266250        69.317138  1077.250000  133.500000    3.615025   \n",
      "50%         6.257250        71.221613  1362.000000  154.750000    6.297450   \n",
      "75%         7.912000        72.281388  1614.750000  207.400000   10.617625   \n",
      "max        11.260000        74.507436  2263.000000  303.546000   21.749700   \n",
      "\n",
      "              cci  delinquency_rate        hcai  \n",
      "count  422.000000        374.000000  285.000000  \n",
      "mean   100.124667          3.984947    8.981895  \n",
      "std      1.466327          2.912758    6.855745  \n",
      "min     96.460330          1.400000    2.293000  \n",
      "25%     99.106098          2.130000    2.642000  \n",
      "50%    100.498000          2.470000    5.958000  \n",
      "75%    101.063150          4.490000   15.779000  \n",
      "max    102.977600         11.360000   21.774000   \n",
      "\n",
      "\n",
      "Monthly Macroeconomic Factors \n",
      "\n",
      "        House_Price_Index  Stock_Price_Index  Consumer_Price_Index  \\\n",
      "count         423.000000         423.000000            423.000000   \n",
      "mean          135.083369          65.385903             80.948000   \n",
      "std            52.534574          36.084675             19.082168   \n",
      "min            63.735000          13.357500             46.916470   \n",
      "25%            81.573000          31.162615             64.784385   \n",
      "50%           138.765000          63.198750             80.036450   \n",
      "75%           175.055000          91.289865             98.303920   \n",
      "max           294.717000         159.942830            121.301000   \n",
      "\n",
      "         Population  Unemployment_Rate    Real_GDP  Mortgage_Rate  \\\n",
      "count  4.230000e+02         423.000000  423.000000     423.000000   \n",
      "mean   1.851876e+08           5.860284    2.450521       6.323203   \n",
      "std    1.771568e+07           1.651219    6.164322       2.209302   \n",
      "min    1.539680e+08           3.500000  -71.284950       2.684000   \n",
      "25%    1.676905e+08           4.700000    1.118375       4.260000   \n",
      "50%    1.890230e+08           5.500000    2.810690       6.252500   \n",
      "75%    2.022080e+08           6.600000    4.211295       7.912000   \n",
      "max    2.073970e+08          14.700000   48.355870      11.260000   \n",
      "\n",
      "       Real_Disposable_Income  \n",
      "count              423.000000  \n",
      "mean             10527.899291  \n",
      "std               2825.070432  \n",
      "min               5967.200000  \n",
      "25%               7801.600000  \n",
      "50%              10670.300000  \n",
      "75%              12453.000000  \n",
      "max              19119.500000   \n",
      "\n",
      "\n"
     ]
    }
   ],
   "source": [
    "for key in dicc_df:\n",
    "    print(key,'\\n\\n',dicc_df[key].describe(exclude='object'),'\\n\\n')"
   ]
  },
  {
   "cell_type": "markdown",
   "metadata": {},
   "source": [
    "## - Valores Nulos"
   ]
  },
  {
   "cell_type": "code",
   "execution_count": 8,
   "metadata": {},
   "outputs": [
    {
     "name": "stdout",
     "output_type": "stream",
     "text": [
      "Annual Macroeconomic Factors \n",
      "\n",
      "Date \t 0.0 %\n",
      "House_Price_Index \t 0.0 %\n",
      "Stock_Price_Index \t 0.0 %\n",
      "Consumer_Price_Index \t 0.0 %\n",
      "Population \t 0.0 %\n",
      "Unemployment_Rate \t 0.0 %\n",
      "Real_GDP \t 0.0 %\n",
      "Mortgage_Rate \t 0.0 %\n",
      "Real_Disposable_Income \t 0.0 %\n",
      "\n",
      "\n",
      "\n",
      "Housing Macroeconomic Factors \n",
      "\n",
      "Date \t 0.0 %\n",
      "house_price_index \t 0.0 %\n",
      "population \t 0.0 %\n",
      "house_supply \t 0.0 %\n",
      "gdp \t 0.71 %\n",
      "mortgage_rate \t 0.71 %\n",
      "employment_rate \t 0.71 %\n",
      "permit_new \t 0.71 %\n",
      "ppi_res \t 0.71 %\n",
      "m3 \t 0.71 %\n",
      "cci \t 0.71 %\n",
      "delinquency_rate \t 12.0 %\n",
      "hcai \t 32.94 %\n",
      "\n",
      "\n",
      "\n",
      "Monthly Macroeconomic Factors \n",
      "\n",
      "Date \t 0.0 %\n",
      "House_Price_Index \t 0.0 %\n",
      "Stock_Price_Index \t 0.0 %\n",
      "Consumer_Price_Index \t 0.0 %\n",
      "Population \t 0.0 %\n",
      "Unemployment_Rate \t 0.0 %\n",
      "Real_GDP \t 0.0 %\n",
      "Mortgage_Rate \t 0.0 %\n",
      "Real_Disposable_Income \t 0.0 %\n",
      "\n",
      "\n",
      "\n"
     ]
    }
   ],
   "source": [
    "# Buscamos registros faltantes por columna\n",
    "valores_faltantes(dicc_df)"
   ]
  },
  {
   "cell_type": "markdown",
   "metadata": {},
   "source": [
    "## -- Registros Duplicados"
   ]
  },
  {
   "cell_type": "code",
   "execution_count": 9,
   "metadata": {},
   "outputs": [
    {
     "name": "stdout",
     "output_type": "stream",
     "text": [
      "Annual Macroeconomic Factors : 0\n",
      "Housing Macroeconomic Factors : 0\n",
      "Monthly Macroeconomic Factors : 0\n"
     ]
    }
   ],
   "source": [
    "registros_duplicados(dicc_df)"
   ]
  },
  {
   "cell_type": "markdown",
   "metadata": {},
   "source": [
    "## -- Outliers"
   ]
  },
  {
   "cell_type": "code",
   "execution_count": 10,
   "metadata": {},
   "outputs": [
    {
     "name": "stdout",
     "output_type": "stream",
     "text": [
      "\n",
      "\n",
      "Housing Macroeconomic Factors\n",
      "house_supply\n",
      "Q1:  4.4\n",
      "Q3:  6.7\n",
      "IQR:  2.3\n",
      "BI:  0.9500000000000006\n",
      "BS:  10.15\n",
      "Hay 14 valores atípicos en la variable house_supply\n",
      "\n",
      "\n",
      "Housing Macroeconomic Factors\n",
      "m3\n",
      "Q1:  3.615025\n",
      "Q3:  10.617625\n",
      "IQR:  7.0026\n",
      "BI:  -6.888875\n",
      "BS:  21.121525\n",
      "Hay 5 valores atípicos en la variable m3\n",
      "\n",
      "\n",
      "Housing Macroeconomic Factors\n",
      "delinquency_rate\n",
      "Q1:  2.13\n",
      "Q3:  4.49\n",
      "IQR:  2.3600000000000003\n",
      "BI:  -1.4100000000000006\n",
      "BS:  8.030000000000001\n",
      "Hay 57 valores atípicos en la variable delinquency_rate\n",
      "\n",
      "\n",
      "Monthly Macroeconomic Factors\n",
      "Unemployment_Rate\n",
      "Q1:  4.7\n",
      "Q3:  6.6\n",
      "IQR:  1.8999999999999995\n",
      "BI:  1.850000000000001\n",
      "BS:  9.45\n",
      "Hay 19 valores atípicos en la variable Unemployment_Rate\n",
      "\n",
      "\n",
      "Monthly Macroeconomic Factors\n",
      "Real_GDP\n",
      "Q1:  1.118375\n",
      "Q3:  4.211295\n",
      "IQR:  3.09292\n",
      "BI:  -3.521005\n",
      "BS:  8.850674999999999\n",
      "Hay 26 valores atípicos en la variable Real_GDP\n"
     ]
    },
    {
     "name": "stderr",
     "output_type": "stream",
     "text": [
      "c:\\Users\\Usuario\\Desktop\\2- Grupal\\House_Market\\Datasets\\1- U.S. Housing Market Factors\\funcionesEDA.py:54: FutureWarning: The default dtype for empty Series will be 'object' instead of 'float64' in a future version. Specify a dtype explicitly to silence this warning.\n",
      "  size = len(pd.Series(outliers).unique())\n"
     ]
    }
   ],
   "source": [
    "cantidad_outliers(dicc_df)"
   ]
  }
 ],
 "metadata": {
  "kernelspec": {
   "display_name": "Python 3.10.6 64-bit",
   "language": "python",
   "name": "python3"
  },
  "language_info": {
   "codemirror_mode": {
    "name": "ipython",
    "version": 3
   },
   "file_extension": ".py",
   "mimetype": "text/x-python",
   "name": "python",
   "nbconvert_exporter": "python",
   "pygments_lexer": "ipython3",
   "version": "3.10.6"
  },
  "orig_nbformat": 4,
  "vscode": {
   "interpreter": {
    "hash": "c63d8c7d738c2960218a10995aedf0a7f67a49a231e71037adf0440953cdb45b"
   }
  }
 },
 "nbformat": 4,
 "nbformat_minor": 2
}
