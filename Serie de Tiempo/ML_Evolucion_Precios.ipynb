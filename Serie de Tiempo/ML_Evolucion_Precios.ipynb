{
 "cells": [
  {
   "cell_type": "markdown",
   "metadata": {},
   "source": [
    "El objetivo de la siguiente prediccion es determinar la evolución de los precios."
   ]
  },
  {
   "cell_type": "code",
   "execution_count": 1,
   "metadata": {},
   "outputs": [],
   "source": [
    "import numpy as np\n",
    "import pandas as pd\n",
    "import matplotlib.pyplot as plt\n",
    "\n",
    "\n",
    "import statsmodels as sm\n",
    "from statsmodels.graphics import tsaplots\n",
    "\n",
    "from statsmodels.tsa.statespace.sarimax import SARIMAX\n",
    "\n",
    "from statsmodels.tsa.seasonal import seasonal_decompose \n",
    "from pmdarima import auto_arima                        \n",
    "from sklearn.metrics import mean_squared_error\n",
    "\n",
    "import warnings\n",
    "from statsmodels.tsa.arima_model import ARIMA\n",
    "warnings.filterwarnings(\"ignore\")"
   ]
  },
  {
   "cell_type": "code",
   "execution_count": 2,
   "metadata": {},
   "outputs": [],
   "source": [
    "data = pd.read_csv('State_time_series_Final.csv')"
   ]
  },
  {
   "cell_type": "code",
   "execution_count": 3,
   "metadata": {},
   "outputs": [],
   "source": [
    "data['Date'] = pd.to_datetime(data.Date)"
   ]
  },
  {
   "cell_type": "code",
   "execution_count": 4,
   "metadata": {},
   "outputs": [
    {
     "data": {
      "text/html": [
       "<div>\n",
       "<style scoped>\n",
       "    .dataframe tbody tr th:only-of-type {\n",
       "        vertical-align: middle;\n",
       "    }\n",
       "\n",
       "    .dataframe tbody tr th {\n",
       "        vertical-align: top;\n",
       "    }\n",
       "\n",
       "    .dataframe thead th {\n",
       "        text-align: right;\n",
       "    }\n",
       "</style>\n",
       "<table border=\"1\" class=\"dataframe\">\n",
       "  <thead>\n",
       "    <tr style=\"text-align: right;\">\n",
       "      <th></th>\n",
       "      <th>Date</th>\n",
       "      <th>MedianListingPrice_AllHomes</th>\n",
       "      <th>Sale_Prices</th>\n",
       "      <th>Sale_Counts</th>\n",
       "    </tr>\n",
       "  </thead>\n",
       "  <tbody>\n",
       "    <tr>\n",
       "      <th>0</th>\n",
       "      <td>2012-01-31</td>\n",
       "      <td>149900.0</td>\n",
       "      <td>181050.0</td>\n",
       "      <td>2603.0</td>\n",
       "    </tr>\n",
       "    <tr>\n",
       "      <th>1</th>\n",
       "      <td>2012-01-31</td>\n",
       "      <td>229000.0</td>\n",
       "      <td>181050.0</td>\n",
       "      <td>5173.0</td>\n",
       "    </tr>\n",
       "    <tr>\n",
       "      <th>2</th>\n",
       "      <td>2012-01-31</td>\n",
       "      <td>207500.0</td>\n",
       "      <td>127100.0</td>\n",
       "      <td>9164.0</td>\n",
       "    </tr>\n",
       "    <tr>\n",
       "      <th>3</th>\n",
       "      <td>2012-01-31</td>\n",
       "      <td>139900.0</td>\n",
       "      <td>181050.0</td>\n",
       "      <td>1514.0</td>\n",
       "    </tr>\n",
       "    <tr>\n",
       "      <th>4</th>\n",
       "      <td>2012-01-31</td>\n",
       "      <td>207500.0</td>\n",
       "      <td>245000.0</td>\n",
       "      <td>27029.0</td>\n",
       "    </tr>\n",
       "    <tr>\n",
       "      <th>...</th>\n",
       "      <td>...</td>\n",
       "      <td>...</td>\n",
       "      <td>...</td>\n",
       "      <td>...</td>\n",
       "    </tr>\n",
       "    <tr>\n",
       "      <th>3667</th>\n",
       "      <td>2017-12-31</td>\n",
       "      <td>289000.0</td>\n",
       "      <td>181050.0</td>\n",
       "      <td>5173.0</td>\n",
       "    </tr>\n",
       "    <tr>\n",
       "      <th>3668</th>\n",
       "      <td>2017-12-31</td>\n",
       "      <td>349950.0</td>\n",
       "      <td>181050.0</td>\n",
       "      <td>5173.0</td>\n",
       "    </tr>\n",
       "    <tr>\n",
       "      <th>3669</th>\n",
       "      <td>2017-12-31</td>\n",
       "      <td>149900.0</td>\n",
       "      <td>181050.0</td>\n",
       "      <td>5173.0</td>\n",
       "    </tr>\n",
       "    <tr>\n",
       "      <th>3670</th>\n",
       "      <td>2017-12-31</td>\n",
       "      <td>189900.0</td>\n",
       "      <td>181050.0</td>\n",
       "      <td>5173.0</td>\n",
       "    </tr>\n",
       "    <tr>\n",
       "      <th>3671</th>\n",
       "      <td>2017-12-31</td>\n",
       "      <td>237500.0</td>\n",
       "      <td>181050.0</td>\n",
       "      <td>5173.0</td>\n",
       "    </tr>\n",
       "  </tbody>\n",
       "</table>\n",
       "<p>3672 rows × 4 columns</p>\n",
       "</div>"
      ],
      "text/plain": [
       "           Date  MedianListingPrice_AllHomes  Sale_Prices  Sale_Counts\n",
       "0    2012-01-31                     149900.0     181050.0       2603.0\n",
       "1    2012-01-31                     229000.0     181050.0       5173.0\n",
       "2    2012-01-31                     207500.0     127100.0       9164.0\n",
       "3    2012-01-31                     139900.0     181050.0       1514.0\n",
       "4    2012-01-31                     207500.0     245000.0      27029.0\n",
       "...         ...                          ...          ...          ...\n",
       "3667 2017-12-31                     289000.0     181050.0       5173.0\n",
       "3668 2017-12-31                     349950.0     181050.0       5173.0\n",
       "3669 2017-12-31                     149900.0     181050.0       5173.0\n",
       "3670 2017-12-31                     189900.0     181050.0       5173.0\n",
       "3671 2017-12-31                     237500.0     181050.0       5173.0\n",
       "\n",
       "[3672 rows x 4 columns]"
      ]
     },
     "execution_count": 4,
     "metadata": {},
     "output_type": "execute_result"
    }
   ],
   "source": [
    "df_ts = pd.DataFrame(zip(data['Date'], data['MedianListingPrice_AllHomes'],data['Sale_Prices'], data['Sale_Counts']),\n",
    "        columns=['Date', 'MedianListingPrice_AllHomes','Sale_Prices', 'Sale_Counts'])\n",
    "\n",
    "data_drop = df_ts.dropna(thresh=3)\n",
    "data_drop.reset_index(drop = True)"
   ]
  },
  {
   "cell_type": "code",
   "execution_count": 5,
   "metadata": {},
   "outputs": [],
   "source": [
    "data_drop['Sales'] = df_ts['Sale_Prices']*df_ts['Sale_Counts']"
   ]
  },
  {
   "cell_type": "code",
   "execution_count": 6,
   "metadata": {},
   "outputs": [
    {
     "data": {
      "text/html": [
       "<div>\n",
       "<style scoped>\n",
       "    .dataframe tbody tr th:only-of-type {\n",
       "        vertical-align: middle;\n",
       "    }\n",
       "\n",
       "    .dataframe tbody tr th {\n",
       "        vertical-align: top;\n",
       "    }\n",
       "\n",
       "    .dataframe thead th {\n",
       "        text-align: right;\n",
       "    }\n",
       "</style>\n",
       "<table border=\"1\" class=\"dataframe\">\n",
       "  <thead>\n",
       "    <tr style=\"text-align: right;\">\n",
       "      <th></th>\n",
       "      <th>Date</th>\n",
       "      <th>MedianListingPrice_AllHomes</th>\n",
       "      <th>Sale_Prices</th>\n",
       "      <th>Sale_Counts</th>\n",
       "      <th>Sales</th>\n",
       "    </tr>\n",
       "  </thead>\n",
       "  <tbody>\n",
       "    <tr>\n",
       "      <th>0</th>\n",
       "      <td>2012-01-31</td>\n",
       "      <td>149900.0</td>\n",
       "      <td>181050.0</td>\n",
       "      <td>2603.0</td>\n",
       "      <td>4.712732e+08</td>\n",
       "    </tr>\n",
       "    <tr>\n",
       "      <th>1</th>\n",
       "      <td>2012-01-31</td>\n",
       "      <td>229000.0</td>\n",
       "      <td>181050.0</td>\n",
       "      <td>5173.0</td>\n",
       "      <td>9.365716e+08</td>\n",
       "    </tr>\n",
       "    <tr>\n",
       "      <th>2</th>\n",
       "      <td>2012-01-31</td>\n",
       "      <td>207500.0</td>\n",
       "      <td>127100.0</td>\n",
       "      <td>9164.0</td>\n",
       "      <td>1.164744e+09</td>\n",
       "    </tr>\n",
       "  </tbody>\n",
       "</table>\n",
       "</div>"
      ],
      "text/plain": [
       "        Date  MedianListingPrice_AllHomes  Sale_Prices  Sale_Counts  \\\n",
       "0 2012-01-31                     149900.0     181050.0       2603.0   \n",
       "1 2012-01-31                     229000.0     181050.0       5173.0   \n",
       "2 2012-01-31                     207500.0     127100.0       9164.0   \n",
       "\n",
       "          Sales  \n",
       "0  4.712732e+08  \n",
       "1  9.365716e+08  \n",
       "2  1.164744e+09  "
      ]
     },
     "execution_count": 6,
     "metadata": {},
     "output_type": "execute_result"
    }
   ],
   "source": [
    "data_drop.head(3)"
   ]
  },
  {
   "cell_type": "code",
   "execution_count": 7,
   "metadata": {},
   "outputs": [],
   "source": [
    "for col in df_ts.columns:\n",
    "    # Determina si hay outliers para separarlos y poder imputar los valores faltantes de manera que no se vean afectados\n",
    "    # por los valores atípicos\n",
    "    if df_ts.loc[:,col].dtype!=object:\n",
    "\n",
    "        Q1 = df_ts[col].quantile(0.25)\n",
    "        Q3 = df_ts[col].quantile(0.75)\n",
    "        IQR = Q3 - Q1\n",
    "        BI = Q1 - 1.5*IQR\n",
    "        BS = Q3 + 1.5*IQR\n",
    "\n",
    "        out = (df_ts[col] < BI) | (df_ts[col] > BS)\n",
    "    \n",
    "    data_drop[col] = df_ts[col][~out]"
   ]
  },
  {
   "cell_type": "code",
   "execution_count": 8,
   "metadata": {},
   "outputs": [
    {
     "data": {
      "text/plain": [
       "72"
      ]
     },
     "execution_count": 8,
     "metadata": {},
     "output_type": "execute_result"
    }
   ],
   "source": [
    "len(df_ts.Date.unique())"
   ]
  },
  {
   "cell_type": "code",
   "execution_count": 9,
   "metadata": {},
   "outputs": [
    {
     "data": {
      "text/html": [
       "<div>\n",
       "<style scoped>\n",
       "    .dataframe tbody tr th:only-of-type {\n",
       "        vertical-align: middle;\n",
       "    }\n",
       "\n",
       "    .dataframe tbody tr th {\n",
       "        vertical-align: top;\n",
       "    }\n",
       "\n",
       "    .dataframe thead th {\n",
       "        text-align: right;\n",
       "    }\n",
       "</style>\n",
       "<table border=\"1\" class=\"dataframe\">\n",
       "  <thead>\n",
       "    <tr style=\"text-align: right;\">\n",
       "      <th></th>\n",
       "      <th>MedianListingPrice_AllHomes</th>\n",
       "      <th>Sale_Prices</th>\n",
       "      <th>Sale_Counts</th>\n",
       "      <th>Sales</th>\n",
       "    </tr>\n",
       "    <tr>\n",
       "      <th>Date</th>\n",
       "      <th></th>\n",
       "      <th></th>\n",
       "      <th></th>\n",
       "      <th></th>\n",
       "    </tr>\n",
       "  </thead>\n",
       "  <tbody>\n",
       "    <tr>\n",
       "      <th>2012-01</th>\n",
       "      <td>186217.29</td>\n",
       "      <td>170674.0</td>\n",
       "      <td>4143.204082</td>\n",
       "      <td>8.290139e+08</td>\n",
       "    </tr>\n",
       "    <tr>\n",
       "      <th>2012-02</th>\n",
       "      <td>186866.94</td>\n",
       "      <td>169831.0</td>\n",
       "      <td>4202.816327</td>\n",
       "      <td>8.456398e+08</td>\n",
       "    </tr>\n",
       "    <tr>\n",
       "      <th>2012-03</th>\n",
       "      <td>189243.83</td>\n",
       "      <td>170393.0</td>\n",
       "      <td>4706.687500</td>\n",
       "      <td>1.039651e+09</td>\n",
       "    </tr>\n",
       "    <tr>\n",
       "      <th>2012-04</th>\n",
       "      <td>190602.20</td>\n",
       "      <td>171191.0</td>\n",
       "      <td>4788.916667</td>\n",
       "      <td>1.056214e+09</td>\n",
       "    </tr>\n",
       "    <tr>\n",
       "      <th>2012-05</th>\n",
       "      <td>190900.50</td>\n",
       "      <td>171174.0</td>\n",
       "      <td>5135.531915</td>\n",
       "      <td>1.216632e+09</td>\n",
       "    </tr>\n",
       "  </tbody>\n",
       "</table>\n",
       "</div>"
      ],
      "text/plain": [
       "         MedianListingPrice_AllHomes  Sale_Prices  Sale_Counts         Sales\n",
       "Date                                                                        \n",
       "2012-01                    186217.29     170674.0  4143.204082  8.290139e+08\n",
       "2012-02                    186866.94     169831.0  4202.816327  8.456398e+08\n",
       "2012-03                    189243.83     170393.0  4706.687500  1.039651e+09\n",
       "2012-04                    190602.20     171191.0  4788.916667  1.056214e+09\n",
       "2012-05                    190900.50     171174.0  5135.531915  1.216632e+09"
      ]
     },
     "execution_count": 9,
     "metadata": {},
     "output_type": "execute_result"
    }
   ],
   "source": [
    "data_month = data_drop.resample('M',on='Date').mean()\n",
    "df_aux = data_month.reset_index()\n",
    "\n",
    "df_ts = df_aux\n",
    "df_ts['Date'] = df_aux['Date'].dt.to_period('M')\n",
    "df_ts.set_index(['Date'],inplace = True)\n",
    "df_ts.head()"
   ]
  },
  {
   "cell_type": "code",
   "execution_count": 10,
   "metadata": {},
   "outputs": [
    {
     "data": {
      "text/html": [
       "<div>\n",
       "<style scoped>\n",
       "    .dataframe tbody tr th:only-of-type {\n",
       "        vertical-align: middle;\n",
       "    }\n",
       "\n",
       "    .dataframe tbody tr th {\n",
       "        vertical-align: top;\n",
       "    }\n",
       "\n",
       "    .dataframe thead th {\n",
       "        text-align: right;\n",
       "    }\n",
       "</style>\n",
       "<table border=\"1\" class=\"dataframe\">\n",
       "  <thead>\n",
       "    <tr style=\"text-align: right;\">\n",
       "      <th></th>\n",
       "      <th>MedianListingPrice_AllHomes</th>\n",
       "      <th>Sale_Prices</th>\n",
       "      <th>Sale_Counts</th>\n",
       "      <th>Sales</th>\n",
       "      <th>Diff_1_AllHomes_Price</th>\n",
       "    </tr>\n",
       "    <tr>\n",
       "      <th>Date</th>\n",
       "      <th></th>\n",
       "      <th></th>\n",
       "      <th></th>\n",
       "      <th></th>\n",
       "      <th></th>\n",
       "    </tr>\n",
       "  </thead>\n",
       "  <tbody>\n",
       "    <tr>\n",
       "      <th>2012-01</th>\n",
       "      <td>186217.290000</td>\n",
       "      <td>170674.000000</td>\n",
       "      <td>4143.204082</td>\n",
       "      <td>8.290139e+08</td>\n",
       "      <td>NaN</td>\n",
       "    </tr>\n",
       "    <tr>\n",
       "      <th>2012-02</th>\n",
       "      <td>186866.940000</td>\n",
       "      <td>169831.000000</td>\n",
       "      <td>4202.816327</td>\n",
       "      <td>8.456398e+08</td>\n",
       "      <td>649.650000</td>\n",
       "    </tr>\n",
       "    <tr>\n",
       "      <th>2012-03</th>\n",
       "      <td>189243.830000</td>\n",
       "      <td>170393.000000</td>\n",
       "      <td>4706.687500</td>\n",
       "      <td>1.039651e+09</td>\n",
       "      <td>2376.890000</td>\n",
       "    </tr>\n",
       "    <tr>\n",
       "      <th>2012-04</th>\n",
       "      <td>190602.200000</td>\n",
       "      <td>171191.000000</td>\n",
       "      <td>4788.916667</td>\n",
       "      <td>1.056214e+09</td>\n",
       "      <td>1358.370000</td>\n",
       "    </tr>\n",
       "    <tr>\n",
       "      <th>2012-05</th>\n",
       "      <td>190900.500000</td>\n",
       "      <td>171174.000000</td>\n",
       "      <td>5135.531915</td>\n",
       "      <td>1.216632e+09</td>\n",
       "      <td>298.300000</td>\n",
       "    </tr>\n",
       "    <tr>\n",
       "      <th>...</th>\n",
       "      <td>...</td>\n",
       "      <td>...</td>\n",
       "      <td>...</td>\n",
       "      <td>...</td>\n",
       "      <td>...</td>\n",
       "    </tr>\n",
       "    <tr>\n",
       "      <th>2017-08</th>\n",
       "      <td>241460.319149</td>\n",
       "      <td>198148.913043</td>\n",
       "      <td>7070.227273</td>\n",
       "      <td>2.392792e+09</td>\n",
       "      <td>-2041.446809</td>\n",
       "    </tr>\n",
       "    <tr>\n",
       "      <th>2017-09</th>\n",
       "      <td>239093.097826</td>\n",
       "      <td>199333.695652</td>\n",
       "      <td>7176.604167</td>\n",
       "      <td>2.035790e+09</td>\n",
       "      <td>-2367.221323</td>\n",
       "    </tr>\n",
       "    <tr>\n",
       "      <th>2017-10</th>\n",
       "      <td>238629.880435</td>\n",
       "      <td>200748.913043</td>\n",
       "      <td>7127.458333</td>\n",
       "      <td>2.068920e+09</td>\n",
       "      <td>-463.217391</td>\n",
       "    </tr>\n",
       "    <tr>\n",
       "      <th>2017-11</th>\n",
       "      <td>241296.595745</td>\n",
       "      <td>195058.888889</td>\n",
       "      <td>5730.333333</td>\n",
       "      <td>1.724262e+09</td>\n",
       "      <td>2666.715310</td>\n",
       "    </tr>\n",
       "    <tr>\n",
       "      <th>2017-12</th>\n",
       "      <td>240001.574468</td>\n",
       "      <td>182214.893617</td>\n",
       "      <td>5255.720000</td>\n",
       "      <td>1.318913e+09</td>\n",
       "      <td>-1295.021277</td>\n",
       "    </tr>\n",
       "  </tbody>\n",
       "</table>\n",
       "<p>72 rows × 5 columns</p>\n",
       "</div>"
      ],
      "text/plain": [
       "         MedianListingPrice_AllHomes    Sale_Prices  Sale_Counts  \\\n",
       "Date                                                               \n",
       "2012-01                186217.290000  170674.000000  4143.204082   \n",
       "2012-02                186866.940000  169831.000000  4202.816327   \n",
       "2012-03                189243.830000  170393.000000  4706.687500   \n",
       "2012-04                190602.200000  171191.000000  4788.916667   \n",
       "2012-05                190900.500000  171174.000000  5135.531915   \n",
       "...                              ...            ...          ...   \n",
       "2017-08                241460.319149  198148.913043  7070.227273   \n",
       "2017-09                239093.097826  199333.695652  7176.604167   \n",
       "2017-10                238629.880435  200748.913043  7127.458333   \n",
       "2017-11                241296.595745  195058.888889  5730.333333   \n",
       "2017-12                240001.574468  182214.893617  5255.720000   \n",
       "\n",
       "                Sales  Diff_1_AllHomes_Price  \n",
       "Date                                          \n",
       "2012-01  8.290139e+08                    NaN  \n",
       "2012-02  8.456398e+08             649.650000  \n",
       "2012-03  1.039651e+09            2376.890000  \n",
       "2012-04  1.056214e+09            1358.370000  \n",
       "2012-05  1.216632e+09             298.300000  \n",
       "...               ...                    ...  \n",
       "2017-08  2.392792e+09           -2041.446809  \n",
       "2017-09  2.035790e+09           -2367.221323  \n",
       "2017-10  2.068920e+09            -463.217391  \n",
       "2017-11  1.724262e+09            2666.715310  \n",
       "2017-12  1.318913e+09           -1295.021277  \n",
       "\n",
       "[72 rows x 5 columns]"
      ]
     },
     "execution_count": 10,
     "metadata": {},
     "output_type": "execute_result"
    }
   ],
   "source": [
    "diff_1 = df_aux['MedianListingPrice_AllHomes'].diff()\n",
    "fo=list(diff_1)\n",
    "df_aux['Diff_1_AllHomes_Price']=fo\n",
    "df_aux"
   ]
  },
  {
   "cell_type": "code",
   "execution_count": 11,
   "metadata": {},
   "outputs": [
    {
     "data": {
      "text/plain": [
       "<function matplotlib.pyplot.show(close=None, block=None)>"
      ]
     },
     "execution_count": 11,
     "metadata": {},
     "output_type": "execute_result"
    },
    {
     "data": {
      "image/png": "[encoded data removed]",
      "text/plain": [
       "<Figure size 864x360 with 1 Axes>"
      ]
     },
     "metadata": {
      "needs_background": "light"
     },
     "output_type": "display_data"
    }
   ],
   "source": [
    "plt.figure(figsize=(12,5))\n",
    "df_aux = data_month.reset_index()\n",
    "\n",
    "plt.plot(df_aux.Date, df_aux.MedianListingPrice_AllHomes)\n",
    "plt.title('MedianListingPrice_AllHomes')\n",
    "plt.show"
   ]
  },
  {
   "cell_type": "markdown",
   "metadata": {},
   "source": [
    "# - Test Dickey-fuller"
   ]
  },
  {
   "cell_type": "code",
   "execution_count": 12,
   "metadata": {},
   "outputs": [
    {
     "name": "stdout",
     "output_type": "stream",
     "text": [
      "Observations of Dickey-fuller test\n",
      "Test Statistic                  0.442940\n",
      "p-value                         0.983032\n",
      "#lags used                      8.000000\n",
      "number of observations used    63.000000\n",
      "critical value (1%)            -3.538695\n",
      "critical value (5%)            -2.908645\n",
      "critical value (10%)           -2.591897\n",
      "dtype: float64\n"
     ]
    }
   ],
   "source": [
    "from statsmodels.tsa.stattools import adfuller\n",
    "\n",
    "print(\"Observations of Dickey-fuller test\")\n",
    "dftest = adfuller(df_aux.MedianListingPrice_AllHomes,autolag='AIC')\n",
    "dfoutput=pd.Series(dftest[0:4],index=['Test Statistic','p-value','#lags used','number of observations used'])\n",
    "for key,value in dftest[4].items():\n",
    "    dfoutput['critical value (%s)'%key]= value\n",
    "print(dfoutput)"
   ]
  },
  {
   "cell_type": "markdown",
   "metadata": {},
   "source": [
    "Evidencia débil contra la hipótesis nula, lo cual significa que la serie de tiempo tiene una raíz unitaria que indica que no es estacionaria."
   ]
  },
  {
   "cell_type": "markdown",
   "metadata": {},
   "source": [
    "#### - Estacional de primer orden"
   ]
  },
  {
   "cell_type": "code",
   "execution_count": 13,
   "metadata": {},
   "outputs": [
    {
     "name": "stdout",
     "output_type": "stream",
     "text": [
      "Observations of Dickey-fuller test\n",
      "Test Statistic                -6.680889e+00\n",
      "p-value                        4.345243e-09\n",
      "#lags used                     7.000000e+00\n",
      "number of observations used    6.300000e+01\n",
      "critical value (1%)           -3.538695e+00\n",
      "critical value (5%)           -2.908645e+00\n",
      "critical value (10%)          -2.591897e+00\n",
      "dtype: float64\n"
     ]
    }
   ],
   "source": [
    "from statsmodels.tsa.stattools import adfuller\n",
    "\n",
    "print(\"Observations of Dickey-fuller test\")\n",
    "dftest = adfuller(diff_1.dropna(),autolag='AIC')\n",
    "dfoutput=pd.Series(dftest[0:4],index=['Test Statistic','p-value','#lags used','number of observations used'])\n",
    "for key,value in dftest[4].items():\n",
    "    dfoutput['critical value (%s)'%key]= value\n",
    "print(dfoutput)"
   ]
  },
  {
   "cell_type": "markdown",
   "metadata": {},
   "source": [
    "El valor de p es menor a 0.05, lo que significa que podemos recharzar la hipótesis nula H0. Podemos concluir que los datos no tienen raíz unitaria y son estacionarios."
   ]
  },
  {
   "cell_type": "markdown",
   "metadata": {},
   "source": [
    "### - Tendencia, Estacionalidad, Residuos"
   ]
  },
  {
   "cell_type": "code",
   "execution_count": 14,
   "metadata": {},
   "outputs": [],
   "source": [
    "df_ts.index=df_ts.index.to_timestamp()\n",
    "aux = seasonal_decompose(df_ts['MedianListingPrice_AllHomes'], model = \"add\")"
   ]
  },
  {
   "cell_type": "code",
   "execution_count": 15,
   "metadata": {},
   "outputs": [
    {
     "data": {
      "image/png": "[encoded data removed]",
      "text/plain": [
       "<Figure size 432x288 with 4 Axes>"
      ]
     },
     "metadata": {
      "needs_background": "light"
     },
     "output_type": "display_data"
    }
   ],
   "source": [
    "aux.plot();"
   ]
  },
  {
   "cell_type": "code",
   "execution_count": 16,
   "metadata": {},
   "outputs": [
    {
     "data": {
      "image/png": "[encoded data removed]",
      "text/plain": [
       "<Figure size 864x360 with 1 Axes>"
      ]
     },
     "metadata": {
      "needs_background": "light"
     },
     "output_type": "display_data"
    }
   ],
   "source": [
    "plt.figure(figsize = (12,5))\n",
    "aux.seasonal.plot();"
   ]
  },
  {
   "cell_type": "markdown",
   "metadata": {},
   "source": [
    "---"
   ]
  },
  {
   "cell_type": "markdown",
   "metadata": {},
   "source": [
    "# - ARIMA"
   ]
  },
  {
   "cell_type": "code",
   "execution_count": 17,
   "metadata": {},
   "outputs": [],
   "source": [
    "x = df_ts['MedianListingPrice_AllHomes'].diff().dropna()"
   ]
  },
  {
   "cell_type": "markdown",
   "metadata": {},
   "source": [
    "### Correlogramas"
   ]
  },
  {
   "cell_type": "code",
   "execution_count": 18,
   "metadata": {},
   "outputs": [
    {
     "data": {
      "image/png": "[encoded data removed]",
      "text/plain": [
       "<Figure size 864x576 with 2 Axes>"
      ]
     },
     "metadata": {
      "needs_background": "light"
     },
     "output_type": "display_data"
    }
   ],
   "source": [
    "fig = plt.figure(figsize=(12,8))\n",
    "ax1 = fig.add_subplot(211)\n",
    "fig = tsaplots.plot_acf(x.iloc[13:],lags=12,ax=ax1)\n",
    "ax2 = fig.add_subplot(212)\n",
    "fig = tsaplots.plot_pacf(x.iloc[13:],lags=12,ax=ax2)"
   ]
  },
  {
   "cell_type": "markdown",
   "metadata": {},
   "source": [
    "### Datos: Train y Test"
   ]
  },
  {
   "cell_type": "code",
   "execution_count": 19,
   "metadata": {},
   "outputs": [],
   "source": [
    "train = df_aux[0:int(len(df_aux)*.80)]\n",
    "test = df_aux[int(len(df_aux)*.80):len(df_aux)]"
   ]
  },
  {
   "cell_type": "markdown",
   "metadata": {},
   "source": [
    "size = len(df_aux) - 12\n",
    "train, test = df_aux[0:size], df_aux[size:]"
   ]
  },
  {
   "cell_type": "markdown",
   "metadata": {},
   "source": [
    "### Determinación de mejores parámetros "
   ]
  },
  {
   "cell_type": "code",
   "execution_count": 20,
   "metadata": {},
   "outputs": [
    {
     "name": "stdout",
     "output_type": "stream",
     "text": [
      "Performing stepwise search to minimize aic\n",
      " ARIMA(0,1,0)(0,0,0)[0] intercept   : AIC=1017.808, Time=0.01 sec\n",
      " ARIMA(1,1,0)(0,0,0)[0] intercept   : AIC=1020.555, Time=0.01 sec\n",
      " ARIMA(0,1,1)(0,0,0)[0] intercept   : AIC=1020.059, Time=0.01 sec\n",
      " ARIMA(0,1,0)(0,0,0)[0]             : AIC=1023.316, Time=0.01 sec\n",
      " ARIMA(1,1,1)(0,0,0)[0] intercept   : AIC=1021.658, Time=0.04 sec\n",
      "\n",
      "Best model:  ARIMA(0,1,0)(0,0,0)[0] intercept\n",
      "Total fit time: 0.077 seconds\n",
      "                               SARIMAX Results                                \n",
      "==============================================================================\n",
      "Dep. Variable:                      y   No. Observations:                   57\n",
      "Model:               SARIMAX(0, 1, 0)   Log Likelihood                -506.904\n",
      "Date:                Tue, 06 Dec 2022   AIC                           1017.808\n",
      "Time:                        15:57:15   BIC                           1021.858\n",
      "Sample:                             0   HQIC                          1019.378\n",
      "                                 - 57                                         \n",
      "Covariance Type:                  opg                                         \n",
      "==============================================================================\n",
      "                 coef    std err          z      P>|z|      [0.025      0.975]\n",
      "------------------------------------------------------------------------------\n",
      "intercept    781.7320    295.218      2.648      0.008     203.115    1360.349\n",
      "sigma2      4.264e+06   1.05e+06      4.056      0.000     2.2e+06    6.33e+06\n",
      "===================================================================================\n",
      "Ljung-Box (L1) (Q):                   4.78   Jarque-Bera (JB):                 2.59\n",
      "Prob(Q):                              0.03   Prob(JB):                         0.27\n",
      "Heteroskedasticity (H):               1.51   Skew:                             0.41\n",
      "Prob(H) (two-sided):                  0.38   Kurtosis:                         2.34\n",
      "===================================================================================\n",
      "\n",
      "Warnings:\n",
      "[1] Covariance matrix calculated using the outer product of gradients (complex-step).\n"
     ]
    }
   ],
   "source": [
    "arima_model =  auto_arima(train['MedianListingPrice_AllHomes'],start_p=0, d=1, start_q=0, \n",
    "                          max_p=5, max_d=5, max_q=5, start_P=0, \n",
    "                          D=1, \n",
    "                          error_action='warn',trace = True,\n",
    "                          supress_warnings=True,stepwise = True,\n",
    "                          random_state=20,n_fits = 20 )\n",
    "print(arima_model.summary())"
   ]
  },
  {
   "cell_type": "markdown",
   "metadata": {},
   "source": [
    "### Entrenamiento del modelo"
   ]
  },
  {
   "cell_type": "code",
   "execution_count": 21,
   "metadata": {},
   "outputs": [],
   "source": [
    "from statsmodels.tsa.arima.model import ARIMA"
   ]
  },
  {
   "cell_type": "code",
   "execution_count": 22,
   "metadata": {},
   "outputs": [],
   "source": [
    "model = ARIMA(train['MedianListingPrice_AllHomes'], order=(0,1,0))\n",
    "arima_fit = model.fit()"
   ]
  },
  {
   "cell_type": "code",
   "execution_count": 23,
   "metadata": {},
   "outputs": [
    {
     "data": {
      "text/html": [
       "<table class=\"simpletable\">\n",
       "<caption>SARIMAX Results</caption>\n",
       "<tr>\n",
       "  <th>Dep. Variable:</th>   <td>MedianListingPrice_AllHomes</td> <th>  No. Observations:  </th>    <td>57</td>   \n",
       "</tr>\n",
       "<tr>\n",
       "  <th>Model:</th>                 <td>ARIMA(0, 1, 0)</td>        <th>  Log Likelihood     </th> <td>-510.658</td>\n",
       "</tr>\n",
       "<tr>\n",
       "  <th>Date:</th>                 <td>Tue, 06 Dec 2022</td>       <th>  AIC                </th> <td>1023.316</td>\n",
       "</tr>\n",
       "<tr>\n",
       "  <th>Time:</th>                     <td>15:57:15</td>           <th>  BIC                </th> <td>1025.341</td>\n",
       "</tr>\n",
       "<tr>\n",
       "  <th>Sample:</th>                       <td>0</td>              <th>  HQIC               </th> <td>1024.101</td>\n",
       "</tr>\n",
       "<tr>\n",
       "  <th></th>                            <td> - 57</td>            <th>                     </th>     <td> </td>   \n",
       "</tr>\n",
       "<tr>\n",
       "  <th>Covariance Type:</th>             <td>opg</td>             <th>                     </th>     <td> </td>   \n",
       "</tr>\n",
       "</table>\n",
       "<table class=\"simpletable\">\n",
       "<tr>\n",
       "     <td></td>       <th>coef</th>     <th>std err</th>      <th>z</th>      <th>P>|z|</th>  <th>[0.025</th>    <th>0.975]</th>  \n",
       "</tr>\n",
       "<tr>\n",
       "  <th>sigma2</th> <td>  4.79e+06</td> <td> 9.02e+05</td> <td>    5.311</td> <td> 0.000</td> <td> 3.02e+06</td> <td> 6.56e+06</td>\n",
       "</tr>\n",
       "</table>\n",
       "<table class=\"simpletable\">\n",
       "<tr>\n",
       "  <th>Ljung-Box (L1) (Q):</th>     <td>4.78</td> <th>  Jarque-Bera (JB):  </th> <td>2.59</td>\n",
       "</tr>\n",
       "<tr>\n",
       "  <th>Prob(Q):</th>                <td>0.03</td> <th>  Prob(JB):          </th> <td>0.27</td>\n",
       "</tr>\n",
       "<tr>\n",
       "  <th>Heteroskedasticity (H):</th> <td>1.44</td> <th>  Skew:              </th> <td>0.41</td>\n",
       "</tr>\n",
       "<tr>\n",
       "  <th>Prob(H) (two-sided):</th>    <td>0.44</td> <th>  Kurtosis:          </th> <td>2.34</td>\n",
       "</tr>\n",
       "</table><br/><br/>Warnings:<br/>[1] Covariance matrix calculated using the outer product of gradients (complex-step)."
      ],
      "text/plain": [
       "<class 'statsmodels.iolib.summary.Summary'>\n",
       "\"\"\"\n",
       "                                    SARIMAX Results                                    \n",
       "=======================================================================================\n",
       "Dep. Variable:     MedianListingPrice_AllHomes   No. Observations:                   57\n",
       "Model:                          ARIMA(0, 1, 0)   Log Likelihood                -510.658\n",
       "Date:                         Tue, 06 Dec 2022   AIC                           1023.316\n",
       "Time:                                 15:57:15   BIC                           1025.341\n",
       "Sample:                                      0   HQIC                          1024.101\n",
       "                                          - 57                                         \n",
       "Covariance Type:                           opg                                         \n",
       "==============================================================================\n",
       "                 coef    std err          z      P>|z|      [0.025      0.975]\n",
       "------------------------------------------------------------------------------\n",
       "sigma2       4.79e+06   9.02e+05      5.311      0.000    3.02e+06    6.56e+06\n",
       "===================================================================================\n",
       "Ljung-Box (L1) (Q):                   4.78   Jarque-Bera (JB):                 2.59\n",
       "Prob(Q):                              0.03   Prob(JB):                         0.27\n",
       "Heteroskedasticity (H):               1.44   Skew:                             0.41\n",
       "Prob(H) (two-sided):                  0.44   Kurtosis:                         2.34\n",
       "===================================================================================\n",
       "\n",
       "Warnings:\n",
       "[1] Covariance matrix calculated using the outer product of gradients (complex-step).\n",
       "\"\"\""
      ]
     },
     "execution_count": 23,
     "metadata": {},
     "output_type": "execute_result"
    }
   ],
   "source": [
    "arima_fit.summary()"
   ]
  },
  {
   "cell_type": "code",
   "execution_count": 24,
   "metadata": {},
   "outputs": [],
   "source": [
    "fc = arima_fit.forecast(len(test), alpha=0.05) \n",
    "fc_arima = pd.Series(fc, index=test.index)"
   ]
  },
  {
   "cell_type": "code",
   "execution_count": 25,
   "metadata": {},
   "outputs": [
    {
     "data": {
      "text/plain": [
       "57    229994.28125\n",
       "58    229994.28125\n",
       "59    229994.28125\n",
       "60    229994.28125\n",
       "61    229994.28125\n",
       "62    229994.28125\n",
       "63    229994.28125\n",
       "64    229994.28125\n",
       "65    229994.28125\n",
       "66    229994.28125\n",
       "67    229994.28125\n",
       "68    229994.28125\n",
       "69    229994.28125\n",
       "70    229994.28125\n",
       "71    229994.28125\n",
       "Name: predicted_mean, dtype: float64"
      ]
     },
     "execution_count": 25,
     "metadata": {},
     "output_type": "execute_result"
    }
   ],
   "source": [
    "fc_arima"
   ]
  },
  {
   "cell_type": "code",
   "execution_count": 26,
   "metadata": {},
   "outputs": [
    {
     "data": {
      "text/html": [
       "<div>\n",
       "<style scoped>\n",
       "    .dataframe tbody tr th:only-of-type {\n",
       "        vertical-align: middle;\n",
       "    }\n",
       "\n",
       "    .dataframe tbody tr th {\n",
       "        vertical-align: top;\n",
       "    }\n",
       "\n",
       "    .dataframe thead th {\n",
       "        text-align: right;\n",
       "    }\n",
       "</style>\n",
       "<table border=\"1\" class=\"dataframe\">\n",
       "  <thead>\n",
       "    <tr style=\"text-align: right;\">\n",
       "      <th></th>\n",
       "      <th>ARIMA</th>\n",
       "    </tr>\n",
       "  </thead>\n",
       "  <tbody>\n",
       "    <tr>\n",
       "      <th>57</th>\n",
       "      <td>229994.28125</td>\n",
       "    </tr>\n",
       "    <tr>\n",
       "      <th>58</th>\n",
       "      <td>229994.28125</td>\n",
       "    </tr>\n",
       "    <tr>\n",
       "      <th>59</th>\n",
       "      <td>229994.28125</td>\n",
       "    </tr>\n",
       "    <tr>\n",
       "      <th>60</th>\n",
       "      <td>229994.28125</td>\n",
       "    </tr>\n",
       "    <tr>\n",
       "      <th>61</th>\n",
       "      <td>229994.28125</td>\n",
       "    </tr>\n",
       "  </tbody>\n",
       "</table>\n",
       "</div>"
      ],
      "text/plain": [
       "           ARIMA\n",
       "57  229994.28125\n",
       "58  229994.28125\n",
       "59  229994.28125\n",
       "60  229994.28125\n",
       "61  229994.28125"
      ]
     },
     "execution_count": 26,
     "metadata": {},
     "output_type": "execute_result"
    }
   ],
   "source": [
    "comp_pred = pd.DataFrame()\n",
    "comp_pred['ARIMA'] = fc_arima\n",
    "comp_pred.head()"
   ]
  },
  {
   "cell_type": "markdown",
   "metadata": {},
   "source": [
    "### Evaluación del modelo"
   ]
  },
  {
   "cell_type": "code",
   "execution_count": 27,
   "metadata": {},
   "outputs": [
    {
     "name": "stdout",
     "output_type": "stream",
     "text": [
      "MSE:  75053293.03754775\n",
      "RMSE:  8663.3303664092\n"
     ]
    }
   ],
   "source": [
    "MSE_arima = mean_squared_error(test['MedianListingPrice_AllHomes'], fc_arima)\n",
    "RMSE_arima = np.sqrt(MSE_arima)\n",
    "print('MSE: ',MSE_arima)\n",
    "print('RMSE: ',RMSE_arima)"
   ]
  },
  {
   "cell_type": "code",
   "execution_count": 28,
   "metadata": {},
   "outputs": [],
   "source": [
    "# MAPE: Mean Absolute Percentage Error\n",
    "def mape(y_true, y_pred):\n",
    "    return np.mean(np.abs((y_pred-y_true)/y_true)*100)"
   ]
  },
  {
   "cell_type": "code",
   "execution_count": 29,
   "metadata": {},
   "outputs": [
    {
     "name": "stdout",
     "output_type": "stream",
     "text": [
      "MAPE:  3.03 %\n"
     ]
    }
   ],
   "source": [
    "MAPE_arima = mape(test['MedianListingPrice_AllHomes'], fc_arima) \n",
    "print('MAPE: ',round(MAPE_arima,2),'%')"
   ]
  },
  {
   "cell_type": "code",
   "execution_count": 30,
   "metadata": {},
   "outputs": [],
   "source": [
    "comp_error = pd.DataFrame([MSE_arima, RMSE_arima, MAPE_arima], columns = ['ARIMA'], index= ['MSE', 'RMSE', 'MAPE']) "
   ]
  },
  {
   "cell_type": "code",
   "execution_count": 31,
   "metadata": {},
   "outputs": [
    {
     "data": {
      "text/html": [
       "<div>\n",
       "<style scoped>\n",
       "    .dataframe tbody tr th:only-of-type {\n",
       "        vertical-align: middle;\n",
       "    }\n",
       "\n",
       "    .dataframe tbody tr th {\n",
       "        vertical-align: top;\n",
       "    }\n",
       "\n",
       "    .dataframe thead th {\n",
       "        text-align: right;\n",
       "    }\n",
       "</style>\n",
       "<table border=\"1\" class=\"dataframe\">\n",
       "  <thead>\n",
       "    <tr style=\"text-align: right;\">\n",
       "      <th></th>\n",
       "      <th>ARIMA</th>\n",
       "    </tr>\n",
       "  </thead>\n",
       "  <tbody>\n",
       "    <tr>\n",
       "      <th>MSE</th>\n",
       "      <td>7.505329e+07</td>\n",
       "    </tr>\n",
       "    <tr>\n",
       "      <th>RMSE</th>\n",
       "      <td>8.663330e+03</td>\n",
       "    </tr>\n",
       "    <tr>\n",
       "      <th>MAPE</th>\n",
       "      <td>3.025849e+00</td>\n",
       "    </tr>\n",
       "  </tbody>\n",
       "</table>\n",
       "</div>"
      ],
      "text/plain": [
       "             ARIMA\n",
       "MSE   7.505329e+07\n",
       "RMSE  8.663330e+03\n",
       "MAPE  3.025849e+00"
      ]
     },
     "execution_count": 31,
     "metadata": {},
     "output_type": "execute_result"
    }
   ],
   "source": [
    "comp_error"
   ]
  },
  {
   "cell_type": "code",
   "execution_count": 32,
   "metadata": {},
   "outputs": [
    {
     "data": {
      "image/png": "[encoded data removed]",
      "text/plain": [
       "<Figure size 1200x500 with 1 Axes>"
      ]
     },
     "metadata": {
      "needs_background": "light"
     },
     "output_type": "display_data"
    }
   ],
   "source": [
    "# Plot\n",
    "plt.figure(figsize=(12,5), dpi=100)\n",
    "plt.plot(train['MedianListingPrice_AllHomes'], label='training')\n",
    "plt.plot(fc_arima, label='forecast')\n",
    "plt.plot(test['MedianListingPrice_AllHomes'], label='actual')\n",
    "\n",
    "\n",
    "plt.title('ARIMA valores reales vs predicción')\n",
    "plt.show();"
   ]
  },
  {
   "cell_type": "markdown",
   "metadata": {},
   "source": [
    "### Predicción"
   ]
  },
  {
   "cell_type": "code",
   "execution_count": 33,
   "metadata": {},
   "outputs": [],
   "source": [
    "# Entreno el modelo con todos los datos\n",
    "model = ARIMA(df_ts['MedianListingPrice_AllHomes'], order=(0,1,0))\n",
    "arima_fit = model.fit()"
   ]
  },
  {
   "cell_type": "code",
   "execution_count": 34,
   "metadata": {},
   "outputs": [
    {
     "data": {
      "image/png": "[encoded data removed]",
      "text/plain": [
       "<Figure size 1080x576 with 1 Axes>"
      ]
     },
     "metadata": {
      "needs_background": "light"
     },
     "output_type": "display_data"
    }
   ],
   "source": [
    "df_ts['forecast_ARIMA']=arima_fit.predict(start = 30, end = 156)\n",
    "df_ts[['MedianListingPrice_AllHomes','forecast_ARIMA']].plot(figsize=(15,8))\n",
    "plt.title('ARIMA - predicción de MedianListingPrice_AllHomes', fontsize = 15)\n",
    "plt.show()"
   ]
  },
  {
   "cell_type": "code",
   "execution_count": 35,
   "metadata": {},
   "outputs": [],
   "source": [
    "from pandas.tseries.offsets import DateOffset\n",
    "\n",
    "future_arima = [df_ts.index[-1]+ DateOffset(months=x)for x in range(0,24)] # 2 años = 24 meses"
   ]
  },
  {
   "cell_type": "code",
   "execution_count": 36,
   "metadata": {},
   "outputs": [],
   "source": [
    "future_df_ARIMA = pd.DataFrame(index=future_arima[1:],columns=df_ts.columns)"
   ]
  },
  {
   "cell_type": "code",
   "execution_count": 37,
   "metadata": {},
   "outputs": [],
   "source": [
    "future_df = pd.concat([df_ts,future_df_ARIMA ]) # Concatenamos los dos dataframes"
   ]
  },
  {
   "cell_type": "code",
   "execution_count": 38,
   "metadata": {},
   "outputs": [
    {
     "data": {
      "image/png": "[encoded data removed]",
      "text/plain": [
       "<Figure size 1080x576 with 1 Axes>"
      ]
     },
     "metadata": {
      "needs_background": "light"
     },
     "output_type": "display_data"
    }
   ],
   "source": [
    "future_df['forecast_ARIMA'] = arima_fit.predict(start = 71, end = 156, dynamic= True)  \n",
    "future_df[['MedianListingPrice_AllHomes', 'forecast_ARIMA']].plot(figsize=(15, 8)) \n",
    "plt.title('ARIMA - predicción de MedianListingPrice_AllHomes en los próximos 2 años del dataset')\n",
    "plt.show()"
   ]
  },
  {
   "cell_type": "markdown",
   "metadata": {},
   "source": [
    "---"
   ]
  },
  {
   "cell_type": "markdown",
   "metadata": {},
   "source": [
    "## - SARIMA"
   ]
  },
  {
   "cell_type": "markdown",
   "metadata": {},
   "source": [
    "### Datos: Train y Test"
   ]
  },
  {
   "cell_type": "code",
   "execution_count": 39,
   "metadata": {},
   "outputs": [],
   "source": [
    "train = df_aux[0:int(len(df_aux)*.80)]\n",
    "test = df_aux[int(len(df_aux)*.80):len(df_aux)]"
   ]
  },
  {
   "cell_type": "markdown",
   "metadata": {},
   "source": [
    "### Determinación de mejores parámetros "
   ]
  },
  {
   "cell_type": "code",
   "execution_count": 40,
   "metadata": {},
   "outputs": [
    {
     "name": "stdout",
     "output_type": "stream",
     "text": [
      "Performing stepwise search to minimize aic\n",
      " ARIMA(0,1,0)(0,1,0)[12]             : AIC=806.315, Time=0.01 sec\n",
      " ARIMA(1,1,0)(1,1,0)[12]             : AIC=809.402, Time=0.04 sec\n",
      " ARIMA(0,1,1)(0,1,1)[12]             : AIC=809.448, Time=0.04 sec\n",
      " ARIMA(0,1,0)(1,1,0)[12]             : AIC=815.489, Time=0.03 sec\n",
      " ARIMA(0,1,0)(0,1,1)[12]             : AIC=808.073, Time=0.09 sec\n",
      " ARIMA(0,1,0)(1,1,1)[12]             : AIC=inf, Time=0.17 sec\n",
      " ARIMA(1,1,0)(0,1,0)[12]             : AIC=807.630, Time=0.01 sec\n",
      " ARIMA(0,1,1)(0,1,0)[12]             : AIC=807.685, Time=0.02 sec\n",
      " ARIMA(1,1,1)(0,1,0)[12]             : AIC=809.780, Time=0.04 sec\n",
      " ARIMA(0,1,0)(0,1,0)[12] intercept   : AIC=808.197, Time=0.01 sec\n",
      "\n",
      "Best model:  ARIMA(0,1,0)(0,1,0)[12]          \n",
      "Total fit time: 0.461 seconds\n",
      "                                     SARIMAX Results                                      \n",
      "==========================================================================================\n",
      "Dep. Variable:                                  y   No. Observations:                   57\n",
      "Model:             SARIMAX(0, 1, 0)x(0, 1, 0, 12)   Log Likelihood                -402.157\n",
      "Date:                            Tue, 06 Dec 2022   AIC                            806.315\n",
      "Time:                                    15:57:16   BIC                            808.099\n",
      "Sample:                                         0   HQIC                           806.976\n",
      "                                             - 57                                         \n",
      "Covariance Type:                              opg                                         \n",
      "==============================================================================\n",
      "                 coef    std err          z      P>|z|      [0.025      0.975]\n",
      "------------------------------------------------------------------------------\n",
      "sigma2       5.01e+06   9.76e+05      5.134      0.000     3.1e+06    6.92e+06\n",
      "===================================================================================\n",
      "Ljung-Box (L1) (Q):                   0.60   Jarque-Bera (JB):                 0.20\n",
      "Prob(Q):                              0.44   Prob(JB):                         0.90\n",
      "Heteroskedasticity (H):               0.27   Skew:                             0.01\n",
      "Prob(H) (two-sided):                  0.02   Kurtosis:                         3.33\n",
      "===================================================================================\n",
      "\n",
      "Warnings:\n",
      "[1] Covariance matrix calculated using the outer product of gradients (complex-step).\n"
     ]
    }
   ],
   "source": [
    "sarima_model =  auto_arima(train['MedianListingPrice_AllHomes'],start_p=0, d=1, start_q=0, \n",
    "                          max_p=6, max_d=6, max_q=6, start_P=0, \n",
    "                          D=1, start_Q=0, max_P=6, max_D=6,\n",
    "                          max_Q=6, m=12, seasonal=True, \n",
    "                          error_action='warn',trace = True,\n",
    "                          supress_warnings=True,stepwise = True,\n",
    "                          random_state=20,n_fits = 20 )\n",
    "print(sarima_model.summary())"
   ]
  },
  {
   "cell_type": "markdown",
   "metadata": {},
   "source": [
    "### Entrenamiento del modelo"
   ]
  },
  {
   "cell_type": "code",
   "execution_count": 41,
   "metadata": {},
   "outputs": [],
   "source": [
    "sarima_model = SARIMAX(train['MedianListingPrice_AllHomes'], order=(0,1,0),seasonal_order=(0,1,0,12))\n",
    "sarima_fit = sarima_model.fit(disp=1)"
   ]
  },
  {
   "cell_type": "code",
   "execution_count": 42,
   "metadata": {},
   "outputs": [
    {
     "data": {
      "text/html": [
       "<table class=\"simpletable\">\n",
       "<caption>SARIMAX Results</caption>\n",
       "<tr>\n",
       "  <th>Dep. Variable:</th>     <td>MedianListingPrice_AllHomes</td>  <th>  No. Observations:  </th>    <td>57</td>   \n",
       "</tr>\n",
       "<tr>\n",
       "  <th>Model:</th>           <td>SARIMAX(0, 1, 0)x(0, 1, 0, 12)</td> <th>  Log Likelihood     </th> <td>-402.157</td>\n",
       "</tr>\n",
       "<tr>\n",
       "  <th>Date:</th>                   <td>Tue, 06 Dec 2022</td>        <th>  AIC                </th>  <td>806.315</td>\n",
       "</tr>\n",
       "<tr>\n",
       "  <th>Time:</th>                       <td>15:57:16</td>            <th>  BIC                </th>  <td>808.099</td>\n",
       "</tr>\n",
       "<tr>\n",
       "  <th>Sample:</th>                         <td>0</td>               <th>  HQIC               </th>  <td>806.976</td>\n",
       "</tr>\n",
       "<tr>\n",
       "  <th></th>                              <td> - 57</td>             <th>                     </th>     <td> </td>   \n",
       "</tr>\n",
       "<tr>\n",
       "  <th>Covariance Type:</th>               <td>opg</td>              <th>                     </th>     <td> </td>   \n",
       "</tr>\n",
       "</table>\n",
       "<table class=\"simpletable\">\n",
       "<tr>\n",
       "     <td></td>       <th>coef</th>     <th>std err</th>      <th>z</th>      <th>P>|z|</th>  <th>[0.025</th>    <th>0.975]</th>  \n",
       "</tr>\n",
       "<tr>\n",
       "  <th>sigma2</th> <td>  5.01e+06</td> <td> 9.76e+05</td> <td>    5.134</td> <td> 0.000</td> <td>  3.1e+06</td> <td> 6.92e+06</td>\n",
       "</tr>\n",
       "</table>\n",
       "<table class=\"simpletable\">\n",
       "<tr>\n",
       "  <th>Ljung-Box (L1) (Q):</th>     <td>0.60</td> <th>  Jarque-Bera (JB):  </th> <td>0.20</td>\n",
       "</tr>\n",
       "<tr>\n",
       "  <th>Prob(Q):</th>                <td>0.44</td> <th>  Prob(JB):          </th> <td>0.90</td>\n",
       "</tr>\n",
       "<tr>\n",
       "  <th>Heteroskedasticity (H):</th> <td>0.27</td> <th>  Skew:              </th> <td>0.01</td>\n",
       "</tr>\n",
       "<tr>\n",
       "  <th>Prob(H) (two-sided):</th>    <td>0.02</td> <th>  Kurtosis:          </th> <td>3.33</td>\n",
       "</tr>\n",
       "</table><br/><br/>Warnings:<br/>[1] Covariance matrix calculated using the outer product of gradients (complex-step)."
      ],
      "text/plain": [
       "<class 'statsmodels.iolib.summary.Summary'>\n",
       "\"\"\"\n",
       "                                     SARIMAX Results                                      \n",
       "==========================================================================================\n",
       "Dep. Variable:        MedianListingPrice_AllHomes   No. Observations:                   57\n",
       "Model:             SARIMAX(0, 1, 0)x(0, 1, 0, 12)   Log Likelihood                -402.157\n",
       "Date:                            Tue, 06 Dec 2022   AIC                            806.315\n",
       "Time:                                    15:57:16   BIC                            808.099\n",
       "Sample:                                         0   HQIC                           806.976\n",
       "                                             - 57                                         \n",
       "Covariance Type:                              opg                                         \n",
       "==============================================================================\n",
       "                 coef    std err          z      P>|z|      [0.025      0.975]\n",
       "------------------------------------------------------------------------------\n",
       "sigma2       5.01e+06   9.76e+05      5.134      0.000     3.1e+06    6.92e+06\n",
       "===================================================================================\n",
       "Ljung-Box (L1) (Q):                   0.60   Jarque-Bera (JB):                 0.20\n",
       "Prob(Q):                              0.44   Prob(JB):                         0.90\n",
       "Heteroskedasticity (H):               0.27   Skew:                             0.01\n",
       "Prob(H) (two-sided):                  0.02   Kurtosis:                         3.33\n",
       "===================================================================================\n",
       "\n",
       "Warnings:\n",
       "[1] Covariance matrix calculated using the outer product of gradients (complex-step).\n",
       "\"\"\""
      ]
     },
     "execution_count": 42,
     "metadata": {},
     "output_type": "execute_result"
    }
   ],
   "source": [
    "sarima_fit.summary()"
   ]
  },
  {
   "cell_type": "markdown",
   "metadata": {},
   "source": [
    "### Evaluación del modelo"
   ]
  },
  {
   "cell_type": "code",
   "execution_count": 43,
   "metadata": {},
   "outputs": [
    {
     "name": "stdout",
     "output_type": "stream",
     "text": [
      "MSE: 4118626.9962368975\n",
      "RMSE: 2029.4400696342077\n"
     ]
    }
   ],
   "source": [
    "sarima_fc_series = sarima_fit.forecast(len(test), alpha=0.05) \n",
    "MSE_sarima = mean_squared_error(test['MedianListingPrice_AllHomes'], sarima_fc_series)\n",
    "RMSE_sarima = np.sqrt(MSE_sarima)\n",
    "\n",
    "print('MSE:', MSE_sarima)\n",
    "print('RMSE:', RMSE_sarima)"
   ]
  },
  {
   "cell_type": "code",
   "execution_count": 44,
   "metadata": {},
   "outputs": [
    {
     "name": "stdout",
     "output_type": "stream",
     "text": [
      "MAPE:  0.63 %\n"
     ]
    }
   ],
   "source": [
    "MAPE_sarima = mape(test['MedianListingPrice_AllHomes'], sarima_fc_series) \n",
    "print('MAPE: ',round(MAPE_sarima,2),'%')"
   ]
  },
  {
   "cell_type": "code",
   "execution_count": 45,
   "metadata": {},
   "outputs": [
    {
     "data": {
      "image/png": "[encoded data removed]",
      "text/plain": [
       "<Figure size 1200x500 with 1 Axes>"
      ]
     },
     "metadata": {
      "needs_background": "light"
     },
     "output_type": "display_data"
    }
   ],
   "source": [
    "sarima_fc_series = pd.Series(sarima_fc_series, index=test.index)\n",
    "\n",
    "\n",
    "# Plot\n",
    "plt.figure(figsize=(12,5), dpi=100)\n",
    "plt.plot(train['MedianListingPrice_AllHomes'], label='training')\n",
    "plt.plot(sarima_fc_series, label='forecast')\n",
    "plt.plot(test['MedianListingPrice_AllHomes'], label='actual')\n",
    "\n",
    "\n",
    "plt.title('SARIMA valores reales vs predicción')\n",
    "plt.legend(loc='upper left', fontsize=8);"
   ]
  },
  {
   "cell_type": "code",
   "execution_count": 46,
   "metadata": {},
   "outputs": [
    {
     "data": {
      "text/html": [
       "<div>\n",
       "<style scoped>\n",
       "    .dataframe tbody tr th:only-of-type {\n",
       "        vertical-align: middle;\n",
       "    }\n",
       "\n",
       "    .dataframe tbody tr th {\n",
       "        vertical-align: top;\n",
       "    }\n",
       "\n",
       "    .dataframe thead th {\n",
       "        text-align: right;\n",
       "    }\n",
       "</style>\n",
       "<table border=\"1\" class=\"dataframe\">\n",
       "  <thead>\n",
       "    <tr style=\"text-align: right;\">\n",
       "      <th></th>\n",
       "      <th>ARIMA</th>\n",
       "      <th>SARIMA</th>\n",
       "    </tr>\n",
       "  </thead>\n",
       "  <tbody>\n",
       "    <tr>\n",
       "      <th>57</th>\n",
       "      <td>229994.28125</td>\n",
       "      <td>229160.760417</td>\n",
       "    </tr>\n",
       "    <tr>\n",
       "      <th>58</th>\n",
       "      <td>229994.28125</td>\n",
       "      <td>228547.875000</td>\n",
       "    </tr>\n",
       "    <tr>\n",
       "      <th>59</th>\n",
       "      <td>229994.28125</td>\n",
       "      <td>226810.406250</td>\n",
       "    </tr>\n",
       "    <tr>\n",
       "      <th>60</th>\n",
       "      <td>229994.28125</td>\n",
       "      <td>226547.197917</td>\n",
       "    </tr>\n",
       "    <tr>\n",
       "      <th>61</th>\n",
       "      <td>229994.28125</td>\n",
       "      <td>227522.197917</td>\n",
       "    </tr>\n",
       "  </tbody>\n",
       "</table>\n",
       "</div>"
      ],
      "text/plain": [
       "           ARIMA         SARIMA\n",
       "57  229994.28125  229160.760417\n",
       "58  229994.28125  228547.875000\n",
       "59  229994.28125  226810.406250\n",
       "60  229994.28125  226547.197917\n",
       "61  229994.28125  227522.197917"
      ]
     },
     "execution_count": 46,
     "metadata": {},
     "output_type": "execute_result"
    }
   ],
   "source": [
    "comp_pred['SARIMA'] = sarima_fc_series\n",
    "comp_pred.head()"
   ]
  },
  {
   "cell_type": "code",
   "execution_count": 47,
   "metadata": {},
   "outputs": [
    {
     "data": {
      "text/html": [
       "<div>\n",
       "<style scoped>\n",
       "    .dataframe tbody tr th:only-of-type {\n",
       "        vertical-align: middle;\n",
       "    }\n",
       "\n",
       "    .dataframe tbody tr th {\n",
       "        vertical-align: top;\n",
       "    }\n",
       "\n",
       "    .dataframe thead th {\n",
       "        text-align: right;\n",
       "    }\n",
       "</style>\n",
       "<table border=\"1\" class=\"dataframe\">\n",
       "  <thead>\n",
       "    <tr style=\"text-align: right;\">\n",
       "      <th></th>\n",
       "      <th>ARIMA</th>\n",
       "      <th>SAMRIMA</th>\n",
       "    </tr>\n",
       "  </thead>\n",
       "  <tbody>\n",
       "    <tr>\n",
       "      <th>MSE</th>\n",
       "      <td>7.505329e+07</td>\n",
       "      <td>4.118627e+06</td>\n",
       "    </tr>\n",
       "    <tr>\n",
       "      <th>RMSE</th>\n",
       "      <td>8.663330e+03</td>\n",
       "      <td>2.029440e+03</td>\n",
       "    </tr>\n",
       "    <tr>\n",
       "      <th>MAPE</th>\n",
       "      <td>3.025849e+00</td>\n",
       "      <td>6.301242e-01</td>\n",
       "    </tr>\n",
       "  </tbody>\n",
       "</table>\n",
       "</div>"
      ],
      "text/plain": [
       "             ARIMA       SAMRIMA\n",
       "MSE   7.505329e+07  4.118627e+06\n",
       "RMSE  8.663330e+03  2.029440e+03\n",
       "MAPE  3.025849e+00  6.301242e-01"
      ]
     },
     "execution_count": 47,
     "metadata": {},
     "output_type": "execute_result"
    }
   ],
   "source": [
    "comp_error['SAMRIMA'] = [MSE_sarima, RMSE_sarima, MAPE_sarima]\n",
    "comp_error"
   ]
  },
  {
   "cell_type": "markdown",
   "metadata": {},
   "source": [
    "### Predicción"
   ]
  },
  {
   "cell_type": "code",
   "execution_count": 48,
   "metadata": {},
   "outputs": [],
   "source": [
    "sarima_model = sm.tsa.statespace.sarimax.SARIMAX(df_ts['MedianListingPrice_AllHomes'], order=(0,1,0),seasonal_order=(0,1,0,12))\n",
    "sarima_fit = sarima_model.fit(disp=0)"
   ]
  },
  {
   "cell_type": "code",
   "execution_count": 49,
   "metadata": {},
   "outputs": [
    {
     "data": {
      "text/html": [
       "<table class=\"simpletable\">\n",
       "<caption>SARIMAX Results</caption>\n",
       "<tr>\n",
       "  <th>Dep. Variable:</th>     <td>MedianListingPrice_AllHomes</td>  <th>  No. Observations:  </th>    <td>72</td>   \n",
       "</tr>\n",
       "<tr>\n",
       "  <th>Model:</th>           <td>SARIMAX(0, 1, 0)x(0, 1, 0, 12)</td> <th>  Log Likelihood     </th> <td>-535.759</td>\n",
       "</tr>\n",
       "<tr>\n",
       "  <th>Date:</th>                   <td>Tue, 06 Dec 2022</td>        <th>  AIC                </th> <td>1073.518</td>\n",
       "</tr>\n",
       "<tr>\n",
       "  <th>Time:</th>                       <td>15:57:17</td>            <th>  BIC                </th> <td>1075.596</td>\n",
       "</tr>\n",
       "<tr>\n",
       "  <th>Sample:</th>                    <td>01-01-2012</td>           <th>  HQIC               </th> <td>1074.329</td>\n",
       "</tr>\n",
       "<tr>\n",
       "  <th></th>                          <td>- 12-01-2017</td>          <th>                     </th>     <td> </td>   \n",
       "</tr>\n",
       "<tr>\n",
       "  <th>Covariance Type:</th>               <td>opg</td>              <th>                     </th>     <td> </td>   \n",
       "</tr>\n",
       "</table>\n",
       "<table class=\"simpletable\">\n",
       "<tr>\n",
       "     <td></td>       <th>coef</th>     <th>std err</th>      <th>z</th>      <th>P>|z|</th>  <th>[0.025</th>    <th>0.975]</th>  \n",
       "</tr>\n",
       "<tr>\n",
       "  <th>sigma2</th> <td> 4.485e+06</td> <td> 7.33e+05</td> <td>    6.121</td> <td> 0.000</td> <td> 3.05e+06</td> <td> 5.92e+06</td>\n",
       "</tr>\n",
       "</table>\n",
       "<table class=\"simpletable\">\n",
       "<tr>\n",
       "  <th>Ljung-Box (L1) (Q):</th>     <td>1.19</td> <th>  Jarque-Bera (JB):  </th> <td>0.63</td>\n",
       "</tr>\n",
       "<tr>\n",
       "  <th>Prob(Q):</th>                <td>0.27</td> <th>  Prob(JB):          </th> <td>0.73</td>\n",
       "</tr>\n",
       "<tr>\n",
       "  <th>Heteroskedasticity (H):</th> <td>0.44</td> <th>  Skew:              </th> <td>0.02</td>\n",
       "</tr>\n",
       "<tr>\n",
       "  <th>Prob(H) (two-sided):</th>    <td>0.07</td> <th>  Kurtosis:          </th> <td>3.51</td>\n",
       "</tr>\n",
       "</table><br/><br/>Warnings:<br/>[1] Covariance matrix calculated using the outer product of gradients (complex-step)."
      ],
      "text/plain": [
       "<class 'statsmodels.iolib.summary.Summary'>\n",
       "\"\"\"\n",
       "                                     SARIMAX Results                                      \n",
       "==========================================================================================\n",
       "Dep. Variable:        MedianListingPrice_AllHomes   No. Observations:                   72\n",
       "Model:             SARIMAX(0, 1, 0)x(0, 1, 0, 12)   Log Likelihood                -535.759\n",
       "Date:                            Tue, 06 Dec 2022   AIC                           1073.518\n",
       "Time:                                    15:57:17   BIC                           1075.596\n",
       "Sample:                                01-01-2012   HQIC                          1074.329\n",
       "                                     - 12-01-2017                                         \n",
       "Covariance Type:                              opg                                         \n",
       "==============================================================================\n",
       "                 coef    std err          z      P>|z|      [0.025      0.975]\n",
       "------------------------------------------------------------------------------\n",
       "sigma2      4.485e+06   7.33e+05      6.121      0.000    3.05e+06    5.92e+06\n",
       "===================================================================================\n",
       "Ljung-Box (L1) (Q):                   1.19   Jarque-Bera (JB):                 0.63\n",
       "Prob(Q):                              0.27   Prob(JB):                         0.73\n",
       "Heteroskedasticity (H):               0.44   Skew:                             0.02\n",
       "Prob(H) (two-sided):                  0.07   Kurtosis:                         3.51\n",
       "===================================================================================\n",
       "\n",
       "Warnings:\n",
       "[1] Covariance matrix calculated using the outer product of gradients (complex-step).\n",
       "\"\"\""
      ]
     },
     "execution_count": 49,
     "metadata": {},
     "output_type": "execute_result"
    }
   ],
   "source": [
    "sarima_fit.summary()"
   ]
  },
  {
   "cell_type": "code",
   "execution_count": 50,
   "metadata": {},
   "outputs": [
    {
     "data": {
      "image/png": "[encoded data removed]",
      "text/plain": [
       "<Figure size 1080x576 with 1 Axes>"
      ]
     },
     "metadata": {
      "needs_background": "light"
     },
     "output_type": "display_data"
    }
   ],
   "source": [
    "df_ts['forecast_SARIMA']=sarima_fit.predict(start = 30, end = 156)\n",
    "df_ts[['MedianListingPrice_AllHomes','forecast_SARIMA']].plot(figsize=(15,8))\n",
    "plt.title('SARIMA - predicción de MedianListingPrice_AllHomes', fontsize = 15)\n",
    "plt.show()"
   ]
  },
  {
   "cell_type": "code",
   "execution_count": 51,
   "metadata": {},
   "outputs": [],
   "source": [
    "from pandas.tseries.offsets import DateOffset\n",
    "\n",
    "future_sarima = [df_ts.index[-1]+ DateOffset(months=x)for x in range(0,24)] # 2 años = 24 meses"
   ]
  },
  {
   "cell_type": "code",
   "execution_count": 52,
   "metadata": {},
   "outputs": [],
   "source": [
    "future_df_SARIMA = pd.DataFrame(index=future_sarima[1:],columns=df_ts.columns)"
   ]
  },
  {
   "cell_type": "code",
   "execution_count": 53,
   "metadata": {},
   "outputs": [],
   "source": [
    "future_df_SARIMA  = pd.concat([df_ts,future_df_SARIMA]) # Concatenamos los dos dataframes"
   ]
  },
  {
   "cell_type": "code",
   "execution_count": 54,
   "metadata": {},
   "outputs": [
    {
     "data": {
      "image/png": "[encoded data removed]",
      "text/plain": [
       "<Figure size 1080x576 with 1 Axes>"
      ]
     },
     "metadata": {
      "needs_background": "light"
     },
     "output_type": "display_data"
    }
   ],
   "source": [
    "future_df_SARIMA ['forecast_SARIMA'] = sarima_fit.predict(start = 71, end = 156)  \n",
    "future_df_SARIMA [['MedianListingPrice_AllHomes', 'forecast_SARIMA']].plot(figsize=(15, 8)) \n",
    "plt.title('SARIMA - predicción de MedianListingPrice_AllHomes en los próximos 2 años del dataset')\n",
    "plt.show()"
   ]
  },
  {
   "cell_type": "markdown",
   "metadata": {},
   "source": [
    "---"
   ]
  },
  {
   "cell_type": "markdown",
   "metadata": {},
   "source": [
    "# PROPHET"
   ]
  },
  {
   "cell_type": "code",
   "execution_count": 55,
   "metadata": {},
   "outputs": [
    {
     "data": {
      "text/html": [
       "<div>\n",
       "<style scoped>\n",
       "    .dataframe tbody tr th:only-of-type {\n",
       "        vertical-align: middle;\n",
       "    }\n",
       "\n",
       "    .dataframe tbody tr th {\n",
       "        vertical-align: top;\n",
       "    }\n",
       "\n",
       "    .dataframe thead th {\n",
       "        text-align: right;\n",
       "    }\n",
       "</style>\n",
       "<table border=\"1\" class=\"dataframe\">\n",
       "  <thead>\n",
       "    <tr style=\"text-align: right;\">\n",
       "      <th></th>\n",
       "      <th>MedianListingPrice_AllHomes</th>\n",
       "      <th>Sale_Prices</th>\n",
       "      <th>Sale_Counts</th>\n",
       "      <th>Sales</th>\n",
       "    </tr>\n",
       "    <tr>\n",
       "      <th>Date</th>\n",
       "      <th></th>\n",
       "      <th></th>\n",
       "      <th></th>\n",
       "      <th></th>\n",
       "    </tr>\n",
       "  </thead>\n",
       "  <tbody>\n",
       "    <tr>\n",
       "      <th>2012-01-30/2012-02-05</th>\n",
       "      <td>186217.29</td>\n",
       "      <td>170674.0</td>\n",
       "      <td>4143.204082</td>\n",
       "      <td>8.290139e+08</td>\n",
       "    </tr>\n",
       "    <tr>\n",
       "      <th>2012-02-27/2012-03-04</th>\n",
       "      <td>186866.94</td>\n",
       "      <td>169831.0</td>\n",
       "      <td>4202.816327</td>\n",
       "      <td>8.456398e+08</td>\n",
       "    </tr>\n",
       "    <tr>\n",
       "      <th>2012-03-26/2012-04-01</th>\n",
       "      <td>189243.83</td>\n",
       "      <td>170393.0</td>\n",
       "      <td>4706.687500</td>\n",
       "      <td>1.039651e+09</td>\n",
       "    </tr>\n",
       "    <tr>\n",
       "      <th>2012-04-30/2012-05-06</th>\n",
       "      <td>190602.20</td>\n",
       "      <td>171191.0</td>\n",
       "      <td>4788.916667</td>\n",
       "      <td>1.056214e+09</td>\n",
       "    </tr>\n",
       "    <tr>\n",
       "      <th>2012-05-28/2012-06-03</th>\n",
       "      <td>190900.50</td>\n",
       "      <td>171174.0</td>\n",
       "      <td>5135.531915</td>\n",
       "      <td>1.216632e+09</td>\n",
       "    </tr>\n",
       "  </tbody>\n",
       "</table>\n",
       "</div>"
      ],
      "text/plain": [
       "                       MedianListingPrice_AllHomes  Sale_Prices  Sale_Counts  \\\n",
       "Date                                                                           \n",
       "2012-01-30/2012-02-05                    186217.29     170674.0  4143.204082   \n",
       "2012-02-27/2012-03-04                    186866.94     169831.0  4202.816327   \n",
       "2012-03-26/2012-04-01                    189243.83     170393.0  4706.687500   \n",
       "2012-04-30/2012-05-06                    190602.20     171191.0  4788.916667   \n",
       "2012-05-28/2012-06-03                    190900.50     171174.0  5135.531915   \n",
       "\n",
       "                              Sales  \n",
       "Date                                 \n",
       "2012-01-30/2012-02-05  8.290139e+08  \n",
       "2012-02-27/2012-03-04  8.456398e+08  \n",
       "2012-03-26/2012-04-01  1.039651e+09  \n",
       "2012-04-30/2012-05-06  1.056214e+09  \n",
       "2012-05-28/2012-06-03  1.216632e+09  "
      ]
     },
     "execution_count": 55,
     "metadata": {},
     "output_type": "execute_result"
    }
   ],
   "source": [
    "data_month = data_drop.resample('M',on='Date').mean()\n",
    "df_aux_prophet = data_month.reset_index()\n",
    "\n",
    "df_ts_prophet = df_aux_prophet\n",
    "df_ts_prophet['Date'] = df_aux['Date'].dt.to_period('W')\n",
    "df_ts_prophet.set_index(['Date'],inplace = True)\n",
    "df_ts_prophet.head()"
   ]
  },
  {
   "cell_type": "code",
   "execution_count": 56,
   "metadata": {},
   "outputs": [
    {
     "name": "stderr",
     "output_type": "stream",
     "text": [
      "Importing plotly failed. Interactive plots will not work.\n"
     ]
    }
   ],
   "source": [
    "from prophet import Prophet"
   ]
  },
  {
   "cell_type": "code",
   "execution_count": 57,
   "metadata": {},
   "outputs": [],
   "source": [
    "# Prophet trabaja la columna Date con el nombre 'ds' y la columna con las etiquetas con el nombre 'y'\n",
    "df_ts_prophet = df_ts.drop(columns= ['Sale_Prices', 'Sale_Counts', 'Sales', 'Diff_1_AllHomes_Price', 'forecast_ARIMA', 'forecast_SARIMA'])\n",
    "df_ts_prophet.reset_index(level= 0, inplace= True)\n",
    "df_ts_prophet.rename(columns= {'Date': 'ds', 'MedianListingPrice_AllHomes' : 'y'}, inplace = True)"
   ]
  },
  {
   "cell_type": "markdown",
   "metadata": {},
   "source": [
    "### Entrenamiento del modelo"
   ]
  },
  {
   "cell_type": "code",
   "execution_count": 58,
   "metadata": {},
   "outputs": [
    {
     "name": "stderr",
     "output_type": "stream",
     "text": [
      "15:57:18 - cmdstanpy - INFO - CmdStan installation c:\\Users\\Usuario\\AppData\\Local\\Programs\\Python\\Python310\\lib\\site-packages\\prophet\\stan_model\\cmdstan-2.26.1 missing makefile, cannot get version.\n",
      "15:57:18 - cmdstanpy - INFO - Cannot determine whether version is before 2.28.\n",
      "15:57:18 - cmdstanpy - INFO - CmdStan start processing\n",
      "chain 1 |\u001b[33m          \u001b[0m| 00:00 Status\n",
      "\u001b[A\n",
      "\n",
      "\u001b[A\u001b[A\n",
      "\n",
      "\u001b[A\u001b[A\n",
      "chain 1 |\u001b[34m██████████\u001b[0m| 00:00 Sampling completed                 \n",
      "chain 2 |\u001b[34m██████████\u001b[0m| 00:00 Sampling completed\n",
      "chain 3 |\u001b[34m██████████\u001b[0m| 00:00 Sampling completed                 \n",
      "chain 4 |\u001b[34m██████████\u001b[0m| 00:00 Sampling completed                   "
     ]
    },
    {
     "name": "stdout",
     "output_type": "stream",
     "text": [
      "                                                                                                                                                                                                                                                                                                                                "
     ]
    },
    {
     "name": "stderr",
     "output_type": "stream",
     "text": [
      "\n",
      "15:57:18 - cmdstanpy - INFO - CmdStan done processing.\n",
      "15:57:18 - cmdstanpy - WARNING - Non-fatal error during sampling:\n",
      "Exception: normal_id_glm_lpdf: Scale vector is 0, but must be positive finite! (in 'D:/a/prophet/prophet/python/stan/prophet.stan', line 137, column 2 to line 142, column 4)\n",
      "Exception: normal_id_glm_lpdf: Scale vector is 0, but must be positive finite! (in 'D:/a/prophet/prophet/python/stan/prophet.stan', line 137, column 2 to line 142, column 4)\n",
      "Exception: normal_id_glm_lpdf: Scale vector is inf, but must be positive finite! (in 'D:/a/prophet/prophet/python/stan/prophet.stan', line 137, column 2 to line 142, column 4)\n",
      "Exception: normal_id_glm_lpdf: Scale vector is 0, but must be positive finite! (in 'D:/a/prophet/prophet/python/stan/prophet.stan', line 137, column 2 to line 142, column 4)\n",
      "Consider re-running with show_console=True if the above output is unclear!\n",
      "15:57:18 - cmdstanpy - WARNING - Some chains may have failed to converge.\n",
      "\tChain 1 had 2 iterations at max treedepth (8.0%)\n",
      "\tChain 2 had 22 divergent transitions (88.0%)\n",
      "\tChain 3 had 1 divergent transitions (4.0%)\n",
      "\tChain 4 had 25 divergent transitions (100.0%)\n",
      "\tUse function \"diagnose()\" to see further information.\n"
     ]
    },
    {
     "name": "stdout",
     "output_type": "stream",
     "text": [
      "\n"
     ]
    }
   ],
   "source": [
    "# Instanciamos un modelo de Prophet\n",
    "\n",
    "prophet = Prophet(yearly_seasonality= True, uncertainty_samples = 50, mcmc_samples=50, interval_width= 0.6)\n",
    "\n",
    "# Entrenamos el modelo\n",
    "prophet.fit(df_ts_prophet)\n",
    "\n",
    "# Construimos un dataframe con los x valores futuros que querámos predecir. En este caso, 2 años.\n",
    "future = prophet.make_future_dataframe(periods=(2*12), freq='M')\n",
    "\n",
    "# Predecimos\n",
    "forecast_prophet = prophet.predict(future)"
   ]
  },
  {
   "cell_type": "markdown",
   "metadata": {},
   "source": [
    "### - PREDICCIÓN"
   ]
  },
  {
   "cell_type": "code",
   "execution_count": 59,
   "metadata": {},
   "outputs": [
    {
     "data": {
      "text/html": [
       "<div>\n",
       "<style scoped>\n",
       "    .dataframe tbody tr th:only-of-type {\n",
       "        vertical-align: middle;\n",
       "    }\n",
       "\n",
       "    .dataframe tbody tr th {\n",
       "        vertical-align: top;\n",
       "    }\n",
       "\n",
       "    .dataframe thead th {\n",
       "        text-align: right;\n",
       "    }\n",
       "</style>\n",
       "<table border=\"1\" class=\"dataframe\">\n",
       "  <thead>\n",
       "    <tr style=\"text-align: right;\">\n",
       "      <th></th>\n",
       "      <th>ds</th>\n",
       "      <th>trend</th>\n",
       "      <th>yhat_lower</th>\n",
       "      <th>yhat_upper</th>\n",
       "      <th>trend_lower</th>\n",
       "      <th>trend_upper</th>\n",
       "      <th>additive_terms</th>\n",
       "      <th>additive_terms_lower</th>\n",
       "      <th>additive_terms_upper</th>\n",
       "      <th>yearly</th>\n",
       "      <th>yearly_lower</th>\n",
       "      <th>yearly_upper</th>\n",
       "      <th>multiplicative_terms</th>\n",
       "      <th>multiplicative_terms_lower</th>\n",
       "      <th>multiplicative_terms_upper</th>\n",
       "      <th>yhat</th>\n",
       "    </tr>\n",
       "  </thead>\n",
       "  <tbody>\n",
       "    <tr>\n",
       "      <th>0</th>\n",
       "      <td>2012-01-01</td>\n",
       "      <td>187654.402173</td>\n",
       "      <td>180460.450775</td>\n",
       "      <td>185783.850566</td>\n",
       "      <td>186303.688138</td>\n",
       "      <td>189243.582359</td>\n",
       "      <td>-4438.627563</td>\n",
       "      <td>-5745.924718</td>\n",
       "      <td>-3129.028241</td>\n",
       "      <td>-4438.627563</td>\n",
       "      <td>-5745.924718</td>\n",
       "      <td>-3129.028241</td>\n",
       "      <td>0.0</td>\n",
       "      <td>0.0</td>\n",
       "      <td>0.0</td>\n",
       "      <td>183215.774611</td>\n",
       "    </tr>\n",
       "    <tr>\n",
       "      <th>1</th>\n",
       "      <td>2012-02-01</td>\n",
       "      <td>188477.196961</td>\n",
       "      <td>183318.385421</td>\n",
       "      <td>186982.630415</td>\n",
       "      <td>187511.432445</td>\n",
       "      <td>189509.252420</td>\n",
       "      <td>-3330.534842</td>\n",
       "      <td>-3938.344619</td>\n",
       "      <td>-2659.040088</td>\n",
       "      <td>-3330.534842</td>\n",
       "      <td>-3938.344619</td>\n",
       "      <td>-2659.040088</td>\n",
       "      <td>0.0</td>\n",
       "      <td>0.0</td>\n",
       "      <td>0.0</td>\n",
       "      <td>185146.662120</td>\n",
       "    </tr>\n",
       "    <tr>\n",
       "      <th>2</th>\n",
       "      <td>2012-03-01</td>\n",
       "      <td>189246.908215</td>\n",
       "      <td>186863.938005</td>\n",
       "      <td>190358.806817</td>\n",
       "      <td>188566.432550</td>\n",
       "      <td>189904.225546</td>\n",
       "      <td>-950.400845</td>\n",
       "      <td>-1610.410211</td>\n",
       "      <td>-95.595389</td>\n",
       "      <td>-950.400845</td>\n",
       "      <td>-1610.410211</td>\n",
       "      <td>-95.595389</td>\n",
       "      <td>0.0</td>\n",
       "      <td>0.0</td>\n",
       "      <td>0.0</td>\n",
       "      <td>188296.507370</td>\n",
       "    </tr>\n",
       "    <tr>\n",
       "      <th>3</th>\n",
       "      <td>2012-04-01</td>\n",
       "      <td>190095.129383</td>\n",
       "      <td>189687.206981</td>\n",
       "      <td>192933.358549</td>\n",
       "      <td>189391.479533</td>\n",
       "      <td>190819.797518</td>\n",
       "      <td>1347.676159</td>\n",
       "      <td>456.375632</td>\n",
       "      <td>2257.229996</td>\n",
       "      <td>1347.676159</td>\n",
       "      <td>456.375632</td>\n",
       "      <td>2257.229996</td>\n",
       "      <td>0.0</td>\n",
       "      <td>0.0</td>\n",
       "      <td>0.0</td>\n",
       "      <td>191442.805542</td>\n",
       "    </tr>\n",
       "    <tr>\n",
       "      <th>4</th>\n",
       "      <td>2012-05-01</td>\n",
       "      <td>190915.988578</td>\n",
       "      <td>191763.610271</td>\n",
       "      <td>195316.548259</td>\n",
       "      <td>190406.452040</td>\n",
       "      <td>191640.997072</td>\n",
       "      <td>2210.347521</td>\n",
       "      <td>1140.905785</td>\n",
       "      <td>3380.628515</td>\n",
       "      <td>2210.347521</td>\n",
       "      <td>1140.905785</td>\n",
       "      <td>3380.628515</td>\n",
       "      <td>0.0</td>\n",
       "      <td>0.0</td>\n",
       "      <td>0.0</td>\n",
       "      <td>193126.336099</td>\n",
       "    </tr>\n",
       "    <tr>\n",
       "      <th>...</th>\n",
       "      <td>...</td>\n",
       "      <td>...</td>\n",
       "      <td>...</td>\n",
       "      <td>...</td>\n",
       "      <td>...</td>\n",
       "      <td>...</td>\n",
       "      <td>...</td>\n",
       "      <td>...</td>\n",
       "      <td>...</td>\n",
       "      <td>...</td>\n",
       "      <td>...</td>\n",
       "      <td>...</td>\n",
       "      <td>...</td>\n",
       "      <td>...</td>\n",
       "      <td>...</td>\n",
       "      <td>...</td>\n",
       "    </tr>\n",
       "    <tr>\n",
       "      <th>91</th>\n",
       "      <td>2019-07-31</td>\n",
       "      <td>261123.762039</td>\n",
       "      <td>254739.288051</td>\n",
       "      <td>268897.587338</td>\n",
       "      <td>256130.523901</td>\n",
       "      <td>269119.350427</td>\n",
       "      <td>-315.241071</td>\n",
       "      <td>-4025.855437</td>\n",
       "      <td>1811.193206</td>\n",
       "      <td>-315.241071</td>\n",
       "      <td>-4025.855437</td>\n",
       "      <td>1811.193206</td>\n",
       "      <td>0.0</td>\n",
       "      <td>0.0</td>\n",
       "      <td>0.0</td>\n",
       "      <td>260808.520968</td>\n",
       "    </tr>\n",
       "    <tr>\n",
       "      <th>92</th>\n",
       "      <td>2019-08-31</td>\n",
       "      <td>262033.614602</td>\n",
       "      <td>260957.981460</td>\n",
       "      <td>275998.132563</td>\n",
       "      <td>256582.362458</td>\n",
       "      <td>270548.611737</td>\n",
       "      <td>5347.046167</td>\n",
       "      <td>1697.593472</td>\n",
       "      <td>8843.588946</td>\n",
       "      <td>5347.046167</td>\n",
       "      <td>1697.593472</td>\n",
       "      <td>8843.588946</td>\n",
       "      <td>0.0</td>\n",
       "      <td>0.0</td>\n",
       "      <td>0.0</td>\n",
       "      <td>267380.660769</td>\n",
       "    </tr>\n",
       "    <tr>\n",
       "      <th>93</th>\n",
       "      <td>2019-09-30</td>\n",
       "      <td>262914.117082</td>\n",
       "      <td>254132.400454</td>\n",
       "      <td>270265.246541</td>\n",
       "      <td>257051.515409</td>\n",
       "      <td>271692.668083</td>\n",
       "      <td>-2178.316361</td>\n",
       "      <td>-5079.478526</td>\n",
       "      <td>-129.629089</td>\n",
       "      <td>-2178.316361</td>\n",
       "      <td>-5079.478526</td>\n",
       "      <td>-129.629089</td>\n",
       "      <td>0.0</td>\n",
       "      <td>0.0</td>\n",
       "      <td>0.0</td>\n",
       "      <td>260735.800721</td>\n",
       "    </tr>\n",
       "    <tr>\n",
       "      <th>94</th>\n",
       "      <td>2019-10-31</td>\n",
       "      <td>263823.969644</td>\n",
       "      <td>254873.140113</td>\n",
       "      <td>272986.528466</td>\n",
       "      <td>257502.315070</td>\n",
       "      <td>272701.967132</td>\n",
       "      <td>-980.314679</td>\n",
       "      <td>-2691.147890</td>\n",
       "      <td>475.287120</td>\n",
       "      <td>-980.314679</td>\n",
       "      <td>-2691.147890</td>\n",
       "      <td>475.287120</td>\n",
       "      <td>0.0</td>\n",
       "      <td>0.0</td>\n",
       "      <td>0.0</td>\n",
       "      <td>262843.654965</td>\n",
       "    </tr>\n",
       "    <tr>\n",
       "      <th>95</th>\n",
       "      <td>2019-11-30</td>\n",
       "      <td>264704.472124</td>\n",
       "      <td>249103.511264</td>\n",
       "      <td>269430.484351</td>\n",
       "      <td>257994.637321</td>\n",
       "      <td>273978.817324</td>\n",
       "      <td>-6919.370414</td>\n",
       "      <td>-8106.480447</td>\n",
       "      <td>-5115.481861</td>\n",
       "      <td>-6919.370414</td>\n",
       "      <td>-8106.480447</td>\n",
       "      <td>-5115.481861</td>\n",
       "      <td>0.0</td>\n",
       "      <td>0.0</td>\n",
       "      <td>0.0</td>\n",
       "      <td>257785.101710</td>\n",
       "    </tr>\n",
       "  </tbody>\n",
       "</table>\n",
       "<p>96 rows × 16 columns</p>\n",
       "</div>"
      ],
      "text/plain": [
       "           ds          trend     yhat_lower     yhat_upper    trend_lower  \\\n",
       "0  2012-01-01  187654.402173  180460.450775  185783.850566  186303.688138   \n",
       "1  2012-02-01  188477.196961  183318.385421  186982.630415  187511.432445   \n",
       "2  2012-03-01  189246.908215  186863.938005  190358.806817  188566.432550   \n",
       "3  2012-04-01  190095.129383  189687.206981  192933.358549  189391.479533   \n",
       "4  2012-05-01  190915.988578  191763.610271  195316.548259  190406.452040   \n",
       "..        ...            ...            ...            ...            ...   \n",
       "91 2019-07-31  261123.762039  254739.288051  268897.587338  256130.523901   \n",
       "92 2019-08-31  262033.614602  260957.981460  275998.132563  256582.362458   \n",
       "93 2019-09-30  262914.117082  254132.400454  270265.246541  257051.515409   \n",
       "94 2019-10-31  263823.969644  254873.140113  272986.528466  257502.315070   \n",
       "95 2019-11-30  264704.472124  249103.511264  269430.484351  257994.637321   \n",
       "\n",
       "      trend_upper  additive_terms  additive_terms_lower  additive_terms_upper  \\\n",
       "0   189243.582359    -4438.627563          -5745.924718          -3129.028241   \n",
       "1   189509.252420    -3330.534842          -3938.344619          -2659.040088   \n",
       "2   189904.225546     -950.400845          -1610.410211            -95.595389   \n",
       "3   190819.797518     1347.676159            456.375632           2257.229996   \n",
       "4   191640.997072     2210.347521           1140.905785           3380.628515   \n",
       "..            ...             ...                   ...                   ...   \n",
       "91  269119.350427     -315.241071          -4025.855437           1811.193206   \n",
       "92  270548.611737     5347.046167           1697.593472           8843.588946   \n",
       "93  271692.668083    -2178.316361          -5079.478526           -129.629089   \n",
       "94  272701.967132     -980.314679          -2691.147890            475.287120   \n",
       "95  273978.817324    -6919.370414          -8106.480447          -5115.481861   \n",
       "\n",
       "         yearly  yearly_lower  yearly_upper  multiplicative_terms  \\\n",
       "0  -4438.627563  -5745.924718  -3129.028241                   0.0   \n",
       "1  -3330.534842  -3938.344619  -2659.040088                   0.0   \n",
       "2   -950.400845  -1610.410211    -95.595389                   0.0   \n",
       "3   1347.676159    456.375632   2257.229996                   0.0   \n",
       "4   2210.347521   1140.905785   3380.628515                   0.0   \n",
       "..          ...           ...           ...                   ...   \n",
       "91  -315.241071  -4025.855437   1811.193206                   0.0   \n",
       "92  5347.046167   1697.593472   8843.588946                   0.0   \n",
       "93 -2178.316361  -5079.478526   -129.629089                   0.0   \n",
       "94  -980.314679  -2691.147890    475.287120                   0.0   \n",
       "95 -6919.370414  -8106.480447  -5115.481861                   0.0   \n",
       "\n",
       "    multiplicative_terms_lower  multiplicative_terms_upper           yhat  \n",
       "0                          0.0                         0.0  183215.774611  \n",
       "1                          0.0                         0.0  185146.662120  \n",
       "2                          0.0                         0.0  188296.507370  \n",
       "3                          0.0                         0.0  191442.805542  \n",
       "4                          0.0                         0.0  193126.336099  \n",
       "..                         ...                         ...            ...  \n",
       "91                         0.0                         0.0  260808.520968  \n",
       "92                         0.0                         0.0  267380.660769  \n",
       "93                         0.0                         0.0  260735.800721  \n",
       "94                         0.0                         0.0  262843.654965  \n",
       "95                         0.0                         0.0  257785.101710  \n",
       "\n",
       "[96 rows x 16 columns]"
      ]
     },
     "execution_count": 59,
     "metadata": {},
     "output_type": "execute_result"
    }
   ],
   "source": [
    "# yhat: valor pronosticado , (yhat_lower, yhat_upper): valores entre los que varia la prediccion, \n",
    "prophet_pred = prophet.predict(future)\n",
    "prophet_pred"
   ]
  },
  {
   "cell_type": "code",
   "execution_count": 60,
   "metadata": {},
   "outputs": [
    {
     "data": {
      "image/png": "[encoded data removed]",
      "text/plain": [
       "<Figure size 800x500 with 1 Axes>"
      ]
     },
     "metadata": {
      "needs_background": "light"
     },
     "output_type": "display_data"
    }
   ],
   "source": [
    "# Plot\n",
    "plt.figure(figsize=(8,5), dpi=100)\n",
    "plt.plot(train['MedianListingPrice_AllHomes'], label='training')\n",
    "plt.plot(prophet_pred.yhat[57:73], label='forecast')\n",
    "plt.plot(test['MedianListingPrice_AllHomes'], label='actual')\n",
    "\n",
    "\n",
    "plt.title('PROPHET valores reales vs predicción')\n",
    "plt.legend(loc='lower right', fontsize=8)\n",
    "plt.show();"
   ]
  },
  {
   "cell_type": "code",
   "execution_count": 61,
   "metadata": {},
   "outputs": [
    {
     "data": {
      "image/png": "[encoded data removed]",
      "text/plain": [
       "<Figure size 1152x432 with 1 Axes>"
      ]
     },
     "metadata": {},
     "output_type": "display_data"
    }
   ],
   "source": [
    "# plot forecasts\n",
    "\n",
    "prophet.plot(forecast_prophet, xlabel='Date', ylabel='MedianListingPrice_AllHomes', figsize = (16,6))\n",
    "plt.title('PROPHET - predicción', fontsize = 25)\n",
    "plt.show()"
   ]
  },
  {
   "cell_type": "code",
   "execution_count": 62,
   "metadata": {},
   "outputs": [
    {
     "data": {
      "image/png": "[encoded data removed]",
      "text/plain": [
       "<Figure size 1152x432 with 2 Axes>"
      ]
     },
     "metadata": {},
     "output_type": "display_data"
    }
   ],
   "source": [
    "# Ploteamos los componentes de nuestra serie de tiempo\n",
    "\n",
    "components = prophet.plot_components(forecast_prophet, figsize=(16,6))"
   ]
  },
  {
   "cell_type": "markdown",
   "metadata": {},
   "source": [
    "### - Evaluación del modelo"
   ]
  },
  {
   "cell_type": "code",
   "execution_count": 63,
   "metadata": {},
   "outputs": [],
   "source": [
    "from prophet.diagnostics import cross_validation\n",
    "from prophet.diagnostics import performance_metrics\n",
    "from prophet.plot import plot_cross_validation_metric"
   ]
  },
  {
   "cell_type": "code",
   "execution_count": 64,
   "metadata": {},
   "outputs": [
    {
     "name": "stderr",
     "output_type": "stream",
     "text": [
      "  0%|          | 0/4 [00:00<?, ?it/s]15:57:19 - cmdstanpy - INFO - CmdStan installation c:\\Users\\Usuario\\AppData\\Local\\Programs\\Python\\Python310\\lib\\site-packages\\prophet\\stan_model\\cmdstan-2.26.1 missing makefile, cannot get version.\n",
      "15:57:19 - cmdstanpy - INFO - Cannot determine whether version is before 2.28.\n",
      "15:57:19 - cmdstanpy - INFO - CmdStan start processing\n",
      "\n",
      "\u001b[A\n",
      "\n",
      "\u001b[A\u001b[A\n",
      "\n",
      "\n",
      "\u001b[A\u001b[A\u001b[A\n",
      "\n",
      "chain 1 |\u001b[34m██████████\u001b[0m| 00:00 Sampling completed                   \n",
      "\n",
      "chain 2 |\u001b[34m██████████\u001b[0m| 00:00 Sampling completed\n",
      "chain 3 |\u001b[34m██████████\u001b[0m| 00:00 Sampling completed                   \n",
      "\n",
      "\n",
      "\n",
      "chain 4 |\u001b[34m██████████\u001b[0m| 00:00 Sampling completed"
     ]
    },
    {
     "name": "stdout",
     "output_type": "stream",
     "text": [
      "                                                                                                                                                                                                                                                                                                                                "
     ]
    },
    {
     "name": "stderr",
     "output_type": "stream",
     "text": [
      "\n",
      "15:57:19 - cmdstanpy - INFO - CmdStan done processing.\n",
      "15:57:19 - cmdstanpy - WARNING - Non-fatal error during sampling:\n",
      "Exception: normal_id_glm_lpdf: Scale vector is 0, but must be positive finite! (in 'D:/a/prophet/prophet/python/stan/prophet.stan', line 137, column 2 to line 142, column 4)\n",
      "Exception: normal_id_glm_lpdf: Scale vector is 0, but must be positive finite! (in 'D:/a/prophet/prophet/python/stan/prophet.stan', line 137, column 2 to line 142, column 4)\n",
      "Exception: normal_id_glm_lpdf: Scale vector is 0, but must be positive finite! (in 'D:/a/prophet/prophet/python/stan/prophet.stan', line 137, column 2 to line 142, column 4)\n",
      "Exception: normal_id_glm_lpdf: Scale vector is 0, but must be positive finite! (in 'D:/a/prophet/prophet/python/stan/prophet.stan', line 137, column 2 to line 142, column 4)\n",
      "Consider re-running with show_console=True if the above output is unclear!\n",
      "15:57:19 - cmdstanpy - WARNING - Some chains may have failed to converge.\n",
      "\tChain 1 had 11 divergent transitions (44.0%)\n",
      "\tChain 2 had 25 divergent transitions (100.0%)\n",
      "\tChain 3 had 7 divergent transitions (28.0%)\n",
      "\tChain 4 had 21 divergent transitions (84.0%)\n",
      "\tUse function \"diagnose()\" to see further information.\n",
      " 25%|██▌       | 1/4 [00:00<00:00,  3.37it/s]15:57:19 - cmdstanpy - INFO - CmdStan installation c:\\Users\\Usuario\\AppData\\Local\\Programs\\Python\\Python310\\lib\\site-packages\\prophet\\stan_model\\cmdstan-2.26.1 missing makefile, cannot get version.\n"
     ]
    },
    {
     "name": "stdout",
     "output_type": "stream",
     "text": [
      "\n"
     ]
    },
    {
     "name": "stderr",
     "output_type": "stream",
     "text": [
      "15:57:19 - cmdstanpy - INFO - Cannot determine whether version is before 2.28.\n",
      "15:57:19 - cmdstanpy - INFO - CmdStan start processing\n",
      "\n",
      "\u001b[A\n",
      "\n",
      "\u001b[A\u001b[A\n",
      "\n",
      "\n",
      "\u001b[A\u001b[A\u001b[A\n",
      "\u001b[A\n",
      "\n",
      "\u001b[A\u001b[A\n",
      "\n",
      "\n",
      "chain 1 |\u001b[34m██████████\u001b[0m| 00:00 Sampling completed                   \n",
      "chain 2 |\u001b[34m██████████\u001b[0m| 00:00 Sampling completed                   \n",
      "chain 3 |\u001b[34m██████████\u001b[0m| 00:00 Sampling completed                 \n",
      "chain 4 |\u001b[34m██████████\u001b[0m| 00:00 Sampling completed                 "
     ]
    },
    {
     "name": "stdout",
     "output_type": "stream",
     "text": [
      "                                                                                                                                                                                                                                                                                                                                "
     ]
    },
    {
     "name": "stderr",
     "output_type": "stream",
     "text": [
      "\n",
      "15:57:19 - cmdstanpy - INFO - CmdStan done processing.\n",
      "15:57:19 - cmdstanpy - WARNING - Non-fatal error during sampling:\n",
      "Exception: normal_id_glm_lpdf: Scale vector is 0, but must be positive finite! (in 'D:/a/prophet/prophet/python/stan/prophet.stan', line 137, column 2 to line 142, column 4)\n",
      "Exception: normal_id_glm_lpdf: Scale vector is inf, but must be positive finite! (in 'D:/a/prophet/prophet/python/stan/prophet.stan', line 137, column 2 to line 142, column 4)\n",
      "Exception: normal_id_glm_lpdf: Scale vector is 0, but must be positive finite! (in 'D:/a/prophet/prophet/python/stan/prophet.stan', line 137, column 2 to line 142, column 4)\n",
      "Exception: normal_id_glm_lpdf: Matrix of independent variables is inf, but must be finite! (in 'D:/a/prophet/prophet/python/stan/prophet.stan', line 137, column 2 to line 142, column 4)\n",
      "Consider re-running with show_console=True if the above output is unclear!\n",
      "15:57:19 - cmdstanpy - WARNING - Some chains may have failed to converge.\n",
      "\tChain 1 had 21 divergent transitions (84.0%)\n",
      "\tChain 2 had 15 divergent transitions (60.0%)\n",
      "\tChain 3 had 4 divergent transitions (16.0%)\n",
      "\tChain 4 had 2 divergent transitions (8.0%)\n",
      "\tUse function \"diagnose()\" to see further information.\n",
      " 50%|█████     | 2/4 [00:00<00:00,  2.85it/s]15:57:20 - cmdstanpy - INFO - CmdStan installation c:\\Users\\Usuario\\AppData\\Local\\Programs\\Python\\Python310\\lib\\site-packages\\prophet\\stan_model\\cmdstan-2.26.1 missing makefile, cannot get version.\n"
     ]
    },
    {
     "name": "stdout",
     "output_type": "stream",
     "text": [
      "\n"
     ]
    },
    {
     "name": "stderr",
     "output_type": "stream",
     "text": [
      "15:57:20 - cmdstanpy - INFO - Cannot determine whether version is before 2.28.\n",
      "15:57:20 - cmdstanpy - INFO - CmdStan start processing\n",
      "\n",
      "\u001b[A\n",
      "\n",
      "\u001b[A\u001b[A\n",
      "\n",
      "\n",
      "\u001b[A\u001b[A\u001b[A\n",
      "\n",
      "\u001b[A\u001b[A\n",
      "\u001b[A\n",
      "\n",
      "\n",
      "chain 1 |\u001b[34m██████████\u001b[0m| 00:00 Sampling completed\n",
      "chain 2 |\u001b[34m██████████\u001b[0m| 00:00 Sampling completed                   \n",
      "chain 3 |\u001b[34m██████████\u001b[0m| 00:00 Sampling completed                 \n",
      "chain 4 |\u001b[34m██████████\u001b[0m| 00:00 Sampling completed                   "
     ]
    },
    {
     "name": "stdout",
     "output_type": "stream",
     "text": [
      "                                                                                                                                                                                                                                                                                                                                "
     ]
    },
    {
     "name": "stderr",
     "output_type": "stream",
     "text": [
      "\n",
      "15:57:20 - cmdstanpy - INFO - CmdStan done processing.\n",
      "15:57:20 - cmdstanpy - WARNING - Non-fatal error during sampling:\n",
      "Exception: normal_id_glm_lpdf: Scale vector is 0, but must be positive finite! (in 'D:/a/prophet/prophet/python/stan/prophet.stan', line 137, column 2 to line 142, column 4)\n",
      "Exception: normal_id_glm_lpdf: Scale vector is 0, but must be positive finite! (in 'D:/a/prophet/prophet/python/stan/prophet.stan', line 137, column 2 to line 142, column 4)\n",
      "Exception: normal_id_glm_lpdf: Scale vector is 0, but must be positive finite! (in 'D:/a/prophet/prophet/python/stan/prophet.stan', line 137, column 2 to line 142, column 4)\n",
      "Exception: normal_id_glm_lpdf: Scale vector is inf, but must be positive finite! (in 'D:/a/prophet/prophet/python/stan/prophet.stan', line 137, column 2 to line 142, column 4)\n",
      "Consider re-running with show_console=True if the above output is unclear!\n",
      "15:57:20 - cmdstanpy - WARNING - Some chains may have failed to converge.\n",
      "\tChain 1 had 25 divergent transitions (100.0%)\n",
      "\tChain 2 had 6 divergent transitions (24.0%)\n",
      "\tChain 4 had 9 divergent transitions (36.0%)\n",
      "\tUse function \"diagnose()\" to see further information.\n",
      " 75%|███████▌  | 3/4 [00:01<00:00,  2.74it/s]15:57:20 - cmdstanpy - INFO - CmdStan installation c:\\Users\\Usuario\\AppData\\Local\\Programs\\Python\\Python310\\lib\\site-packages\\prophet\\stan_model\\cmdstan-2.26.1 missing makefile, cannot get version.\n"
     ]
    },
    {
     "name": "stdout",
     "output_type": "stream",
     "text": [
      "\n"
     ]
    },
    {
     "name": "stderr",
     "output_type": "stream",
     "text": [
      "15:57:20 - cmdstanpy - INFO - Cannot determine whether version is before 2.28.\n",
      "15:57:20 - cmdstanpy - INFO - CmdStan start processing\n",
      "\n",
      "\u001b[A\n",
      "\n",
      "\u001b[A\u001b[A\n",
      "\n",
      "\n",
      "\u001b[A\u001b[A\u001b[A\n",
      "\n",
      "\n",
      "\u001b[A\u001b[A\u001b[A\n",
      "chain 1 |\u001b[34m██████████\u001b[0m| 00:00 Sampling completed\n",
      "chain 2 |\u001b[34m██████████\u001b[0m| 00:00 Sampling completed                   \n",
      "\n",
      "\n",
      "chain 3 |\u001b[34m██████████\u001b[0m| 00:00 Sampling completed\n",
      "chain 4 |\u001b[34m██████████\u001b[0m| 00:00 Sampling completed                   "
     ]
    },
    {
     "name": "stdout",
     "output_type": "stream",
     "text": [
      "                                                                                                                                                                                                                                                                                                                                "
     ]
    },
    {
     "name": "stderr",
     "output_type": "stream",
     "text": [
      "\n",
      "15:57:20 - cmdstanpy - INFO - CmdStan done processing.\n",
      "15:57:20 - cmdstanpy - WARNING - Non-fatal error during sampling:\n",
      "Exception: normal_id_glm_lpdf: Scale vector is 0, but must be positive finite! (in 'D:/a/prophet/prophet/python/stan/prophet.stan', line 137, column 2 to line 142, column 4)\n",
      "Exception: normal_id_glm_lpdf: Scale vector is inf, but must be positive finite! (in 'D:/a/prophet/prophet/python/stan/prophet.stan', line 137, column 2 to line 142, column 4)\n",
      "Exception: normal_id_glm_lpdf: Scale vector is 0, but must be positive finite! (in 'D:/a/prophet/prophet/python/stan/prophet.stan', line 137, column 2 to line 142, column 4)\n",
      "Exception: normal_id_glm_lpdf: Scale vector is 0, but must be positive finite! (in 'D:/a/prophet/prophet/python/stan/prophet.stan', line 137, column 2 to line 142, column 4)\n",
      "Consider re-running with show_console=True if the above output is unclear!\n",
      "15:57:20 - cmdstanpy - WARNING - Some chains may have failed to converge.\n",
      "\tChain 1 had 16 divergent transitions (64.0%)\n",
      "\tChain 2 had 6 divergent transitions (24.0%)\n",
      "\tChain 3 had 25 divergent transitions (100.0%)\n",
      "\tChain 4 had 18 divergent transitions (72.0%)\n",
      "\tUse function \"diagnose()\" to see further information.\n",
      "100%|██████████| 4/4 [00:01<00:00,  2.84it/s]"
     ]
    },
    {
     "name": "stdout",
     "output_type": "stream",
     "text": [
      "\n"
     ]
    },
    {
     "name": "stderr",
     "output_type": "stream",
     "text": [
      "\n"
     ]
    }
   ],
   "source": [
    "df_cv = cross_validation(model=prophet, horizon= '365 days')"
   ]
  },
  {
   "cell_type": "code",
   "execution_count": 65,
   "metadata": {},
   "outputs": [
    {
     "data": {
      "text/html": [
       "<div>\n",
       "<style scoped>\n",
       "    .dataframe tbody tr th:only-of-type {\n",
       "        vertical-align: middle;\n",
       "    }\n",
       "\n",
       "    .dataframe tbody tr th {\n",
       "        vertical-align: top;\n",
       "    }\n",
       "\n",
       "    .dataframe thead th {\n",
       "        text-align: right;\n",
       "    }\n",
       "</style>\n",
       "<table border=\"1\" class=\"dataframe\">\n",
       "  <thead>\n",
       "    <tr style=\"text-align: right;\">\n",
       "      <th></th>\n",
       "      <th>ds</th>\n",
       "      <th>yhat</th>\n",
       "      <th>yhat_lower</th>\n",
       "      <th>yhat_upper</th>\n",
       "      <th>y</th>\n",
       "      <th>cutoff</th>\n",
       "    </tr>\n",
       "  </thead>\n",
       "  <tbody>\n",
       "    <tr>\n",
       "      <th>0</th>\n",
       "      <td>2015-07-01</td>\n",
       "      <td>219888.649126</td>\n",
       "      <td>216419.771824</td>\n",
       "      <td>222791.674396</td>\n",
       "      <td>221424.854167</td>\n",
       "      <td>2015-06-02 12:00:00</td>\n",
       "    </tr>\n",
       "    <tr>\n",
       "      <th>1</th>\n",
       "      <td>2015-08-01</td>\n",
       "      <td>220878.398479</td>\n",
       "      <td>217548.237416</td>\n",
       "      <td>225748.866821</td>\n",
       "      <td>220826.250000</td>\n",
       "      <td>2015-06-02 12:00:00</td>\n",
       "    </tr>\n",
       "    <tr>\n",
       "      <th>2</th>\n",
       "      <td>2015-09-01</td>\n",
       "      <td>218278.737071</td>\n",
       "      <td>214822.652862</td>\n",
       "      <td>221457.261373</td>\n",
       "      <td>221118.937500</td>\n",
       "      <td>2015-06-02 12:00:00</td>\n",
       "    </tr>\n",
       "    <tr>\n",
       "      <th>3</th>\n",
       "      <td>2015-10-01</td>\n",
       "      <td>221504.270041</td>\n",
       "      <td>218616.055937</td>\n",
       "      <td>224597.099386</td>\n",
       "      <td>220285.416667</td>\n",
       "      <td>2015-06-02 12:00:00</td>\n",
       "    </tr>\n",
       "    <tr>\n",
       "      <th>4</th>\n",
       "      <td>2015-11-01</td>\n",
       "      <td>222330.584332</td>\n",
       "      <td>217143.164062</td>\n",
       "      <td>227441.354329</td>\n",
       "      <td>219672.531250</td>\n",
       "      <td>2015-06-02 12:00:00</td>\n",
       "    </tr>\n",
       "    <tr>\n",
       "      <th>5</th>\n",
       "      <td>2015-12-01</td>\n",
       "      <td>219447.743787</td>\n",
       "      <td>216823.691346</td>\n",
       "      <td>223616.105389</td>\n",
       "      <td>217935.062500</td>\n",
       "      <td>2015-06-02 12:00:00</td>\n",
       "    </tr>\n",
       "    <tr>\n",
       "      <th>6</th>\n",
       "      <td>2016-01-01</td>\n",
       "      <td>221205.178122</td>\n",
       "      <td>217902.585610</td>\n",
       "      <td>224974.048525</td>\n",
       "      <td>217671.854167</td>\n",
       "      <td>2015-06-02 12:00:00</td>\n",
       "    </tr>\n",
       "    <tr>\n",
       "      <th>7</th>\n",
       "      <td>2016-02-01</td>\n",
       "      <td>222024.829713</td>\n",
       "      <td>218594.678124</td>\n",
       "      <td>225673.853296</td>\n",
       "      <td>218646.854167</td>\n",
       "      <td>2015-06-02 12:00:00</td>\n",
       "    </tr>\n",
       "    <tr>\n",
       "      <th>8</th>\n",
       "      <td>2016-03-01</td>\n",
       "      <td>226044.405082</td>\n",
       "      <td>221872.737699</td>\n",
       "      <td>230650.312740</td>\n",
       "      <td>223582.625000</td>\n",
       "      <td>2015-06-02 12:00:00</td>\n",
       "    </tr>\n",
       "    <tr>\n",
       "      <th>9</th>\n",
       "      <td>2016-04-01</td>\n",
       "      <td>227912.811907</td>\n",
       "      <td>222972.955802</td>\n",
       "      <td>233130.760015</td>\n",
       "      <td>228571.135417</td>\n",
       "      <td>2015-06-02 12:00:00</td>\n",
       "    </tr>\n",
       "    <tr>\n",
       "      <th>10</th>\n",
       "      <td>2016-05-01</td>\n",
       "      <td>228474.591955</td>\n",
       "      <td>223590.235020</td>\n",
       "      <td>234815.418824</td>\n",
       "      <td>231081.875000</td>\n",
       "      <td>2015-06-02 12:00:00</td>\n",
       "    </tr>\n",
       "    <tr>\n",
       "      <th>11</th>\n",
       "      <td>2016-06-01</td>\n",
       "      <td>233079.333647</td>\n",
       "      <td>227705.927683</td>\n",
       "      <td>239072.825570</td>\n",
       "      <td>232725.864583</td>\n",
       "      <td>2015-06-02 12:00:00</td>\n",
       "    </tr>\n",
       "    <tr>\n",
       "      <th>12</th>\n",
       "      <td>2016-01-01</td>\n",
       "      <td>221885.065699</td>\n",
       "      <td>219026.454153</td>\n",
       "      <td>224940.855476</td>\n",
       "      <td>217671.854167</td>\n",
       "      <td>2015-12-02 00:00:00</td>\n",
       "    </tr>\n",
       "    <tr>\n",
       "      <th>13</th>\n",
       "      <td>2016-02-01</td>\n",
       "      <td>222651.191183</td>\n",
       "      <td>220141.257530</td>\n",
       "      <td>226001.070034</td>\n",
       "      <td>218646.854167</td>\n",
       "      <td>2015-12-02 00:00:00</td>\n",
       "    </tr>\n",
       "    <tr>\n",
       "      <th>14</th>\n",
       "      <td>2016-03-01</td>\n",
       "      <td>225367.950955</td>\n",
       "      <td>222071.599778</td>\n",
       "      <td>228083.127197</td>\n",
       "      <td>223582.625000</td>\n",
       "      <td>2015-12-02 00:00:00</td>\n",
       "    </tr>\n",
       "    <tr>\n",
       "      <th>15</th>\n",
       "      <td>2016-04-01</td>\n",
       "      <td>228182.189245</td>\n",
       "      <td>225669.967402</td>\n",
       "      <td>231016.056025</td>\n",
       "      <td>228571.135417</td>\n",
       "      <td>2015-12-02 00:00:00</td>\n",
       "    </tr>\n",
       "    <tr>\n",
       "      <th>16</th>\n",
       "      <td>2016-05-01</td>\n",
       "      <td>228735.596573</td>\n",
       "      <td>225496.651611</td>\n",
       "      <td>231372.180129</td>\n",
       "      <td>231081.875000</td>\n",
       "      <td>2015-12-02 00:00:00</td>\n",
       "    </tr>\n",
       "    <tr>\n",
       "      <th>17</th>\n",
       "      <td>2016-06-01</td>\n",
       "      <td>234411.145039</td>\n",
       "      <td>231356.816445</td>\n",
       "      <td>238309.637433</td>\n",
       "      <td>232725.864583</td>\n",
       "      <td>2015-12-02 00:00:00</td>\n",
       "    </tr>\n",
       "    <tr>\n",
       "      <th>18</th>\n",
       "      <td>2016-07-01</td>\n",
       "      <td>233477.054534</td>\n",
       "      <td>229340.545738</td>\n",
       "      <td>236526.191438</td>\n",
       "      <td>232432.916667</td>\n",
       "      <td>2015-12-02 00:00:00</td>\n",
       "    </tr>\n",
       "    <tr>\n",
       "      <th>19</th>\n",
       "      <td>2016-08-01</td>\n",
       "      <td>232849.178891</td>\n",
       "      <td>228982.856165</td>\n",
       "      <td>236519.910793</td>\n",
       "      <td>230140.572917</td>\n",
       "      <td>2015-12-02 00:00:00</td>\n",
       "    </tr>\n",
       "    <tr>\n",
       "      <th>20</th>\n",
       "      <td>2016-09-01</td>\n",
       "      <td>231457.055085</td>\n",
       "      <td>227932.166179</td>\n",
       "      <td>236602.004641</td>\n",
       "      <td>229994.281250</td>\n",
       "      <td>2015-12-02 00:00:00</td>\n",
       "    </tr>\n",
       "    <tr>\n",
       "      <th>21</th>\n",
       "      <td>2016-10-01</td>\n",
       "      <td>230761.816706</td>\n",
       "      <td>227347.295123</td>\n",
       "      <td>236301.002186</td>\n",
       "      <td>230033.729167</td>\n",
       "      <td>2015-12-02 00:00:00</td>\n",
       "    </tr>\n",
       "    <tr>\n",
       "      <th>22</th>\n",
       "      <td>2016-11-01</td>\n",
       "      <td>231447.981582</td>\n",
       "      <td>225684.925690</td>\n",
       "      <td>235754.404874</td>\n",
       "      <td>228616.166667</td>\n",
       "      <td>2015-12-02 00:00:00</td>\n",
       "    </tr>\n",
       "    <tr>\n",
       "      <th>23</th>\n",
       "      <td>2016-12-01</td>\n",
       "      <td>234418.113670</td>\n",
       "      <td>229065.972832</td>\n",
       "      <td>239470.537619</td>\n",
       "      <td>226939.020833</td>\n",
       "      <td>2015-12-02 00:00:00</td>\n",
       "    </tr>\n",
       "    <tr>\n",
       "      <th>24</th>\n",
       "      <td>2016-07-01</td>\n",
       "      <td>232197.447005</td>\n",
       "      <td>229404.793424</td>\n",
       "      <td>235023.800721</td>\n",
       "      <td>232432.916667</td>\n",
       "      <td>2016-06-01 12:00:00</td>\n",
       "    </tr>\n",
       "    <tr>\n",
       "      <th>25</th>\n",
       "      <td>2016-08-01</td>\n",
       "      <td>230605.681139</td>\n",
       "      <td>228067.014702</td>\n",
       "      <td>233231.547949</td>\n",
       "      <td>230140.572917</td>\n",
       "      <td>2016-06-01 12:00:00</td>\n",
       "    </tr>\n",
       "    <tr>\n",
       "      <th>26</th>\n",
       "      <td>2016-09-01</td>\n",
       "      <td>230671.108798</td>\n",
       "      <td>228193.391725</td>\n",
       "      <td>232601.059432</td>\n",
       "      <td>229994.281250</td>\n",
       "      <td>2016-06-01 12:00:00</td>\n",
       "    </tr>\n",
       "    <tr>\n",
       "      <th>27</th>\n",
       "      <td>2016-10-01</td>\n",
       "      <td>228960.451407</td>\n",
       "      <td>226586.107662</td>\n",
       "      <td>231885.565342</td>\n",
       "      <td>230033.729167</td>\n",
       "      <td>2016-06-01 12:00:00</td>\n",
       "    </tr>\n",
       "    <tr>\n",
       "      <th>28</th>\n",
       "      <td>2016-11-01</td>\n",
       "      <td>228601.960564</td>\n",
       "      <td>225496.214171</td>\n",
       "      <td>231993.663463</td>\n",
       "      <td>228616.166667</td>\n",
       "      <td>2016-06-01 12:00:00</td>\n",
       "    </tr>\n",
       "    <tr>\n",
       "      <th>29</th>\n",
       "      <td>2016-12-01</td>\n",
       "      <td>231072.193318</td>\n",
       "      <td>229028.178707</td>\n",
       "      <td>234061.611008</td>\n",
       "      <td>226939.020833</td>\n",
       "      <td>2016-06-01 12:00:00</td>\n",
       "    </tr>\n",
       "    <tr>\n",
       "      <th>30</th>\n",
       "      <td>2017-01-01</td>\n",
       "      <td>230257.407211</td>\n",
       "      <td>228043.348848</td>\n",
       "      <td>233677.622197</td>\n",
       "      <td>226262.927083</td>\n",
       "      <td>2016-06-01 12:00:00</td>\n",
       "    </tr>\n",
       "    <tr>\n",
       "      <th>31</th>\n",
       "      <td>2017-02-01</td>\n",
       "      <td>230782.180192</td>\n",
       "      <td>227622.254911</td>\n",
       "      <td>234723.086762</td>\n",
       "      <td>230237.666667</td>\n",
       "      <td>2016-06-01 12:00:00</td>\n",
       "    </tr>\n",
       "    <tr>\n",
       "      <th>32</th>\n",
       "      <td>2017-03-01</td>\n",
       "      <td>234015.490873</td>\n",
       "      <td>231268.812505</td>\n",
       "      <td>238317.296601</td>\n",
       "      <td>232575.074468</td>\n",
       "      <td>2016-06-01 12:00:00</td>\n",
       "    </tr>\n",
       "    <tr>\n",
       "      <th>33</th>\n",
       "      <td>2017-04-01</td>\n",
       "      <td>237080.516113</td>\n",
       "      <td>234197.163450</td>\n",
       "      <td>240609.658265</td>\n",
       "      <td>238247.010638</td>\n",
       "      <td>2016-06-01 12:00:00</td>\n",
       "    </tr>\n",
       "    <tr>\n",
       "      <th>34</th>\n",
       "      <td>2017-05-01</td>\n",
       "      <td>239205.583926</td>\n",
       "      <td>234947.425900</td>\n",
       "      <td>244617.248728</td>\n",
       "      <td>242251.585106</td>\n",
       "      <td>2016-06-01 12:00:00</td>\n",
       "    </tr>\n",
       "    <tr>\n",
       "      <th>35</th>\n",
       "      <td>2017-06-01</td>\n",
       "      <td>241781.862761</td>\n",
       "      <td>237061.839049</td>\n",
       "      <td>247756.946327</td>\n",
       "      <td>243275.840426</td>\n",
       "      <td>2016-06-01 12:00:00</td>\n",
       "    </tr>\n",
       "    <tr>\n",
       "      <th>36</th>\n",
       "      <td>2017-01-01</td>\n",
       "      <td>230446.743733</td>\n",
       "      <td>228361.874831</td>\n",
       "      <td>233048.094716</td>\n",
       "      <td>226262.927083</td>\n",
       "      <td>2016-12-01 00:00:00</td>\n",
       "    </tr>\n",
       "    <tr>\n",
       "      <th>37</th>\n",
       "      <td>2017-02-01</td>\n",
       "      <td>231215.405109</td>\n",
       "      <td>227992.850615</td>\n",
       "      <td>233168.910575</td>\n",
       "      <td>230237.666667</td>\n",
       "      <td>2016-12-01 00:00:00</td>\n",
       "    </tr>\n",
       "    <tr>\n",
       "      <th>38</th>\n",
       "      <td>2017-03-01</td>\n",
       "      <td>233693.268248</td>\n",
       "      <td>231350.708097</td>\n",
       "      <td>236094.334106</td>\n",
       "      <td>232575.074468</td>\n",
       "      <td>2016-12-01 00:00:00</td>\n",
       "    </tr>\n",
       "    <tr>\n",
       "      <th>39</th>\n",
       "      <td>2017-04-01</td>\n",
       "      <td>236493.438204</td>\n",
       "      <td>234280.419312</td>\n",
       "      <td>238345.646151</td>\n",
       "      <td>238247.010638</td>\n",
       "      <td>2016-12-01 00:00:00</td>\n",
       "    </tr>\n",
       "    <tr>\n",
       "      <th>40</th>\n",
       "      <td>2017-05-01</td>\n",
       "      <td>239192.433547</td>\n",
       "      <td>237178.180585</td>\n",
       "      <td>241186.771087</td>\n",
       "      <td>242251.585106</td>\n",
       "      <td>2016-12-01 00:00:00</td>\n",
       "    </tr>\n",
       "    <tr>\n",
       "      <th>41</th>\n",
       "      <td>2017-06-01</td>\n",
       "      <td>241250.588812</td>\n",
       "      <td>238829.653147</td>\n",
       "      <td>243771.502838</td>\n",
       "      <td>243275.840426</td>\n",
       "      <td>2016-12-01 00:00:00</td>\n",
       "    </tr>\n",
       "    <tr>\n",
       "      <th>42</th>\n",
       "      <td>2017-07-01</td>\n",
       "      <td>241284.614439</td>\n",
       "      <td>239301.846319</td>\n",
       "      <td>243647.481327</td>\n",
       "      <td>243501.765957</td>\n",
       "      <td>2016-12-01 00:00:00</td>\n",
       "    </tr>\n",
       "    <tr>\n",
       "      <th>43</th>\n",
       "      <td>2017-08-01</td>\n",
       "      <td>240292.196932</td>\n",
       "      <td>237187.074323</td>\n",
       "      <td>243146.860136</td>\n",
       "      <td>241460.319149</td>\n",
       "      <td>2016-12-01 00:00:00</td>\n",
       "    </tr>\n",
       "    <tr>\n",
       "      <th>44</th>\n",
       "      <td>2017-09-01</td>\n",
       "      <td>239891.187364</td>\n",
       "      <td>237635.702742</td>\n",
       "      <td>243381.240934</td>\n",
       "      <td>239093.097826</td>\n",
       "      <td>2016-12-01 00:00:00</td>\n",
       "    </tr>\n",
       "    <tr>\n",
       "      <th>45</th>\n",
       "      <td>2017-10-01</td>\n",
       "      <td>239302.804713</td>\n",
       "      <td>236345.064601</td>\n",
       "      <td>242881.425269</td>\n",
       "      <td>238629.880435</td>\n",
       "      <td>2016-12-01 00:00:00</td>\n",
       "    </tr>\n",
       "    <tr>\n",
       "      <th>46</th>\n",
       "      <td>2017-11-01</td>\n",
       "      <td>239187.830523</td>\n",
       "      <td>236087.504343</td>\n",
       "      <td>242923.659243</td>\n",
       "      <td>241296.595745</td>\n",
       "      <td>2016-12-01 00:00:00</td>\n",
       "    </tr>\n",
       "    <tr>\n",
       "      <th>47</th>\n",
       "      <td>2017-12-01</td>\n",
       "      <td>239273.961250</td>\n",
       "      <td>233708.745589</td>\n",
       "      <td>243524.198565</td>\n",
       "      <td>240001.574468</td>\n",
       "      <td>2016-12-01 00:00:00</td>\n",
       "    </tr>\n",
       "  </tbody>\n",
       "</table>\n",
       "</div>"
      ],
      "text/plain": [
       "           ds           yhat     yhat_lower     yhat_upper              y  \\\n",
       "0  2015-07-01  219888.649126  216419.771824  222791.674396  221424.854167   \n",
       "1  2015-08-01  220878.398479  217548.237416  225748.866821  220826.250000   \n",
       "2  2015-09-01  218278.737071  214822.652862  221457.261373  221118.937500   \n",
       "3  2015-10-01  221504.270041  218616.055937  224597.099386  220285.416667   \n",
       "4  2015-11-01  222330.584332  217143.164062  227441.354329  219672.531250   \n",
       "5  2015-12-01  219447.743787  216823.691346  223616.105389  217935.062500   \n",
       "6  2016-01-01  221205.178122  217902.585610  224974.048525  217671.854167   \n",
       "7  2016-02-01  222024.829713  218594.678124  225673.853296  218646.854167   \n",
       "8  2016-03-01  226044.405082  221872.737699  230650.312740  223582.625000   \n",
       "9  2016-04-01  227912.811907  222972.955802  233130.760015  228571.135417   \n",
       "10 2016-05-01  228474.591955  223590.235020  234815.418824  231081.875000   \n",
       "11 2016-06-01  233079.333647  227705.927683  239072.825570  232725.864583   \n",
       "12 2016-01-01  221885.065699  219026.454153  224940.855476  217671.854167   \n",
       "13 2016-02-01  222651.191183  220141.257530  226001.070034  218646.854167   \n",
       "14 2016-03-01  225367.950955  222071.599778  228083.127197  223582.625000   \n",
       "15 2016-04-01  228182.189245  225669.967402  231016.056025  228571.135417   \n",
       "16 2016-05-01  228735.596573  225496.651611  231372.180129  231081.875000   \n",
       "17 2016-06-01  234411.145039  231356.816445  238309.637433  232725.864583   \n",
       "18 2016-07-01  233477.054534  229340.545738  236526.191438  232432.916667   \n",
       "19 2016-08-01  232849.178891  228982.856165  236519.910793  230140.572917   \n",
       "20 2016-09-01  231457.055085  227932.166179  236602.004641  229994.281250   \n",
       "21 2016-10-01  230761.816706  227347.295123  236301.002186  230033.729167   \n",
       "22 2016-11-01  231447.981582  225684.925690  235754.404874  228616.166667   \n",
       "23 2016-12-01  234418.113670  229065.972832  239470.537619  226939.020833   \n",
       "24 2016-07-01  232197.447005  229404.793424  235023.800721  232432.916667   \n",
       "25 2016-08-01  230605.681139  228067.014702  233231.547949  230140.572917   \n",
       "26 2016-09-01  230671.108798  228193.391725  232601.059432  229994.281250   \n",
       "27 2016-10-01  228960.451407  226586.107662  231885.565342  230033.729167   \n",
       "28 2016-11-01  228601.960564  225496.214171  231993.663463  228616.166667   \n",
       "29 2016-12-01  231072.193318  229028.178707  234061.611008  226939.020833   \n",
       "30 2017-01-01  230257.407211  228043.348848  233677.622197  226262.927083   \n",
       "31 2017-02-01  230782.180192  227622.254911  234723.086762  230237.666667   \n",
       "32 2017-03-01  234015.490873  231268.812505  238317.296601  232575.074468   \n",
       "33 2017-04-01  237080.516113  234197.163450  240609.658265  238247.010638   \n",
       "34 2017-05-01  239205.583926  234947.425900  244617.248728  242251.585106   \n",
       "35 2017-06-01  241781.862761  237061.839049  247756.946327  243275.840426   \n",
       "36 2017-01-01  230446.743733  228361.874831  233048.094716  226262.927083   \n",
       "37 2017-02-01  231215.405109  227992.850615  233168.910575  230237.666667   \n",
       "38 2017-03-01  233693.268248  231350.708097  236094.334106  232575.074468   \n",
       "39 2017-04-01  236493.438204  234280.419312  238345.646151  238247.010638   \n",
       "40 2017-05-01  239192.433547  237178.180585  241186.771087  242251.585106   \n",
       "41 2017-06-01  241250.588812  238829.653147  243771.502838  243275.840426   \n",
       "42 2017-07-01  241284.614439  239301.846319  243647.481327  243501.765957   \n",
       "43 2017-08-01  240292.196932  237187.074323  243146.860136  241460.319149   \n",
       "44 2017-09-01  239891.187364  237635.702742  243381.240934  239093.097826   \n",
       "45 2017-10-01  239302.804713  236345.064601  242881.425269  238629.880435   \n",
       "46 2017-11-01  239187.830523  236087.504343  242923.659243  241296.595745   \n",
       "47 2017-12-01  239273.961250  233708.745589  243524.198565  240001.574468   \n",
       "\n",
       "                cutoff  \n",
       "0  2015-06-02 12:00:00  \n",
       "1  2015-06-02 12:00:00  \n",
       "2  2015-06-02 12:00:00  \n",
       "3  2015-06-02 12:00:00  \n",
       "4  2015-06-02 12:00:00  \n",
       "5  2015-06-02 12:00:00  \n",
       "6  2015-06-02 12:00:00  \n",
       "7  2015-06-02 12:00:00  \n",
       "8  2015-06-02 12:00:00  \n",
       "9  2015-06-02 12:00:00  \n",
       "10 2015-06-02 12:00:00  \n",
       "11 2015-06-02 12:00:00  \n",
       "12 2015-12-02 00:00:00  \n",
       "13 2015-12-02 00:00:00  \n",
       "14 2015-12-02 00:00:00  \n",
       "15 2015-12-02 00:00:00  \n",
       "16 2015-12-02 00:00:00  \n",
       "17 2015-12-02 00:00:00  \n",
       "18 2015-12-02 00:00:00  \n",
       "19 2015-12-02 00:00:00  \n",
       "20 2015-12-02 00:00:00  \n",
       "21 2015-12-02 00:00:00  \n",
       "22 2015-12-02 00:00:00  \n",
       "23 2015-12-02 00:00:00  \n",
       "24 2016-06-01 12:00:00  \n",
       "25 2016-06-01 12:00:00  \n",
       "26 2016-06-01 12:00:00  \n",
       "27 2016-06-01 12:00:00  \n",
       "28 2016-06-01 12:00:00  \n",
       "29 2016-06-01 12:00:00  \n",
       "30 2016-06-01 12:00:00  \n",
       "31 2016-06-01 12:00:00  \n",
       "32 2016-06-01 12:00:00  \n",
       "33 2016-06-01 12:00:00  \n",
       "34 2016-06-01 12:00:00  \n",
       "35 2016-06-01 12:00:00  \n",
       "36 2016-12-01 00:00:00  \n",
       "37 2016-12-01 00:00:00  \n",
       "38 2016-12-01 00:00:00  \n",
       "39 2016-12-01 00:00:00  \n",
       "40 2016-12-01 00:00:00  \n",
       "41 2016-12-01 00:00:00  \n",
       "42 2016-12-01 00:00:00  \n",
       "43 2016-12-01 00:00:00  \n",
       "44 2016-12-01 00:00:00  \n",
       "45 2016-12-01 00:00:00  \n",
       "46 2016-12-01 00:00:00  \n",
       "47 2016-12-01 00:00:00  "
      ]
     },
     "execution_count": 65,
     "metadata": {},
     "output_type": "execute_result"
    }
   ],
   "source": [
    "df_cv"
   ]
  },
  {
   "cell_type": "code",
   "execution_count": 66,
   "metadata": {},
   "outputs": [
    {
     "data": {
      "text/html": [
       "<div>\n",
       "<style scoped>\n",
       "    .dataframe tbody tr th:only-of-type {\n",
       "        vertical-align: middle;\n",
       "    }\n",
       "\n",
       "    .dataframe tbody tr th {\n",
       "        vertical-align: top;\n",
       "    }\n",
       "\n",
       "    .dataframe thead th {\n",
       "        text-align: right;\n",
       "    }\n",
       "</style>\n",
       "<table border=\"1\" class=\"dataframe\">\n",
       "  <thead>\n",
       "    <tr style=\"text-align: right;\">\n",
       "      <th></th>\n",
       "      <th>horizon</th>\n",
       "      <th>mse</th>\n",
       "      <th>rmse</th>\n",
       "      <th>mae</th>\n",
       "      <th>mape</th>\n",
       "      <th>mdape</th>\n",
       "      <th>smape</th>\n",
       "      <th>coverage</th>\n",
       "    </tr>\n",
       "  </thead>\n",
       "  <tbody>\n",
       "    <tr>\n",
       "      <th>count</th>\n",
       "      <td>31</td>\n",
       "      <td>3.100000e+01</td>\n",
       "      <td>31.000000</td>\n",
       "      <td>31.000000</td>\n",
       "      <td>31.000000</td>\n",
       "      <td>31.000000</td>\n",
       "      <td>31.000000</td>\n",
       "      <td>31.000000</td>\n",
       "    </tr>\n",
       "    <tr>\n",
       "      <th>mean</th>\n",
       "      <td>188 days 02:19:21.290322580</td>\n",
       "      <td>5.589147e+06</td>\n",
       "      <td>2261.212208</td>\n",
       "      <td>1944.479708</td>\n",
       "      <td>0.008529</td>\n",
       "      <td>0.008349</td>\n",
       "      <td>0.008500</td>\n",
       "      <td>0.810484</td>\n",
       "    </tr>\n",
       "    <tr>\n",
       "      <th>std</th>\n",
       "      <td>98 days 20:14:10.499994225</td>\n",
       "      <td>3.178710e+06</td>\n",
       "      <td>701.381261</td>\n",
       "      <td>566.800357</td>\n",
       "      <td>0.002514</td>\n",
       "      <td>0.003110</td>\n",
       "      <td>0.002487</td>\n",
       "      <td>0.201223</td>\n",
       "    </tr>\n",
       "    <tr>\n",
       "      <th>min</th>\n",
       "      <td>31 days 00:00:00</td>\n",
       "      <td>6.942595e+05</td>\n",
       "      <td>833.222340</td>\n",
       "      <td>806.457463</td>\n",
       "      <td>0.003440</td>\n",
       "      <td>0.003023</td>\n",
       "      <td>0.003442</td>\n",
       "      <td>0.500000</td>\n",
       "    </tr>\n",
       "    <tr>\n",
       "      <th>25%</th>\n",
       "      <td>106 days 00:00:00</td>\n",
       "      <td>3.302880e+06</td>\n",
       "      <td>1817.301970</td>\n",
       "      <td>1576.023616</td>\n",
       "      <td>0.007037</td>\n",
       "      <td>0.006396</td>\n",
       "      <td>0.007047</td>\n",
       "      <td>0.750000</td>\n",
       "    </tr>\n",
       "    <tr>\n",
       "      <th>50%</th>\n",
       "      <td>182 days 00:00:00</td>\n",
       "      <td>5.102067e+06</td>\n",
       "      <td>2258.775642</td>\n",
       "      <td>1956.171390</td>\n",
       "      <td>0.008736</td>\n",
       "      <td>0.008304</td>\n",
       "      <td>0.008704</td>\n",
       "      <td>0.750000</td>\n",
       "    </tr>\n",
       "    <tr>\n",
       "      <th>75%</th>\n",
       "      <td>258 days 12:00:00</td>\n",
       "      <td>8.525540e+06</td>\n",
       "      <td>2919.815499</td>\n",
       "      <td>2325.764218</td>\n",
       "      <td>0.010103</td>\n",
       "      <td>0.010691</td>\n",
       "      <td>0.010036</td>\n",
       "      <td>1.000000</td>\n",
       "    </tr>\n",
       "    <tr>\n",
       "      <th>max</th>\n",
       "      <td>365 days 00:00:00</td>\n",
       "      <td>1.470579e+07</td>\n",
       "      <td>3834.812913</td>\n",
       "      <td>2851.133069</td>\n",
       "      <td>0.012623</td>\n",
       "      <td>0.014001</td>\n",
       "      <td>0.012538</td>\n",
       "      <td>1.000000</td>\n",
       "    </tr>\n",
       "  </tbody>\n",
       "</table>\n",
       "</div>"
      ],
      "text/plain": [
       "                           horizon           mse         rmse          mae  \\\n",
       "count                           31  3.100000e+01    31.000000    31.000000   \n",
       "mean   188 days 02:19:21.290322580  5.589147e+06  2261.212208  1944.479708   \n",
       "std     98 days 20:14:10.499994225  3.178710e+06   701.381261   566.800357   \n",
       "min               31 days 00:00:00  6.942595e+05   833.222340   806.457463   \n",
       "25%              106 days 00:00:00  3.302880e+06  1817.301970  1576.023616   \n",
       "50%              182 days 00:00:00  5.102067e+06  2258.775642  1956.171390   \n",
       "75%              258 days 12:00:00  8.525540e+06  2919.815499  2325.764218   \n",
       "max              365 days 00:00:00  1.470579e+07  3834.812913  2851.133069   \n",
       "\n",
       "            mape      mdape      smape   coverage  \n",
       "count  31.000000  31.000000  31.000000  31.000000  \n",
       "mean    0.008529   0.008349   0.008500   0.810484  \n",
       "std     0.002514   0.003110   0.002487   0.201223  \n",
       "min     0.003440   0.003023   0.003442   0.500000  \n",
       "25%     0.007037   0.006396   0.007047   0.750000  \n",
       "50%     0.008736   0.008304   0.008704   0.750000  \n",
       "75%     0.010103   0.010691   0.010036   1.000000  \n",
       "max     0.012623   0.014001   0.012538   1.000000  "
      ]
     },
     "execution_count": 66,
     "metadata": {},
     "output_type": "execute_result"
    }
   ],
   "source": [
    "df_p = performance_metrics(df_cv)\n",
    "df_p.describe()"
   ]
  },
  {
   "cell_type": "code",
   "execution_count": 67,
   "metadata": {},
   "outputs": [
    {
     "data": {
      "image/png": "[encoded data removed]",
      "text/plain": [
       "<Figure size 720x432 with 1 Axes>"
      ]
     },
     "metadata": {},
     "output_type": "display_data"
    }
   ],
   "source": [
    "fig = plot_cross_validation_metric(df_cv, metric='rmse')"
   ]
  },
  {
   "cell_type": "code",
   "execution_count": 68,
   "metadata": {},
   "outputs": [
    {
     "name": "stdout",
     "output_type": "stream",
     "text": [
      "El RMSE es: 2258.7756424516815\n"
     ]
    }
   ],
   "source": [
    "print('El RMSE es:', df_p.rmse.median())"
   ]
  },
  {
   "cell_type": "code",
   "execution_count": 69,
   "metadata": {},
   "outputs": [],
   "source": [
    "df_p = performance_metrics(df_cv, rolling_window = 1)"
   ]
  },
  {
   "cell_type": "code",
   "execution_count": 70,
   "metadata": {},
   "outputs": [
    {
     "data": {
      "text/html": [
       "<div>\n",
       "<style scoped>\n",
       "    .dataframe tbody tr th:only-of-type {\n",
       "        vertical-align: middle;\n",
       "    }\n",
       "\n",
       "    .dataframe tbody tr th {\n",
       "        vertical-align: top;\n",
       "    }\n",
       "\n",
       "    .dataframe thead th {\n",
       "        text-align: right;\n",
       "    }\n",
       "</style>\n",
       "<table border=\"1\" class=\"dataframe\">\n",
       "  <thead>\n",
       "    <tr style=\"text-align: right;\">\n",
       "      <th></th>\n",
       "      <th>horizon</th>\n",
       "      <th>mse</th>\n",
       "      <th>rmse</th>\n",
       "      <th>mae</th>\n",
       "      <th>mape</th>\n",
       "      <th>mdape</th>\n",
       "      <th>smape</th>\n",
       "      <th>coverage</th>\n",
       "    </tr>\n",
       "  </thead>\n",
       "  <tbody>\n",
       "    <tr>\n",
       "      <th>0</th>\n",
       "      <td>365 days</td>\n",
       "      <td>5.788701e+06</td>\n",
       "      <td>2405.971849</td>\n",
       "      <td>1928.802606</td>\n",
       "      <td>0.008444</td>\n",
       "      <td>0.006939</td>\n",
       "      <td>0.008413</td>\n",
       "      <td>0.833333</td>\n",
       "    </tr>\n",
       "  </tbody>\n",
       "</table>\n",
       "</div>"
      ],
      "text/plain": [
       "   horizon           mse         rmse          mae      mape     mdape  \\\n",
       "0 365 days  5.788701e+06  2405.971849  1928.802606  0.008444  0.006939   \n",
       "\n",
       "      smape  coverage  \n",
       "0  0.008413  0.833333  "
      ]
     },
     "execution_count": 70,
     "metadata": {},
     "output_type": "execute_result"
    }
   ],
   "source": [
    "df_p"
   ]
  },
  {
   "cell_type": "code",
   "execution_count": 71,
   "metadata": {},
   "outputs": [
    {
     "data": {
      "text/html": [
       "<div>\n",
       "<style scoped>\n",
       "    .dataframe tbody tr th:only-of-type {\n",
       "        vertical-align: middle;\n",
       "    }\n",
       "\n",
       "    .dataframe tbody tr th {\n",
       "        vertical-align: top;\n",
       "    }\n",
       "\n",
       "    .dataframe thead th {\n",
       "        text-align: right;\n",
       "    }\n",
       "</style>\n",
       "<table border=\"1\" class=\"dataframe\">\n",
       "  <thead>\n",
       "    <tr style=\"text-align: right;\">\n",
       "      <th></th>\n",
       "      <th>ARIMA</th>\n",
       "      <th>SARIMA</th>\n",
       "      <th>PROPHET</th>\n",
       "    </tr>\n",
       "  </thead>\n",
       "  <tbody>\n",
       "    <tr>\n",
       "      <th>57</th>\n",
       "      <td>229994.28125</td>\n",
       "      <td>229160.760417</td>\n",
       "      <td>229202.152347</td>\n",
       "    </tr>\n",
       "    <tr>\n",
       "      <th>58</th>\n",
       "      <td>229994.28125</td>\n",
       "      <td>228547.875000</td>\n",
       "      <td>229197.409952</td>\n",
       "    </tr>\n",
       "    <tr>\n",
       "      <th>59</th>\n",
       "      <td>229994.28125</td>\n",
       "      <td>226810.406250</td>\n",
       "      <td>229521.957237</td>\n",
       "    </tr>\n",
       "    <tr>\n",
       "      <th>60</th>\n",
       "      <td>229994.28125</td>\n",
       "      <td>226547.197917</td>\n",
       "      <td>229305.171400</td>\n",
       "    </tr>\n",
       "    <tr>\n",
       "      <th>61</th>\n",
       "      <td>229994.28125</td>\n",
       "      <td>227522.197917</td>\n",
       "      <td>230163.294508</td>\n",
       "    </tr>\n",
       "    <tr>\n",
       "      <th>62</th>\n",
       "      <td>229994.28125</td>\n",
       "      <td>232457.968750</td>\n",
       "      <td>234080.459470</td>\n",
       "    </tr>\n",
       "    <tr>\n",
       "      <th>63</th>\n",
       "      <td>229994.28125</td>\n",
       "      <td>237446.479167</td>\n",
       "      <td>237225.903740</td>\n",
       "    </tr>\n",
       "    <tr>\n",
       "      <th>64</th>\n",
       "      <td>229994.28125</td>\n",
       "      <td>239957.218750</td>\n",
       "      <td>240033.160925</td>\n",
       "    </tr>\n",
       "    <tr>\n",
       "      <th>65</th>\n",
       "      <td>229994.28125</td>\n",
       "      <td>241601.208333</td>\n",
       "      <td>242176.968292</td>\n",
       "    </tr>\n",
       "    <tr>\n",
       "      <th>66</th>\n",
       "      <td>229994.28125</td>\n",
       "      <td>241308.260417</td>\n",
       "      <td>242252.756189</td>\n",
       "    </tr>\n",
       "    <tr>\n",
       "      <th>67</th>\n",
       "      <td>229994.28125</td>\n",
       "      <td>239015.916667</td>\n",
       "      <td>241086.443987</td>\n",
       "    </tr>\n",
       "    <tr>\n",
       "      <th>68</th>\n",
       "      <td>229994.28125</td>\n",
       "      <td>238869.625000</td>\n",
       "      <td>240345.095047</td>\n",
       "    </tr>\n",
       "    <tr>\n",
       "      <th>69</th>\n",
       "      <td>229994.28125</td>\n",
       "      <td>238036.104167</td>\n",
       "      <td>239862.070312</td>\n",
       "    </tr>\n",
       "    <tr>\n",
       "      <th>70</th>\n",
       "      <td>229994.28125</td>\n",
       "      <td>237423.218750</td>\n",
       "      <td>240163.079092</td>\n",
       "    </tr>\n",
       "    <tr>\n",
       "      <th>71</th>\n",
       "      <td>229994.28125</td>\n",
       "      <td>235685.750000</td>\n",
       "      <td>239694.140404</td>\n",
       "    </tr>\n",
       "  </tbody>\n",
       "</table>\n",
       "</div>"
      ],
      "text/plain": [
       "           ARIMA         SARIMA        PROPHET\n",
       "57  229994.28125  229160.760417  229202.152347\n",
       "58  229994.28125  228547.875000  229197.409952\n",
       "59  229994.28125  226810.406250  229521.957237\n",
       "60  229994.28125  226547.197917  229305.171400\n",
       "61  229994.28125  227522.197917  230163.294508\n",
       "62  229994.28125  232457.968750  234080.459470\n",
       "63  229994.28125  237446.479167  237225.903740\n",
       "64  229994.28125  239957.218750  240033.160925\n",
       "65  229994.28125  241601.208333  242176.968292\n",
       "66  229994.28125  241308.260417  242252.756189\n",
       "67  229994.28125  239015.916667  241086.443987\n",
       "68  229994.28125  238869.625000  240345.095047\n",
       "69  229994.28125  238036.104167  239862.070312\n",
       "70  229994.28125  237423.218750  240163.079092\n",
       "71  229994.28125  235685.750000  239694.140404"
      ]
     },
     "execution_count": 71,
     "metadata": {},
     "output_type": "execute_result"
    }
   ],
   "source": [
    "comp_pred['PROPHET'] = prophet_pred['yhat']\n",
    "comp_pred"
   ]
  },
  {
   "cell_type": "code",
   "execution_count": 72,
   "metadata": {},
   "outputs": [
    {
     "data": {
      "text/html": [
       "<div>\n",
       "<style scoped>\n",
       "    .dataframe tbody tr th:only-of-type {\n",
       "        vertical-align: middle;\n",
       "    }\n",
       "\n",
       "    .dataframe tbody tr th {\n",
       "        vertical-align: top;\n",
       "    }\n",
       "\n",
       "    .dataframe thead th {\n",
       "        text-align: right;\n",
       "    }\n",
       "</style>\n",
       "<table border=\"1\" class=\"dataframe\">\n",
       "  <thead>\n",
       "    <tr style=\"text-align: right;\">\n",
       "      <th></th>\n",
       "      <th>ARIMA</th>\n",
       "      <th>SAMRIMA</th>\n",
       "      <th>PROPHET</th>\n",
       "    </tr>\n",
       "  </thead>\n",
       "  <tbody>\n",
       "    <tr>\n",
       "      <th>MSE</th>\n",
       "      <td>7.505329e+07</td>\n",
       "      <td>4.118627e+06</td>\n",
       "      <td>5.788701e+06</td>\n",
       "    </tr>\n",
       "    <tr>\n",
       "      <th>RMSE</th>\n",
       "      <td>8.663330e+03</td>\n",
       "      <td>2.029440e+03</td>\n",
       "      <td>2.405972e+03</td>\n",
       "    </tr>\n",
       "    <tr>\n",
       "      <th>MAPE</th>\n",
       "      <td>3.025849e+00</td>\n",
       "      <td>6.301242e-01</td>\n",
       "      <td>8.444170e-03</td>\n",
       "    </tr>\n",
       "  </tbody>\n",
       "</table>\n",
       "</div>"
      ],
      "text/plain": [
       "             ARIMA       SAMRIMA       PROPHET\n",
       "MSE   7.505329e+07  4.118627e+06  5.788701e+06\n",
       "RMSE  8.663330e+03  2.029440e+03  2.405972e+03\n",
       "MAPE  3.025849e+00  6.301242e-01  8.444170e-03"
      ]
     },
     "execution_count": 72,
     "metadata": {},
     "output_type": "execute_result"
    }
   ],
   "source": [
    "comp_error['PROPHET'] = [df_p['mse'][0], df_p['rmse'][0], df_p['mape'][0]]\n",
    "comp_error"
   ]
  },
  {
   "cell_type": "markdown",
   "metadata": {},
   "source": [
    "---"
   ]
  },
  {
   "cell_type": "markdown",
   "metadata": {},
   "source": [
    "# LSTM"
   ]
  },
  {
   "cell_type": "code",
   "execution_count": 73,
   "metadata": {},
   "outputs": [],
   "source": [
    "from sklearn.preprocessing import MinMaxScaler\n",
    "from keras.preprocessing.sequence import TimeseriesGenerator\n",
    "from keras.models import Sequential\n",
    "from keras.layers import Dense\n",
    "from keras.layers import LSTM"
   ]
  },
  {
   "cell_type": "code",
   "execution_count": 74,
   "metadata": {},
   "outputs": [
    {
     "data": {
      "text/html": [
       "<div>\n",
       "<style scoped>\n",
       "    .dataframe tbody tr th:only-of-type {\n",
       "        vertical-align: middle;\n",
       "    }\n",
       "\n",
       "    .dataframe tbody tr th {\n",
       "        vertical-align: top;\n",
       "    }\n",
       "\n",
       "    .dataframe thead th {\n",
       "        text-align: right;\n",
       "    }\n",
       "</style>\n",
       "<table border=\"1\" class=\"dataframe\">\n",
       "  <thead>\n",
       "    <tr style=\"text-align: right;\">\n",
       "      <th></th>\n",
       "      <th>MedianListingPrice_AllHomes</th>\n",
       "    </tr>\n",
       "    <tr>\n",
       "      <th>Date</th>\n",
       "      <th></th>\n",
       "    </tr>\n",
       "  </thead>\n",
       "  <tbody>\n",
       "    <tr>\n",
       "      <th>2012-01-01</th>\n",
       "      <td>186217.290000</td>\n",
       "    </tr>\n",
       "    <tr>\n",
       "      <th>2012-02-01</th>\n",
       "      <td>186866.940000</td>\n",
       "    </tr>\n",
       "    <tr>\n",
       "      <th>2012-03-01</th>\n",
       "      <td>189243.830000</td>\n",
       "    </tr>\n",
       "    <tr>\n",
       "      <th>2012-04-01</th>\n",
       "      <td>190602.200000</td>\n",
       "    </tr>\n",
       "    <tr>\n",
       "      <th>2012-05-01</th>\n",
       "      <td>190900.500000</td>\n",
       "    </tr>\n",
       "    <tr>\n",
       "      <th>...</th>\n",
       "      <td>...</td>\n",
       "    </tr>\n",
       "    <tr>\n",
       "      <th>2017-08-01</th>\n",
       "      <td>241460.319149</td>\n",
       "    </tr>\n",
       "    <tr>\n",
       "      <th>2017-09-01</th>\n",
       "      <td>239093.097826</td>\n",
       "    </tr>\n",
       "    <tr>\n",
       "      <th>2017-10-01</th>\n",
       "      <td>238629.880435</td>\n",
       "    </tr>\n",
       "    <tr>\n",
       "      <th>2017-11-01</th>\n",
       "      <td>241296.595745</td>\n",
       "    </tr>\n",
       "    <tr>\n",
       "      <th>2017-12-01</th>\n",
       "      <td>240001.574468</td>\n",
       "    </tr>\n",
       "  </tbody>\n",
       "</table>\n",
       "<p>72 rows × 1 columns</p>\n",
       "</div>"
      ],
      "text/plain": [
       "            MedianListingPrice_AllHomes\n",
       "Date                                   \n",
       "2012-01-01                186217.290000\n",
       "2012-02-01                186866.940000\n",
       "2012-03-01                189243.830000\n",
       "2012-04-01                190602.200000\n",
       "2012-05-01                190900.500000\n",
       "...                                 ...\n",
       "2017-08-01                241460.319149\n",
       "2017-09-01                239093.097826\n",
       "2017-10-01                238629.880435\n",
       "2017-11-01                241296.595745\n",
       "2017-12-01                240001.574468\n",
       "\n",
       "[72 rows x 1 columns]"
      ]
     },
     "execution_count": 74,
     "metadata": {},
     "output_type": "execute_result"
    }
   ],
   "source": [
    "df_LSTM = pd.DataFrame(df_ts['MedianListingPrice_AllHomes'])\n",
    "df_LSTM"
   ]
  },
  {
   "cell_type": "code",
   "execution_count": 75,
   "metadata": {},
   "outputs": [],
   "source": [
    "size = int(len(df_LSTM) * 0.8)\n",
    "\n",
    "train_LSTM, test_LSTM = df_LSTM[0:size], df_LSTM[size:len(df_LSTM)]"
   ]
  },
  {
   "cell_type": "code",
   "execution_count": 76,
   "metadata": {},
   "outputs": [],
   "source": [
    "# Escalar los datos a un rango entre (-1,1) para favorecer el proceso de cálculo de la red neuronal\n",
    "scaler = MinMaxScaler(feature_range=(-1, 1))\n",
    "scaler.fit(train_LSTM)\n",
    "scaled_train_data = scaler.transform(train_LSTM)\n",
    "scaled_test_data = scaler.transform(test_LSTM)"
   ]
  },
  {
   "cell_type": "code",
   "execution_count": 77,
   "metadata": {},
   "outputs": [],
   "source": [
    "n_input = 12\n",
    "n_features= 1\n",
    "generator = TimeseriesGenerator(scaled_train_data, scaled_train_data, length=n_input, batch_size=1)"
   ]
  },
  {
   "cell_type": "code",
   "execution_count": 78,
   "metadata": {},
   "outputs": [
    {
     "name": "stdout",
     "output_type": "stream",
     "text": [
      "Model: \"sequential\"\n",
      "_________________________________________________________________\n",
      " Layer (type)                Output Shape              Param #   \n",
      "=================================================================\n",
      " lstm (LSTM)                 (None, 200)               161600    \n",
      "                                                                 \n",
      " dense (Dense)               (None, 1)                 201       \n",
      "                                                                 \n",
      "=================================================================\n",
      "Total params: 161,801\n",
      "Trainable params: 161,801\n",
      "Non-trainable params: 0\n",
      "_________________________________________________________________\n"
     ]
    }
   ],
   "source": [
    "LSTM_model = Sequential()\n",
    "LSTM_model.add(LSTM(200, input_shape=(n_input, n_features)))\n",
    "LSTM_model.add(Dense(1))\n",
    "LSTM_model.compile(loss='mse', optimizer='adam')\n",
    "LSTM_model.summary()"
   ]
  },
  {
   "cell_type": "code",
   "execution_count": 79,
   "metadata": {},
   "outputs": [
    {
     "name": "stdout",
     "output_type": "stream",
     "text": [
      "Epoch 1/25\n",
      "45/45 [==============================] - 1s 3ms/step - loss: 0.0572\n",
      "Epoch 2/25\n",
      "45/45 [==============================] - 0s 3ms/step - loss: 0.0301\n",
      "Epoch 3/25\n",
      "45/45 [==============================] - 0s 3ms/step - loss: 0.0314\n",
      "Epoch 4/25\n",
      "45/45 [==============================] - 0s 3ms/step - loss: 0.0273\n",
      "Epoch 5/25\n",
      "45/45 [==============================] - 0s 3ms/step - loss: 0.0250\n",
      "Epoch 6/25\n",
      "45/45 [==============================] - 0s 3ms/step - loss: 0.0196\n",
      "Epoch 7/25\n",
      "45/45 [==============================] - 0s 3ms/step - loss: 0.0270\n",
      "Epoch 8/25\n",
      "45/45 [==============================] - 0s 3ms/step - loss: 0.0211\n",
      "Epoch 9/25\n",
      "45/45 [==============================] - 0s 3ms/step - loss: 0.0208\n",
      "Epoch 10/25\n",
      "45/45 [==============================] - 0s 4ms/step - loss: 0.0166\n",
      "Epoch 11/25\n",
      "45/45 [==============================] - 0s 3ms/step - loss: 0.0215\n",
      "Epoch 12/25\n",
      "45/45 [==============================] - 0s 3ms/step - loss: 0.0130\n",
      "Epoch 13/25\n",
      "45/45 [==============================] - 0s 3ms/step - loss: 0.0117\n",
      "Epoch 14/25\n",
      "45/45 [==============================] - 0s 3ms/step - loss: 0.0082\n",
      "Epoch 15/25\n",
      "45/45 [==============================] - 0s 3ms/step - loss: 0.0093\n",
      "Epoch 16/25\n",
      "45/45 [==============================] - 0s 3ms/step - loss: 0.0077\n",
      "Epoch 17/25\n",
      "45/45 [==============================] - 0s 3ms/step - loss: 0.0087\n",
      "Epoch 18/25\n",
      "45/45 [==============================] - 0s 3ms/step - loss: 0.0066\n",
      "Epoch 19/25\n",
      "45/45 [==============================] - 0s 3ms/step - loss: 0.0069\n",
      "Epoch 20/25\n",
      "45/45 [==============================] - 0s 3ms/step - loss: 0.0092\n",
      "Epoch 21/25\n",
      "45/45 [==============================] - 0s 3ms/step - loss: 0.0065\n",
      "Epoch 22/25\n",
      "45/45 [==============================] - 0s 3ms/step - loss: 0.0077\n",
      "Epoch 23/25\n",
      "45/45 [==============================] - 0s 3ms/step - loss: 0.0091\n",
      "Epoch 24/25\n",
      "45/45 [==============================] - 0s 3ms/step - loss: 0.0060\n",
      "Epoch 25/25\n",
      "45/45 [==============================] - 0s 3ms/step - loss: 0.0061\n"
     ]
    },
    {
     "data": {
      "text/plain": [
       "<keras.callbacks.History at 0x1eedbe89b70>"
      ]
     },
     "execution_count": 79,
     "metadata": {},
     "output_type": "execute_result"
    }
   ],
   "source": [
    "LSTM_model.fit_generator(generator,epochs=25)"
   ]
  },
  {
   "cell_type": "code",
   "execution_count": 80,
   "metadata": {},
   "outputs": [
    {
     "data": {
      "image/png": "[encoded data removed]",
      "text/plain": [
       "<Figure size 1440x360 with 1 Axes>"
      ]
     },
     "metadata": {
      "needs_background": "light"
     },
     "output_type": "display_data"
    }
   ],
   "source": [
    "perdida_LSTM = LSTM_model.history.history['loss']\n",
    "plt.figure(figsize=(20,5))\n",
    "plt.xticks()\n",
    "plt.plot(range(len(perdida_LSTM)),perdida_LSTM);"
   ]
  },
  {
   "cell_type": "code",
   "execution_count": 81,
   "metadata": {},
   "outputs": [
    {
     "name": "stdout",
     "output_type": "stream",
     "text": [
      "1/1 [==============================] - 0s 249ms/step\n",
      "1/1 [==============================] - 0s 13ms/step\n",
      "1/1 [==============================] - 0s 12ms/step\n",
      "1/1 [==============================] - 0s 13ms/step\n",
      "1/1 [==============================] - 0s 12ms/step\n",
      "1/1 [==============================] - 0s 13ms/step\n",
      "1/1 [==============================] - 0s 13ms/step\n",
      "1/1 [==============================] - 0s 13ms/step\n",
      "1/1 [==============================] - 0s 13ms/step\n",
      "1/1 [==============================] - 0s 13ms/step\n",
      "1/1 [==============================] - 0s 13ms/step\n",
      "1/1 [==============================] - 0s 13ms/step\n",
      "1/1 [==============================] - 0s 13ms/step\n",
      "1/1 [==============================] - 0s 12ms/step\n",
      "1/1 [==============================] - 0s 13ms/step\n"
     ]
    }
   ],
   "source": [
    "LSTM_prediccion_scaled = list()\n",
    "\n",
    "batch = scaled_train_data[-n_input:]\n",
    "current_batch = batch.reshape((1, n_input, n_features))\n",
    "\n",
    "for i in range(len(test)):   \n",
    "    LSTM_pred = LSTM_model.predict(current_batch)[0]\n",
    "    LSTM_prediccion_scaled.append(LSTM_pred) \n",
    "    current_batch = np.append(current_batch[:,1:,:],[[LSTM_pred]],axis=1)"
   ]
  },
  {
   "cell_type": "code",
   "execution_count": 82,
   "metadata": {},
   "outputs": [],
   "source": [
    "LSTM_prediccion = scaler.inverse_transform(LSTM_prediccion_scaled)"
   ]
  },
  {
   "cell_type": "code",
   "execution_count": 83,
   "metadata": {},
   "outputs": [
    {
     "name": "stdout",
     "output_type": "stream",
     "text": [
      "MSE: 29707648.125572048\n",
      "RMSE: 5450.472284634796\n"
     ]
    }
   ],
   "source": [
    "MSE_LSTM = mean_squared_error(test_LSTM, LSTM_prediccion)\n",
    "RMSE_LSTM = np.sqrt(MSE_LSTM)\n",
    "\n",
    "print('MSE:', MSE_LSTM)\n",
    "print('RMSE:', RMSE_LSTM)"
   ]
  },
  {
   "cell_type": "code",
   "execution_count": 84,
   "metadata": {},
   "outputs": [
    {
     "name": "stdout",
     "output_type": "stream",
     "text": [
      "MAPE:  1.94 %\n"
     ]
    }
   ],
   "source": [
    "MAPE_LSTM = mape(test_LSTM, LSTM_prediccion) \n",
    "print('MAPE: ',round(MAPE_LSTM[0],2),'%')"
   ]
  },
  {
   "cell_type": "code",
   "execution_count": 85,
   "metadata": {},
   "outputs": [],
   "source": [
    "index_date_test = df_ts.tail(15).index"
   ]
  },
  {
   "cell_type": "code",
   "execution_count": 86,
   "metadata": {},
   "outputs": [],
   "source": [
    "df_pred_LSTM = pd.DataFrame(LSTM_prediccion, index= index_date_test)"
   ]
  },
  {
   "cell_type": "code",
   "execution_count": 87,
   "metadata": {},
   "outputs": [],
   "source": [
    "df_pred_LSTM.rename(columns = {0:'LSTM_pred'}, inplace=True)"
   ]
  },
  {
   "cell_type": "code",
   "execution_count": 88,
   "metadata": {},
   "outputs": [
    {
     "data": {
      "text/html": [
       "<div>\n",
       "<style scoped>\n",
       "    .dataframe tbody tr th:only-of-type {\n",
       "        vertical-align: middle;\n",
       "    }\n",
       "\n",
       "    .dataframe tbody tr th {\n",
       "        vertical-align: top;\n",
       "    }\n",
       "\n",
       "    .dataframe thead th {\n",
       "        text-align: right;\n",
       "    }\n",
       "</style>\n",
       "<table border=\"1\" class=\"dataframe\">\n",
       "  <thead>\n",
       "    <tr style=\"text-align: right;\">\n",
       "      <th></th>\n",
       "      <th>LSTM_pred</th>\n",
       "    </tr>\n",
       "    <tr>\n",
       "      <th>Date</th>\n",
       "      <th></th>\n",
       "    </tr>\n",
       "  </thead>\n",
       "  <tbody>\n",
       "    <tr>\n",
       "      <th>2016-10-01</th>\n",
       "      <td>228986.528522</td>\n",
       "    </tr>\n",
       "    <tr>\n",
       "      <th>2016-11-01</th>\n",
       "      <td>229660.504687</td>\n",
       "    </tr>\n",
       "    <tr>\n",
       "      <th>2016-12-01</th>\n",
       "      <td>232002.627720</td>\n",
       "    </tr>\n",
       "    <tr>\n",
       "      <th>2017-01-01</th>\n",
       "      <td>235557.134981</td>\n",
       "    </tr>\n",
       "    <tr>\n",
       "      <th>2017-02-01</th>\n",
       "      <td>239116.537819</td>\n",
       "    </tr>\n",
       "    <tr>\n",
       "      <th>2017-03-01</th>\n",
       "      <td>241460.213243</td>\n",
       "    </tr>\n",
       "    <tr>\n",
       "      <th>2017-04-01</th>\n",
       "      <td>242170.038556</td>\n",
       "    </tr>\n",
       "    <tr>\n",
       "      <th>2017-05-01</th>\n",
       "      <td>241642.275460</td>\n",
       "    </tr>\n",
       "    <tr>\n",
       "      <th>2017-06-01</th>\n",
       "      <td>240631.336161</td>\n",
       "    </tr>\n",
       "    <tr>\n",
       "      <th>2017-07-01</th>\n",
       "      <td>239971.927524</td>\n",
       "    </tr>\n",
       "    <tr>\n",
       "      <th>2017-08-01</th>\n",
       "      <td>240314.997653</td>\n",
       "    </tr>\n",
       "    <tr>\n",
       "      <th>2017-09-01</th>\n",
       "      <td>241896.970179</td>\n",
       "    </tr>\n",
       "    <tr>\n",
       "      <th>2017-10-01</th>\n",
       "      <td>244324.020096</td>\n",
       "    </tr>\n",
       "    <tr>\n",
       "      <th>2017-11-01</th>\n",
       "      <td>246719.905762</td>\n",
       "    </tr>\n",
       "    <tr>\n",
       "      <th>2017-12-01</th>\n",
       "      <td>248211.412692</td>\n",
       "    </tr>\n",
       "  </tbody>\n",
       "</table>\n",
       "</div>"
      ],
      "text/plain": [
       "                LSTM_pred\n",
       "Date                     \n",
       "2016-10-01  228986.528522\n",
       "2016-11-01  229660.504687\n",
       "2016-12-01  232002.627720\n",
       "2017-01-01  235557.134981\n",
       "2017-02-01  239116.537819\n",
       "2017-03-01  241460.213243\n",
       "2017-04-01  242170.038556\n",
       "2017-05-01  241642.275460\n",
       "2017-06-01  240631.336161\n",
       "2017-07-01  239971.927524\n",
       "2017-08-01  240314.997653\n",
       "2017-09-01  241896.970179\n",
       "2017-10-01  244324.020096\n",
       "2017-11-01  246719.905762\n",
       "2017-12-01  248211.412692"
      ]
     },
     "execution_count": 88,
     "metadata": {},
     "output_type": "execute_result"
    }
   ],
   "source": [
    "df_pred_LSTM"
   ]
  },
  {
   "cell_type": "code",
   "execution_count": 89,
   "metadata": {},
   "outputs": [
    {
     "data": {
      "image/png": "[encoded data removed]",
      "text/plain": [
       "<Figure size 800x500 with 1 Axes>"
      ]
     },
     "metadata": {
      "needs_background": "light"
     },
     "output_type": "display_data"
    }
   ],
   "source": [
    "# Plot\n",
    "plt.figure(figsize=(8,5), dpi=100)\n",
    "\n",
    "plt.plot(train_LSTM, label='training')\n",
    "plt.plot(df_pred_LSTM, label='forecast')\n",
    "plt.plot(test_LSTM, label='actual')\n",
    "plt.title('LSTM valores reales vs predicción')\n",
    "plt.legend(loc='lower right', fontsize=8)\n",
    "plt.show();"
   ]
  },
  {
   "cell_type": "code",
   "execution_count": 90,
   "metadata": {},
   "outputs": [
    {
     "data": {
      "text/html": [
       "<div>\n",
       "<style scoped>\n",
       "    .dataframe tbody tr th:only-of-type {\n",
       "        vertical-align: middle;\n",
       "    }\n",
       "\n",
       "    .dataframe tbody tr th {\n",
       "        vertical-align: top;\n",
       "    }\n",
       "\n",
       "    .dataframe thead th {\n",
       "        text-align: right;\n",
       "    }\n",
       "</style>\n",
       "<table border=\"1\" class=\"dataframe\">\n",
       "  <thead>\n",
       "    <tr style=\"text-align: right;\">\n",
       "      <th></th>\n",
       "      <th>ARIMA</th>\n",
       "      <th>SARIMA</th>\n",
       "      <th>PROPHET</th>\n",
       "      <th>LSTM</th>\n",
       "    </tr>\n",
       "  </thead>\n",
       "  <tbody>\n",
       "    <tr>\n",
       "      <th>57</th>\n",
       "      <td>229994.28125</td>\n",
       "      <td>229160.760417</td>\n",
       "      <td>229202.152347</td>\n",
       "      <td>228986.528522</td>\n",
       "    </tr>\n",
       "    <tr>\n",
       "      <th>58</th>\n",
       "      <td>229994.28125</td>\n",
       "      <td>228547.875000</td>\n",
       "      <td>229197.409952</td>\n",
       "      <td>228986.528522</td>\n",
       "    </tr>\n",
       "    <tr>\n",
       "      <th>59</th>\n",
       "      <td>229994.28125</td>\n",
       "      <td>226810.406250</td>\n",
       "      <td>229521.957237</td>\n",
       "      <td>228986.528522</td>\n",
       "    </tr>\n",
       "    <tr>\n",
       "      <th>60</th>\n",
       "      <td>229994.28125</td>\n",
       "      <td>226547.197917</td>\n",
       "      <td>229305.171400</td>\n",
       "      <td>228986.528522</td>\n",
       "    </tr>\n",
       "    <tr>\n",
       "      <th>61</th>\n",
       "      <td>229994.28125</td>\n",
       "      <td>227522.197917</td>\n",
       "      <td>230163.294508</td>\n",
       "      <td>228986.528522</td>\n",
       "    </tr>\n",
       "    <tr>\n",
       "      <th>62</th>\n",
       "      <td>229994.28125</td>\n",
       "      <td>232457.968750</td>\n",
       "      <td>234080.459470</td>\n",
       "      <td>228986.528522</td>\n",
       "    </tr>\n",
       "    <tr>\n",
       "      <th>63</th>\n",
       "      <td>229994.28125</td>\n",
       "      <td>237446.479167</td>\n",
       "      <td>237225.903740</td>\n",
       "      <td>228986.528522</td>\n",
       "    </tr>\n",
       "    <tr>\n",
       "      <th>64</th>\n",
       "      <td>229994.28125</td>\n",
       "      <td>239957.218750</td>\n",
       "      <td>240033.160925</td>\n",
       "      <td>228986.528522</td>\n",
       "    </tr>\n",
       "    <tr>\n",
       "      <th>65</th>\n",
       "      <td>229994.28125</td>\n",
       "      <td>241601.208333</td>\n",
       "      <td>242176.968292</td>\n",
       "      <td>228986.528522</td>\n",
       "    </tr>\n",
       "    <tr>\n",
       "      <th>66</th>\n",
       "      <td>229994.28125</td>\n",
       "      <td>241308.260417</td>\n",
       "      <td>242252.756189</td>\n",
       "      <td>228986.528522</td>\n",
       "    </tr>\n",
       "    <tr>\n",
       "      <th>67</th>\n",
       "      <td>229994.28125</td>\n",
       "      <td>239015.916667</td>\n",
       "      <td>241086.443987</td>\n",
       "      <td>228986.528522</td>\n",
       "    </tr>\n",
       "    <tr>\n",
       "      <th>68</th>\n",
       "      <td>229994.28125</td>\n",
       "      <td>238869.625000</td>\n",
       "      <td>240345.095047</td>\n",
       "      <td>228986.528522</td>\n",
       "    </tr>\n",
       "    <tr>\n",
       "      <th>69</th>\n",
       "      <td>229994.28125</td>\n",
       "      <td>238036.104167</td>\n",
       "      <td>239862.070312</td>\n",
       "      <td>228986.528522</td>\n",
       "    </tr>\n",
       "    <tr>\n",
       "      <th>70</th>\n",
       "      <td>229994.28125</td>\n",
       "      <td>237423.218750</td>\n",
       "      <td>240163.079092</td>\n",
       "      <td>228986.528522</td>\n",
       "    </tr>\n",
       "    <tr>\n",
       "      <th>71</th>\n",
       "      <td>229994.28125</td>\n",
       "      <td>235685.750000</td>\n",
       "      <td>239694.140404</td>\n",
       "      <td>228986.528522</td>\n",
       "    </tr>\n",
       "  </tbody>\n",
       "</table>\n",
       "</div>"
      ],
      "text/plain": [
       "           ARIMA         SARIMA        PROPHET           LSTM\n",
       "57  229994.28125  229160.760417  229202.152347  228986.528522\n",
       "58  229994.28125  228547.875000  229197.409952  228986.528522\n",
       "59  229994.28125  226810.406250  229521.957237  228986.528522\n",
       "60  229994.28125  226547.197917  229305.171400  228986.528522\n",
       "61  229994.28125  227522.197917  230163.294508  228986.528522\n",
       "62  229994.28125  232457.968750  234080.459470  228986.528522\n",
       "63  229994.28125  237446.479167  237225.903740  228986.528522\n",
       "64  229994.28125  239957.218750  240033.160925  228986.528522\n",
       "65  229994.28125  241601.208333  242176.968292  228986.528522\n",
       "66  229994.28125  241308.260417  242252.756189  228986.528522\n",
       "67  229994.28125  239015.916667  241086.443987  228986.528522\n",
       "68  229994.28125  238869.625000  240345.095047  228986.528522\n",
       "69  229994.28125  238036.104167  239862.070312  228986.528522\n",
       "70  229994.28125  237423.218750  240163.079092  228986.528522\n",
       "71  229994.28125  235685.750000  239694.140404  228986.528522"
      ]
     },
     "execution_count": 90,
     "metadata": {},
     "output_type": "execute_result"
    }
   ],
   "source": [
    "comp_pred['LSTM'] = df_pred_LSTM['LSTM_pred'][0]\n",
    "comp_pred"
   ]
  },
  {
   "cell_type": "code",
   "execution_count": 91,
   "metadata": {},
   "outputs": [
    {
     "data": {
      "text/html": [
       "<div>\n",
       "<style scoped>\n",
       "    .dataframe tbody tr th:only-of-type {\n",
       "        vertical-align: middle;\n",
       "    }\n",
       "\n",
       "    .dataframe tbody tr th {\n",
       "        vertical-align: top;\n",
       "    }\n",
       "\n",
       "    .dataframe thead th {\n",
       "        text-align: right;\n",
       "    }\n",
       "</style>\n",
       "<table border=\"1\" class=\"dataframe\">\n",
       "  <thead>\n",
       "    <tr style=\"text-align: right;\">\n",
       "      <th></th>\n",
       "      <th>ARIMA</th>\n",
       "      <th>SAMRIMA</th>\n",
       "      <th>PROPHET</th>\n",
       "      <th>LSTM</th>\n",
       "    </tr>\n",
       "  </thead>\n",
       "  <tbody>\n",
       "    <tr>\n",
       "      <th>MSE</th>\n",
       "      <td>7.505329e+07</td>\n",
       "      <td>4.118627e+06</td>\n",
       "      <td>5.788701e+06</td>\n",
       "      <td>2.970765e+07</td>\n",
       "    </tr>\n",
       "    <tr>\n",
       "      <th>RMSE</th>\n",
       "      <td>8.663330e+03</td>\n",
       "      <td>2.029440e+03</td>\n",
       "      <td>2.405972e+03</td>\n",
       "      <td>8.663330e+03</td>\n",
       "    </tr>\n",
       "    <tr>\n",
       "      <th>MAPE</th>\n",
       "      <td>3.025849e+00</td>\n",
       "      <td>6.301242e-01</td>\n",
       "      <td>8.444170e-03</td>\n",
       "      <td>1.937605e+00</td>\n",
       "    </tr>\n",
       "  </tbody>\n",
       "</table>\n",
       "</div>"
      ],
      "text/plain": [
       "             ARIMA       SAMRIMA       PROPHET          LSTM\n",
       "MSE   7.505329e+07  4.118627e+06  5.788701e+06  2.970765e+07\n",
       "RMSE  8.663330e+03  2.029440e+03  2.405972e+03  8.663330e+03\n",
       "MAPE  3.025849e+00  6.301242e-01  8.444170e-03  1.937605e+00"
      ]
     },
     "execution_count": 91,
     "metadata": {},
     "output_type": "execute_result"
    }
   ],
   "source": [
    "comp_error['LSTM'] = [MSE_LSTM, RMSE_arima, MAPE_LSTM[0]]\n",
    "comp_error"
   ]
  },
  {
   "cell_type": "markdown",
   "metadata": {},
   "source": [
    "---"
   ]
  },
  {
   "cell_type": "markdown",
   "metadata": {},
   "source": [
    "# - CONCLUSIÓN"
   ]
  },
  {
   "cell_type": "code",
   "execution_count": 92,
   "metadata": {},
   "outputs": [],
   "source": [
    "comp_pred['test'] = test['MedianListingPrice_AllHomes']"
   ]
  },
  {
   "cell_type": "markdown",
   "metadata": {},
   "source": [
    "### Predicciones"
   ]
  },
  {
   "cell_type": "code",
   "execution_count": 93,
   "metadata": {},
   "outputs": [
    {
     "data": {
      "text/html": [
       "<div>\n",
       "<style scoped>\n",
       "    .dataframe tbody tr th:only-of-type {\n",
       "        vertical-align: middle;\n",
       "    }\n",
       "\n",
       "    .dataframe tbody tr th {\n",
       "        vertical-align: top;\n",
       "    }\n",
       "\n",
       "    .dataframe thead th {\n",
       "        text-align: right;\n",
       "    }\n",
       "</style>\n",
       "<table border=\"1\" class=\"dataframe\">\n",
       "  <thead>\n",
       "    <tr style=\"text-align: right;\">\n",
       "      <th></th>\n",
       "      <th>ARIMA</th>\n",
       "      <th>SARIMA</th>\n",
       "      <th>PROPHET</th>\n",
       "      <th>LSTM</th>\n",
       "      <th>test</th>\n",
       "    </tr>\n",
       "  </thead>\n",
       "  <tbody>\n",
       "    <tr>\n",
       "      <th>57</th>\n",
       "      <td>229994.28125</td>\n",
       "      <td>229160.760417</td>\n",
       "      <td>229202.152347</td>\n",
       "      <td>228986.528522</td>\n",
       "      <td>230033.729167</td>\n",
       "    </tr>\n",
       "    <tr>\n",
       "      <th>58</th>\n",
       "      <td>229994.28125</td>\n",
       "      <td>228547.875000</td>\n",
       "      <td>229197.409952</td>\n",
       "      <td>228986.528522</td>\n",
       "      <td>228616.166667</td>\n",
       "    </tr>\n",
       "    <tr>\n",
       "      <th>59</th>\n",
       "      <td>229994.28125</td>\n",
       "      <td>226810.406250</td>\n",
       "      <td>229521.957237</td>\n",
       "      <td>228986.528522</td>\n",
       "      <td>226939.020833</td>\n",
       "    </tr>\n",
       "    <tr>\n",
       "      <th>60</th>\n",
       "      <td>229994.28125</td>\n",
       "      <td>226547.197917</td>\n",
       "      <td>229305.171400</td>\n",
       "      <td>228986.528522</td>\n",
       "      <td>226262.927083</td>\n",
       "    </tr>\n",
       "    <tr>\n",
       "      <th>61</th>\n",
       "      <td>229994.28125</td>\n",
       "      <td>227522.197917</td>\n",
       "      <td>230163.294508</td>\n",
       "      <td>228986.528522</td>\n",
       "      <td>230237.666667</td>\n",
       "    </tr>\n",
       "    <tr>\n",
       "      <th>62</th>\n",
       "      <td>229994.28125</td>\n",
       "      <td>232457.968750</td>\n",
       "      <td>234080.459470</td>\n",
       "      <td>228986.528522</td>\n",
       "      <td>232575.074468</td>\n",
       "    </tr>\n",
       "    <tr>\n",
       "      <th>63</th>\n",
       "      <td>229994.28125</td>\n",
       "      <td>237446.479167</td>\n",
       "      <td>237225.903740</td>\n",
       "      <td>228986.528522</td>\n",
       "      <td>238247.010638</td>\n",
       "    </tr>\n",
       "    <tr>\n",
       "      <th>64</th>\n",
       "      <td>229994.28125</td>\n",
       "      <td>239957.218750</td>\n",
       "      <td>240033.160925</td>\n",
       "      <td>228986.528522</td>\n",
       "      <td>242251.585106</td>\n",
       "    </tr>\n",
       "    <tr>\n",
       "      <th>65</th>\n",
       "      <td>229994.28125</td>\n",
       "      <td>241601.208333</td>\n",
       "      <td>242176.968292</td>\n",
       "      <td>228986.528522</td>\n",
       "      <td>243275.840426</td>\n",
       "    </tr>\n",
       "    <tr>\n",
       "      <th>66</th>\n",
       "      <td>229994.28125</td>\n",
       "      <td>241308.260417</td>\n",
       "      <td>242252.756189</td>\n",
       "      <td>228986.528522</td>\n",
       "      <td>243501.765957</td>\n",
       "    </tr>\n",
       "    <tr>\n",
       "      <th>67</th>\n",
       "      <td>229994.28125</td>\n",
       "      <td>239015.916667</td>\n",
       "      <td>241086.443987</td>\n",
       "      <td>228986.528522</td>\n",
       "      <td>241460.319149</td>\n",
       "    </tr>\n",
       "    <tr>\n",
       "      <th>68</th>\n",
       "      <td>229994.28125</td>\n",
       "      <td>238869.625000</td>\n",
       "      <td>240345.095047</td>\n",
       "      <td>228986.528522</td>\n",
       "      <td>239093.097826</td>\n",
       "    </tr>\n",
       "    <tr>\n",
       "      <th>69</th>\n",
       "      <td>229994.28125</td>\n",
       "      <td>238036.104167</td>\n",
       "      <td>239862.070312</td>\n",
       "      <td>228986.528522</td>\n",
       "      <td>238629.880435</td>\n",
       "    </tr>\n",
       "    <tr>\n",
       "      <th>70</th>\n",
       "      <td>229994.28125</td>\n",
       "      <td>237423.218750</td>\n",
       "      <td>240163.079092</td>\n",
       "      <td>228986.528522</td>\n",
       "      <td>241296.595745</td>\n",
       "    </tr>\n",
       "    <tr>\n",
       "      <th>71</th>\n",
       "      <td>229994.28125</td>\n",
       "      <td>235685.750000</td>\n",
       "      <td>239694.140404</td>\n",
       "      <td>228986.528522</td>\n",
       "      <td>240001.574468</td>\n",
       "    </tr>\n",
       "  </tbody>\n",
       "</table>\n",
       "</div>"
      ],
      "text/plain": [
       "           ARIMA         SARIMA        PROPHET           LSTM           test\n",
       "57  229994.28125  229160.760417  229202.152347  228986.528522  230033.729167\n",
       "58  229994.28125  228547.875000  229197.409952  228986.528522  228616.166667\n",
       "59  229994.28125  226810.406250  229521.957237  228986.528522  226939.020833\n",
       "60  229994.28125  226547.197917  229305.171400  228986.528522  226262.927083\n",
       "61  229994.28125  227522.197917  230163.294508  228986.528522  230237.666667\n",
       "62  229994.28125  232457.968750  234080.459470  228986.528522  232575.074468\n",
       "63  229994.28125  237446.479167  237225.903740  228986.528522  238247.010638\n",
       "64  229994.28125  239957.218750  240033.160925  228986.528522  242251.585106\n",
       "65  229994.28125  241601.208333  242176.968292  228986.528522  243275.840426\n",
       "66  229994.28125  241308.260417  242252.756189  228986.528522  243501.765957\n",
       "67  229994.28125  239015.916667  241086.443987  228986.528522  241460.319149\n",
       "68  229994.28125  238869.625000  240345.095047  228986.528522  239093.097826\n",
       "69  229994.28125  238036.104167  239862.070312  228986.528522  238629.880435\n",
       "70  229994.28125  237423.218750  240163.079092  228986.528522  241296.595745\n",
       "71  229994.28125  235685.750000  239694.140404  228986.528522  240001.574468"
      ]
     },
     "execution_count": 93,
     "metadata": {},
     "output_type": "execute_result"
    }
   ],
   "source": [
    "comp_pred"
   ]
  },
  {
   "cell_type": "markdown",
   "metadata": {},
   "source": [
    "### - Evaluacion de errores"
   ]
  },
  {
   "cell_type": "code",
   "execution_count": 94,
   "metadata": {},
   "outputs": [
    {
     "data": {
      "text/html": [
       "<div>\n",
       "<style scoped>\n",
       "    .dataframe tbody tr th:only-of-type {\n",
       "        vertical-align: middle;\n",
       "    }\n",
       "\n",
       "    .dataframe tbody tr th {\n",
       "        vertical-align: top;\n",
       "    }\n",
       "\n",
       "    .dataframe thead th {\n",
       "        text-align: right;\n",
       "    }\n",
       "</style>\n",
       "<table border=\"1\" class=\"dataframe\">\n",
       "  <thead>\n",
       "    <tr style=\"text-align: right;\">\n",
       "      <th></th>\n",
       "      <th>ARIMA</th>\n",
       "      <th>SAMRIMA</th>\n",
       "      <th>PROPHET</th>\n",
       "      <th>LSTM</th>\n",
       "    </tr>\n",
       "  </thead>\n",
       "  <tbody>\n",
       "    <tr>\n",
       "      <th>MSE</th>\n",
       "      <td>7.505329e+07</td>\n",
       "      <td>4.118627e+06</td>\n",
       "      <td>5.788701e+06</td>\n",
       "      <td>2.970765e+07</td>\n",
       "    </tr>\n",
       "    <tr>\n",
       "      <th>RMSE</th>\n",
       "      <td>8.663330e+03</td>\n",
       "      <td>2.029440e+03</td>\n",
       "      <td>2.405972e+03</td>\n",
       "      <td>8.663330e+03</td>\n",
       "    </tr>\n",
       "    <tr>\n",
       "      <th>MAPE</th>\n",
       "      <td>3.025849e+00</td>\n",
       "      <td>6.301242e-01</td>\n",
       "      <td>8.444170e-03</td>\n",
       "      <td>1.937605e+00</td>\n",
       "    </tr>\n",
       "  </tbody>\n",
       "</table>\n",
       "</div>"
      ],
      "text/plain": [
       "             ARIMA       SAMRIMA       PROPHET          LSTM\n",
       "MSE   7.505329e+07  4.118627e+06  5.788701e+06  2.970765e+07\n",
       "RMSE  8.663330e+03  2.029440e+03  2.405972e+03  8.663330e+03\n",
       "MAPE  3.025849e+00  6.301242e-01  8.444170e-03  1.937605e+00"
      ]
     },
     "execution_count": 94,
     "metadata": {},
     "output_type": "execute_result"
    }
   ],
   "source": [
    "comp_error"
   ]
  },
  {
   "cell_type": "markdown",
   "metadata": {},
   "source": [
    "- Al analizar los resultados de las métricas de evaluación y las gráficas de predicción se determina que los modelos SARIMA y Prophet son los que mejor ajustan al problema. Seleccionamos Prophet como modelo para nuestras predicciones."
   ]
  }
 ],
 "metadata": {
  "kernelspec": {
   "display_name": "Python 3.10.6 64-bit",
   "language": "python",
   "name": "python3"
  },
  "language_info": {
   "codemirror_mode": {
    "name": "ipython",
    "version": 3
   },
   "file_extension": ".py",
   "mimetype": "text/x-python",
   "name": "python",
   "nbconvert_exporter": "python",
   "pygments_lexer": "ipython3",
   "version": "3.10.6"
  },
  "orig_nbformat": 4,
  "vscode": {
   "interpreter": {
    "hash": "c63d8c7d738c2960218a10995aedf0a7f67a49a231e71037adf0440953cdb45b"
   }
  }
 },
 "nbformat": 4,
 "nbformat_minor": 2
}
